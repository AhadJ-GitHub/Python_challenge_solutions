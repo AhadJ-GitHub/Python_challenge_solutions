{
 "cells": [
  {
   "cell_type": "markdown",
   "metadata": {},
   "source": [
    "## Exercise 1\n",
    "\n",
    "İstifadəçidən 4 ədəd daxil etməsini tələb edin, müvafiq operatorlardan istifadə edərək bu ədədlərin cəmini hesablayın.\n",
    "Qeyd: nəzərə alın ki, istifadəçi ədəd daxil etməyə də bilər, bu zaman istifadəçi 4 ədəd daxil edənə qədər ondan yenidən istəmələsiniz.\n",
    "\n",
    "Məsələn:\n",
    "\n",
    "1, 3, 4, 6\n",
    "\n",
    "\n",
    "Sum: 14"
   ]
  },
  {
   "cell_type": "code",
   "execution_count": 13,
   "metadata": {},
   "outputs": [
    {
     "name": "stdout",
     "output_type": "stream",
     "text": [
      "eded daxil edin: 47\n",
      "eded daxil edin: 28\n",
      "eded daxil edin: 3\n",
      "eded daxil edin: k\n",
      "eded daxil edin: ]\n",
      "eded daxil edin: jhjh\n",
      "eded daxil edin: 9j\n",
      "eded daxil edin: 1\n",
      "Sum: 79\n"
     ]
    }
   ],
   "source": [
    "# your code\n",
    "Cem=0\n",
    "count=0\n",
    "while True:\n",
    "    eded=input('eded daxil edin: ')\n",
    "    if eded.isdigit():\n",
    "        Cem+=int(eded)\n",
    "    else:\n",
    "        continue\n",
    "    count+=1\n",
    "    if count>=4:\n",
    "        break\n",
    "print(f'Sum: {Cem}')"
   ]
  },
  {
   "cell_type": "markdown",
   "metadata": {},
   "source": [
    "## Exercise 2\n",
    "\n",
    "İstifadəçinin daxil etdiyi mətnin doğru avtomobil seriya nömrəsi olub olmadığını müəyyənləşdirən kod yazın. Doğru seriya nömrəsi ƏDƏD ƏDƏD TİRE HƏRF HƏRF TİRE ƏDƏD ƏDƏD ƏDƏD şəklində olmalıdır\n",
    "\n",
    "10-AA-252    -> dogru\n",
    "\n",
    "10-aa-252    -> yanlis\n",
    "\n",
    "10-AAA-252   -> yanlis"
   ]
  },
  {
   "cell_type": "code",
   "execution_count": 17,
   "metadata": {},
   "outputs": [
    {
     "name": "stdout",
     "output_type": "stream",
     "text": [
      "Avtomobil seriyasi daxil edin:\n",
      "99aCC-222\n",
      "yanlis\n",
      "Avtomobil seriyasi daxil edin:\n",
      "99-CCa222\n",
      "yanlis\n",
      "Avtomobil seriyasi daxil edin:\n",
      "99aCCa222\n",
      "yanlis\n",
      "Avtomobil seriyasi daxil edin:\n",
      "99-CC-222\n",
      "dogru\n"
     ]
    }
   ],
   "source": [
    "# your code\n",
    "while True:\n",
    "    sn=input('Avtomobil seriyasi daxil edin:\\n')\n",
    "    if len(sn)==9 and sn[:2].isdigit() and sn[3:5].isalpha() and sn[-1:-3:-1].isdigit() and sn[3:5].isupper() and sn[2]=='-' and sn[5]=='-':\n",
    "        print('dogru')\n",
    "        break\n",
    "    else:\n",
    "        print('yanlis')"
   ]
  },
  {
   "cell_type": "markdown",
   "metadata": {},
   "source": [
    "## Exercise 3\n",
    "\n",
    "Uşaq teatrı rəhbərliyi qrup şəklində gələn uşaqlar üçün endirim tətbiq edir. Endirim yaşlar üzrə bu şəkildədir, normal biletin qiyməti isə 10 azndir. Endirimlər yalnız iki və daha çox uşaq gəldikdə tətbiq edilə bilər.\n",
    "\n",
    "0-3 yaş    10 faiz\n",
    "\n",
    "4-8 yaş    8 faiz\n",
    "\n",
    "9-12 yaş    6 faiz\n",
    "\n",
    "\n",
    "İstifadəçidən ilk olaraq, qrupdakı uşaqların sayını soruşun. Daha sonra, bu sayı nəzərə alaraq yaşları daxil etməsini istəyin. Sonda ümumi qiyməti ekranda çap edin.\n"
   ]
  },
  {
   "cell_type": "code",
   "execution_count": 27,
   "metadata": {},
   "outputs": [
    {
     "name": "stdout",
     "output_type": "stream",
     "text": [
      "Uwaqlarin sayini daxil edin: 1\n",
      "Ummumi mebleg: 10 azn\n"
     ]
    }
   ],
   "source": [
    "# your code\n",
    "knum=input('Uwaqlarin sayini daxil edin: ')\n",
    "count=int(knum)+1\n",
    "usay=int(knum)\n",
    "price=0\n",
    "while count>=2:\n",
    "    count-=1\n",
    "    if usay>=2:\n",
    "        yash=int(input('Yasini daxil edin: '))\n",
    "        if yash<=3:\n",
    "            price+=0.9*10\n",
    "        elif yash<=8:\n",
    "            price+=0.92*10\n",
    "        elif yash<=12:\n",
    "            price+=0.94*10\n",
    "        else:\n",
    "            price+=1*10\n",
    "    else:\n",
    "        print(f'Ummumi mebleg: 10 azn')\n",
    "        break\n",
    "if price!=0:\n",
    "    print(f'Umumi mebleg: {price}')"
   ]
  },
  {
   "cell_type": "markdown",
   "metadata": {},
   "source": [
    "## Exercise 4\n",
    "\n",
    "İstifadəçidən bir ədəd daxil etməsini istəyin. Daxil edilən ədədi və tərsini ekrana çap edin.\n",
    "\n",
    "Məsələn: 523787 --> 787325"
   ]
  },
  {
   "cell_type": "code",
   "execution_count": 31,
   "metadata": {},
   "outputs": [
    {
     "name": "stdout",
     "output_type": "stream",
     "text": [
      "Bir eded daxil edin: 789\n",
      "789\n",
      "987\n"
     ]
    }
   ],
   "source": [
    "# your code\n",
    "eded=input('Bir eded daxil edin: ')\n",
    "print(f'{eded}')\n",
    "print(f'{eded[::-1]}')"
   ]
  },
  {
   "cell_type": "markdown",
   "metadata": {},
   "source": [
    "## Exercise 5\n",
    "\n",
    "İstifadəçidən bir söz daxil etməyini istəyin. Daxil edilən sözdə, kiçik a-nı böyük A-ya, böyük A-nı isə kiçik a-ya çevirin. Sözdə a\\A olmadığı təqdirdə isə, sözü olduğu kimi çap edin. \n",
    "\n",
    "Məsələn:\n",
    "\n",
    "AbrakAdAbra --> abrAkadabrA\n",
    "\n",
    "exercise --> exercise"
   ]
  },
  {
   "cell_type": "code",
   "execution_count": 22,
   "metadata": {},
   "outputs": [
    {
     "name": "stdout",
     "output_type": "stream",
     "text": [
      "Sozu daxil edin: SEEa789lAm\n",
      "SEEA789lam\n"
     ]
    }
   ],
   "source": [
    "# your code\n",
    "my_str = input('Sozu daxil edin: ')\n",
    "new_str = ''\n",
    "\n",
    "for i in my_str:\n",
    "    if i == 'a':\n",
    "        i = 'A'\n",
    "    elif i == 'A':\n",
    "        i = 'a'\n",
    "    new_str += i\n",
    "    \n",
    "print(new_str)"
   ]
  },
  {
   "cell_type": "markdown",
   "metadata": {},
   "source": [
    "\n",
    "\n"
   ]
  },
  {
   "cell_type": "markdown",
   "metadata": {},
   "source": [
    "## Case Study: Coffee shop\n",
    "\n",
    "Fərz edin ki, kiçik kofe dükanı üçün sadə çek çap etməyiniz tələb olunur. Kafedə kofe və desert satılır.\n",
    "\n",
    "Məhsullar üçün qiymətlər bu şəkildədir:\n",
    "\n",
    "Kofe = 1.5 azn\n",
    "\n",
    "Desert = 0.5 azn\n",
    "\n",
    "\n",
    "Əgər müştəri bu məhsullardan ancaq birini alarsa heç bir endirim tətbiq edilmir.\n",
    "\n",
    "Kofe + desert ikilisi üçün, həmçinin də hər birindən bir neçə ədəd aldıqda sondakı məbləğə 10 faiz endirim tətbiq edilir. \n",
    "\n",
    "\n",
    "Bir kombinasiya üçün kod hissəsi əvvəlcədən yazılmışdır. Siz isə, aşağıdakı koddan istifadə edərək, \n",
    "dövr və şərt operatorlarını tətbiq edib istifadəçidən (bu halda kassa işçisindən) müştərinin sifariş etdiyi yeməklərin adlarını daxil etməsini istəyəcəksiniz, nəticədə isə bu şəkildə çek çap etməlisiniz.\n",
    "\n",
    "Kassa işçisi yeməkləri olduğu kimi yazmalıdır: (kofe, desert), daha sonra saylarını bildirməlidir və yekun qiymət hesablanmalıdır.\n",
    "\n",
    "Bir müştəri məhsullardan istənilən sayda ala bilər. (məs: 3 kofe, 1 desert və ya  2 desert, 1 kofe) və s.\n"
   ]
  },
  {
   "cell_type": "code",
   "execution_count": null,
   "metadata": {},
   "outputs": [],
   "source": [
    "# your code"
   ]
  },
  {
   "cell_type": "code",
   "execution_count": 24,
   "metadata": {},
   "outputs": [
    {
     "name": "stdout",
     "output_type": "stream",
     "text": [
      "--------------------------------------------------\n",
      "Coffee shop\n",
      "617-566-5204\n",
      "--------------------------------------------------\n",
      "Qeyd: Sifarişi tamamlamaq üçün `End` deyə bilərsiniz.\n",
      "Sifarişinizi qeyd edin: kofe\n",
      "Zəhmət olmasa sayını qeyd edin: 5\n",
      "Sifarişinizi qeyd edin: End\n",
      "Sifaris\t\t Qiymət (ədəd)\t Say\n",
      "Kofe\t\t 1.5 azn \t  5\n",
      "**************************************************\n",
      "Ümumi:\t\t 6.75 azn\n",
      "**************************************************\n",
      "Çatdırılma üçün əlaqə: 617-566-5204\n",
      "**************************************************\n"
     ]
    }
   ],
   "source": [
    "restoran_ad = \"Coffee shop\"\n",
    "restoran_unvan = \"400 Brookline Ave, Boston, MA\"\n",
    "restoran_nomre = \"617-566-5204\"\n",
    "\n",
    "print(\"-\" * 50)\n",
    "print(restoran_ad)\n",
    "print(restoran_nomre)\n",
    "print(\"-\" * 50)\n",
    "\n",
    "\n",
    "# numune\n",
    "kofe_say = 1\n",
    "desert_say = 1\n",
    "\n",
    "# her ikisini alib deye 10 % endirim tetbiq edilmishdir\n",
    "kofe_desert_qiymet = (1*1.5 + 1*.5)*.9\n",
    "\n",
    "print(\"Qeyd: Sifarişi tamamlamaq üçün `End` deyə bilərsiniz.\")\n",
    "\n",
    "# your code\n",
    "\n",
    "sifarisler = ''\n",
    "kofe_qiymet = 0\n",
    "desert_qiymet = 0\n",
    "kofe_say = 0\n",
    "desert_say = 0\n",
    "\n",
    "while True:\n",
    "#     optional part\n",
    "    if (sifarisler == 'kofe, desert, ') or (sifarisler == 'desert, kofe, '):\n",
    "        break\n",
    "    \n",
    "    sifaris = input(\"Sifarişinizi qeyd edin: \").lower()\n",
    "    \n",
    "    if sifaris == \"end\":\n",
    "        break\n",
    "    \n",
    "#     optional part\n",
    "    while sifaris not in [\"kofe\", \"desert\"]:\n",
    "        sifaris = input(\"Bizdə yalnız kofe və desert mövcuddur. Sifarişinizi qeyd edin: \").lower()\n",
    "    \n",
    "    sifarisler += sifaris\n",
    "    sifarisler += \", \"\n",
    "\n",
    "    say = int(input(\"Zəhmət olmasa sayını qeyd edin: \"))\n",
    "    \n",
    "    if sifaris == \"kofe\":\n",
    "        kofe_say = say\n",
    "        kofe_qiymet = 1.5 * kofe_say\n",
    "    elif sifaris == \"desert\":\n",
    "        desert_say = say\n",
    "        desert_qiymet = 0.5 * desert_say\n",
    "    \n",
    "    total = kofe_qiymet + desert_qiymet\n",
    "\n",
    "    if ((\"kofe\" in sifarisler) and (\"desert\" in sifarisler)) or kofe_say > 1 or desert_say > 1:\n",
    "        total *= .9\n",
    "\n",
    "print(\"Sifaris\\t\\t Qiymət (ədəd)\\t Say\")\n",
    "if kofe_say == 0 and desert_say == 0:\n",
    "    print(\"Müştəri almaqdan imtina etdi\")\n",
    "elif desert_say == 0:\n",
    "    print(\"Kofe\\t\\t\" ,1.5, \"azn \\t \", kofe_say)\n",
    "elif kofe_say == 0:\n",
    "    print(\"Desert\\t\\t\" ,0.5, \"azn \\t \", desert_say)\n",
    "else:\n",
    "    print(\"Kofe\\t\\t\" ,1.5, \"azn \\t \", kofe_say)\n",
    "    print(\"Desert\\t\\t\" ,0.5, \"azn \\t \", desert_say)\n",
    "\n",
    "    \n",
    "print(\"*\" * 50)\n",
    "print(\"Ümumi:\\t\\t\", total, \"azn\")\n",
    "print(\"*\" * 50)\n",
    "print(\"Çatdırılma üçün əlaqə:\", restoran_nomre)\n",
    "print(\"*\" * 50)"
   ]
  },
  {
   "cell_type": "code",
   "execution_count": null,
   "metadata": {},
   "outputs": [],
   "source": []
  }
 ],
 "metadata": {
  "kernelspec": {
   "display_name": "Python 3",
   "language": "python",
   "name": "python3"
  },
  "language_info": {
   "codemirror_mode": {
    "name": "ipython",
    "version": 3
   },
   "file_extension": ".py",
   "mimetype": "text/x-python",
   "name": "python",
   "nbconvert_exporter": "python",
   "pygments_lexer": "ipython3",
   "version": "3.8.8"
  }
 },
 "nbformat": 4,
 "nbformat_minor": 4
}
