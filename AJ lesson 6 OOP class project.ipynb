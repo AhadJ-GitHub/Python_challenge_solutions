{
 "cells": [
  {
   "cell_type": "code",
   "execution_count": 129,
   "id": "6f92f4c1",
   "metadata": {},
   "outputs": [],
   "source": [
    "class StudentManagementSystem:\n",
    "    def __init__(self):\n",
    "        self.dicct={'StName': [], 'StNumber': [],'StMark1': [],'StMark2': []}\n",
    "    def accept(self, name, number, mark1, mark2):\n",
    "        self.dicct['StName'].append(name)\n",
    "        self.dicct['StNumber'].append(number)\n",
    "        self.dicct['StMark1'].append(mark1)\n",
    "        self.dicct['StMark2'].append(mark2)\n",
    "    def display(self):\n",
    "        print('List of students\\n')\n",
    "        for i in range(0,len(self.dicct['StName'])):\n",
    "            for k,v in self.dicct.items():\n",
    "                print(f'{k}: {v[i]}')\n",
    "            print('\\n')\n",
    "    def search_st(self, nm):\n",
    "        if nm in self.dicct['StNumber']:\n",
    "            print('Student found,\\n')\n",
    "            index1=self.dicct['StNumber'].index(nm)\n",
    "            for k,v in self.dicct.items():\n",
    "                print(f'{k}: {v[index1]}')\n",
    "        else:\n",
    "            print('Student not found')\n",
    "    def delete_st(self, snm):\n",
    "        try:\n",
    "            index2=self.dicct['StNumber'].index(snm)\n",
    "            print(\"WARNING: The deletion is IN-PLACE! You will not be able to modify that student's details unless you run the class code again.\\n\")\n",
    "        except ValueError:\n",
    "            print('Deletion was not successful. No student with such a number!')\n",
    "        else:\n",
    "            print('Deletion was successful. After deletion:\\n')\n",
    "            for k,v in self.dicct.items():\n",
    "                del self.dicct[k][index2]\n",
    "            self.display()\n",
    "    def update_st(self, oldnm, newnm):\n",
    "        try:\n",
    "            index3=self.dicct['StNumber'].index(oldnm)\n",
    "            print(\"WARNING: The update is IN-PLACE! You will need to use the new student number to be able to modify that student's details unless you run the class code again.\\n\")\n",
    "        except ValueError:\n",
    "            print('Update was not successful. No student with such a number!')\n",
    "        else:\n",
    "            self.dicct['StNumber'][index3]=newnm\n",
    "            print('Update was successful. After update:\\n')\n",
    "            self.display()"
   ]
  },
  {
   "cell_type": "code",
   "execution_count": 130,
   "id": "632857c5",
   "metadata": {},
   "outputs": [],
   "source": [
    "a=StudentManagementSystem()"
   ]
  },
  {
   "cell_type": "code",
   "execution_count": 131,
   "id": "9fa46969",
   "metadata": {},
   "outputs": [],
   "source": [
    "a.accept(\"A\", 1, 100, 100)\n",
    "a.accept(\"B\", 2, 90, 90)\n",
    "a.accept(\"C\", 3, 80, 80)"
   ]
  },
  {
   "cell_type": "code",
   "execution_count": 132,
   "id": "9e13510c",
   "metadata": {},
   "outputs": [
    {
     "name": "stdout",
     "output_type": "stream",
     "text": [
      "List of students\n",
      "\n",
      "StName: A\n",
      "StNumber: 1\n",
      "StMark1: 100\n",
      "StMark2: 100\n",
      "\n",
      "\n",
      "StName: B\n",
      "StNumber: 2\n",
      "StMark1: 90\n",
      "StMark2: 90\n",
      "\n",
      "\n",
      "StName: C\n",
      "StNumber: 3\n",
      "StMark1: 80\n",
      "StMark2: 80\n",
      "\n",
      "\n"
     ]
    }
   ],
   "source": [
    "a.display()"
   ]
  },
  {
   "cell_type": "code",
   "execution_count": 133,
   "id": "2db350c0",
   "metadata": {},
   "outputs": [
    {
     "name": "stdout",
     "output_type": "stream",
     "text": [
      "Student found,\n",
      "\n",
      "StName: C\n",
      "StNumber: 3\n",
      "StMark1: 80\n",
      "StMark2: 80\n"
     ]
    }
   ],
   "source": [
    "a.search_st(3)"
   ]
  },
  {
   "cell_type": "code",
   "execution_count": 134,
   "id": "418d67ae",
   "metadata": {},
   "outputs": [
    {
     "name": "stdout",
     "output_type": "stream",
     "text": [
      "WARNING: The deletion is IN-PLACE! You will not be able to modify that student's details unless you run the class code again.\n",
      "\n",
      "Deletion was successful. After deletion:\n",
      "\n",
      "List of students\n",
      "\n",
      "StName: A\n",
      "StNumber: 1\n",
      "StMark1: 100\n",
      "StMark2: 100\n",
      "\n",
      "\n",
      "StName: C\n",
      "StNumber: 3\n",
      "StMark1: 80\n",
      "StMark2: 80\n",
      "\n",
      "\n"
     ]
    }
   ],
   "source": [
    "a.delete_st(2)"
   ]
  },
  {
   "cell_type": "code",
   "execution_count": 135,
   "id": "849e4320",
   "metadata": {},
   "outputs": [
    {
     "name": "stdout",
     "output_type": "stream",
     "text": [
      "WARNING: The update is IN-PLACE! You will need to use the new student number to be able to modify that student's details unless you run the class code again.\n",
      "\n",
      "Update was successful. After update:\n",
      "\n",
      "List of students\n",
      "\n",
      "StName: A\n",
      "StNumber: 1\n",
      "StMark1: 100\n",
      "StMark2: 100\n",
      "\n",
      "\n",
      "StName: C\n",
      "StNumber: 2\n",
      "StMark1: 80\n",
      "StMark2: 80\n",
      "\n",
      "\n"
     ]
    }
   ],
   "source": [
    "a.update_st(3,2)"
   ]
  },
  {
   "cell_type": "code",
   "execution_count": null,
   "id": "f4f3852c",
   "metadata": {},
   "outputs": [],
   "source": []
  }
 ],
 "metadata": {
  "kernelspec": {
   "display_name": "Python 3",
   "language": "python",
   "name": "python3"
  },
  "language_info": {
   "codemirror_mode": {
    "name": "ipython",
    "version": 3
   },
   "file_extension": ".py",
   "mimetype": "text/x-python",
   "name": "python",
   "nbconvert_exporter": "python",
   "pygments_lexer": "ipython3",
   "version": "3.8.8"
  }
 },
 "nbformat": 4,
 "nbformat_minor": 5
}
