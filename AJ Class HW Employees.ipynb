{
 "cells": [
  {
   "cell_type": "code",
   "execution_count": 4,
   "id": "aa041622",
   "metadata": {},
   "outputs": [],
   "source": [
    "class ProjectIncome:\n",
    "    def __init__(self,prj_income):\n",
    "        self.WORK_DAYS=20\n",
    "        self.prj_income=prj_income\n",
    "        \n",
    "class Store:\n",
    "    employees=[]\n",
    "        \n",
    "    def addtolist(self, pos, days):\n",
    "        self.employees.append(pos)\n",
    "        self.employees.append(days)\n",
    "        return self.employees\n",
    "\n",
    "class Employee(Store):\n",
    "    def __init__(self, position, w_days):\n",
    "        self.position=position\n",
    "        self.w_days=w_days\n",
    "        self.addtolist(self.position,self.w_days)\n",
    "        \n",
    "    def calculate_salary(self, project_income):\n",
    "        if len(self.employees)>=4:\n",
    "            if self.employees[0].upper()=='JUNIOR' and self.employees[2].upper()=='JUNIOR':\n",
    "                income_per_day=project_income.prj_income/(self.employees[1]+self.employees[3])\n",
    "                print(f'Employee 1: {self.employees[0]} {income_per_day*self.employees[1]}')\n",
    "                print(f'Employee 2: {self.employees[2]} {income_per_day*self.employees[3]}')\n",
    "            elif self.employees[0].upper()=='SENIOR' and self.employees[2].upper()=='SENIOR':\n",
    "                income_per_day=project_income.prj_income/(self.employees[1]+self.employees[3])\n",
    "                print(f'Employee 1: {self.employees[0]} {income_per_day*self.employees[1]}')\n",
    "                print(f'Employee 2: {self.employees[2]} {income_per_day*self.employees[3]}')\n",
    "            elif self.employees[0].upper()=='JUNIOR' and self.employees[2].upper()=='SENIOR':\n",
    "                income_per_day=project_income.prj_income/(self.employees[1]+2*self.employees[3])\n",
    "                print(f'Employee 1: {self.employees[0]} {income_per_day*self.employees[1]}')\n",
    "                print(f'Employee 2: {self.employees[2]} {income_per_day*2*self.employees[3]}')\n",
    "            elif self.employees[0].upper()=='SENIOR' and self.employees[2].upper()=='JUNIOR':\n",
    "                income_per_day=project_income.prj_income/(2*self.employees[1]+self.employees[3])\n",
    "                print(f'Employee 1: {self.employees[0]} {income_per_day*2*self.employees[1]}')\n",
    "                print(f'Employee 2: {self.employees[2]} {income_per_day*self.employees[3]}')"
   ]
  },
  {
   "cell_type": "code",
   "execution_count": 5,
   "id": "46137637",
   "metadata": {},
   "outputs": [],
   "source": [
    "my_project = ProjectIncome(3000)\n",
    "emp1 = Employee('Senior', 10)\n",
    "emp2 = Employee('Junior', 10)"
   ]
  },
  {
   "cell_type": "code",
   "execution_count": 6,
   "id": "7f405205",
   "metadata": {
    "scrolled": false
   },
   "outputs": [
    {
     "name": "stdout",
     "output_type": "stream",
     "text": [
      "Employee 1: Senior 2000.0\n",
      "Employee 2: Junior 1000.0\n"
     ]
    }
   ],
   "source": [
    "emp1.calculate_salary(project_income=my_project)"
   ]
  },
  {
   "cell_type": "code",
   "execution_count": null,
   "id": "f6074f84",
   "metadata": {},
   "outputs": [],
   "source": [
    "# class A:\n",
    "#     my_list = []\n",
    "        \n",
    "#     def add_person(self, pos, day):\n",
    "#         self.my_list.append(pos)\n",
    "#         self.my_list.append(day)\n",
    "        \n",
    "# class B(A):\n",
    "#     def __init__(self, pos, day):\n",
    "#         self.add_person(pos, day)\n",
    "        \n",
    "    \n",
    "# x = B('junior', 3)\n",
    "# y = B('senior', 5)\n",
    "# y.my_list"
   ]
  }
 ],
 "metadata": {
  "kernelspec": {
   "display_name": "Python 3",
   "language": "python",
   "name": "python3"
  },
  "language_info": {
   "codemirror_mode": {
    "name": "ipython",
    "version": 3
   },
   "file_extension": ".py",
   "mimetype": "text/x-python",
   "name": "python",
   "nbconvert_exporter": "python",
   "pygments_lexer": "ipython3",
   "version": "3.8.8"
  }
 },
 "nbformat": 4,
 "nbformat_minor": 5
}
