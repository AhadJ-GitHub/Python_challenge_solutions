{
 "cells": [
  {
   "cell_type": "code",
   "execution_count": 1,
   "id": "1b020405",
   "metadata": {},
   "outputs": [],
   "source": [
    "import numpy as np\n",
    "import pandas as pd \n",
    "import matplotlib.pyplot as plt\n",
    "import seaborn as sns \n",
    "%matplotlib inline"
   ]
  },
  {
   "cell_type": "code",
   "execution_count": 132,
   "id": "4956cf7a",
   "metadata": {},
   "outputs": [
    {
     "data": {
      "text/plain": [
       "'Python is name my '"
      ]
     },
     "execution_count": 132,
     "metadata": {},
     "output_type": "execute_result"
    }
   ],
   "source": [
    "# Task 1\n",
    "str = \"my name is Python\"\n",
    "revstr=str.split()\n",
    "x=0\n",
    "for word in revstr:\n",
    "    revstr[x]=revstr[x]+' '\n",
    "    x+=1\n",
    "newstr=''.join(revstr[::-1])\n",
    "str=newstr\n",
    "str"
   ]
  },
  {
   "cell_type": "code",
   "execution_count": 154,
   "id": "b2252769",
   "metadata": {},
   "outputs": [
    {
     "data": {
      "text/plain": [
       "[1, 2, 3, 4, 5, 6]"
      ]
     },
     "execution_count": 154,
     "metadata": {},
     "output_type": "execute_result"
    }
   ],
   "source": [
    "# Task 2 a)\n",
    "d={2: 56, 1: 2, 5: 12, 4: 24, 6: 18, 3: 323}\n",
    "sorteddict=sorted(d)\n",
    "sorteddict"
   ]
  },
  {
   "cell_type": "code",
   "execution_count": 155,
   "id": "59640a59",
   "metadata": {},
   "outputs": [
    {
     "data": {
      "text/plain": [
       "{1: 2, 5: 12, 6: 18, 4: 24, 2: 56, 3: 323}"
      ]
     },
     "execution_count": 155,
     "metadata": {},
     "output_type": "execute_result"
    }
   ],
   "source": [
    "# Task 2 b)\n",
    "d={2: 56, 1: 2, 5: 12, 4: 24, 6: 18, 3: 323}\n",
    "sorteddict2=sorted(d.items(),key=lambda x: x[1])\n",
    "dict(sorteddict2)"
   ]
  },
  {
   "cell_type": "code",
   "execution_count": 167,
   "id": "ed1e167b",
   "metadata": {},
   "outputs": [
    {
     "data": {
      "text/plain": [
       "[3, 2, 1]"
      ]
     },
     "execution_count": 167,
     "metadata": {},
     "output_type": "execute_result"
    }
   ],
   "source": [
    "# Task 3\n",
    "list1=[1,2,3]\n",
    "list2=[1,2,3]\n",
    "list1[-1]=list2[0]\n",
    "list1[0]=list2[-1]\n",
    "list1"
   ]
  },
  {
   "cell_type": "code",
   "execution_count": 179,
   "id": "e2fc14ea",
   "metadata": {},
   "outputs": [
    {
     "data": {
      "text/plain": [
       "2.5"
      ]
     },
     "execution_count": 179,
     "metadata": {},
     "output_type": "execute_result"
    }
   ],
   "source": [
    "# Task 4\n",
    "def ededorta(lista):\n",
    "    count=0\n",
    "    suum=0\n",
    "    for x in lista:\n",
    "        summa=x\n",
    "        count+=1\n",
    "        suum=suum+summa\n",
    "    return suum/count\n",
    "ededorta([1,2,3,4])"
   ]
  },
  {
   "cell_type": "code",
   "execution_count": 184,
   "id": "2e6765b7",
   "metadata": {},
   "outputs": [
    {
     "name": "stdout",
     "output_type": "stream",
     "text": [
      "Maximum value is 323\n",
      "Minimum value is 2\n"
     ]
    }
   ],
   "source": [
    "# Task 5\n",
    "dic={2: 56, 1: 2, 5: 12, 4: 24, 6: 18, 3: 323}\n",
    "max_val=max(dic.keys(),key=(lambda x: dic[x]))\n",
    "print('Maximum value is',dic[max_val])\n",
    "min_val=min(dic.keys(),key=(lambda y: dic[y]))\n",
    "print('Minimum value is',dic[min_val])"
   ]
  },
  {
   "cell_type": "code",
   "execution_count": 193,
   "id": "38f41345",
   "metadata": {},
   "outputs": [
    {
     "name": "stdout",
     "output_type": "stream",
     "text": [
      "Maximum and minimum values are 56 and 6,respectively\n"
     ]
    }
   ],
   "source": [
    "# Task 5 another solution\n",
    "def maxemin(diic):\n",
    "    max_val=max(diic.keys(),key=(lambda x: diic[x]))\n",
    "    min_val=min(diic.keys(),key=(lambda y: diic[y]))\n",
    "    return print('Maximum and minimum values are {} and {},respectively'.format(diic[max_val],diic[min_val]))\n",
    "maxemin({'a': 56, 'b': 6, 'c': 12, 'd': 24, 'e': 18, 'f': 32})"
   ]
  },
  {
   "cell_type": "code",
   "execution_count": 198,
   "id": "beec19b4",
   "metadata": {},
   "outputs": [
    {
     "data": {
      "text/plain": [
       "25"
      ]
     },
     "execution_count": 198,
     "metadata": {},
     "output_type": "execute_result"
    }
   ],
   "source": [
    "# Task 6\n",
    "def topower(n,p):\n",
    "    return n**p\n",
    "topower(5,2)"
   ]
  },
  {
   "cell_type": "code",
   "execution_count": 201,
   "id": "0e5c79ea",
   "metadata": {},
   "outputs": [
    {
     "name": "stdout",
     "output_type": "stream",
     "text": [
      "['p1', 'q1', 'p2', 'q2', 'p3', 'q3', 'p4', 'q4', 'p5', 'q5']\n"
     ]
    }
   ],
   "source": [
    "# Task 7\n",
    "listmm=['p','q']\n",
    "n=5\n",
    "newmm=['{}{}'.format(a,b) for b in range(1,n+1) for a in listmm]\n",
    "print(newmm)"
   ]
  },
  {
   "cell_type": "code",
   "execution_count": null,
   "id": "80ac44d0",
   "metadata": {},
   "outputs": [],
   "source": [
    "# Task 8\n",
    "# Could not find some time to think about a possible solution"
   ]
  }
 ],
 "metadata": {
  "kernelspec": {
   "display_name": "Python 3",
   "language": "python",
   "name": "python3"
  },
  "language_info": {
   "codemirror_mode": {
    "name": "ipython",
    "version": 3
   },
   "file_extension": ".py",
   "mimetype": "text/x-python",
   "name": "python",
   "nbconvert_exporter": "python",
   "pygments_lexer": "ipython3",
   "version": "3.8.8"
  }
 },
 "nbformat": 4,
 "nbformat_minor": 5
}
