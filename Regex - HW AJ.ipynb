{
 "cells": [
  {
   "cell_type": "markdown",
   "id": "45c2b518",
   "metadata": {},
   "source": [
    "## Exercise 1"
   ]
  },
  {
   "cell_type": "markdown",
   "id": "422b1c66",
   "metadata": {},
   "source": [
    "Write a function to determine if there are matches in a string that has an a followed by zero or one 'b'\n",
    "\n",
    "Example:\n",
    "\n",
    "1. ab -> Match\n",
    "2. abc -> Not Match\n",
    "3. aabbb -> Match\n",
    "4. aacb -> Not Match\n",
    "5. Abbbb -> Not Match"
   ]
  },
  {
   "cell_type": "code",
   "execution_count": 57,
   "id": "46fc05d8",
   "metadata": {},
   "outputs": [],
   "source": [
    "# your code\n",
    "def my_func0(): \n",
    "    import re\n",
    "    while True:\n",
    "        inp=input('Press q to quit.\\n')\n",
    "        x=re.search('[a]+[b]+',inp)\n",
    "        y=re.search('[a]+[b]+[^b]+',inp)\n",
    "        if inp=='q':\n",
    "            break\n",
    "        try:\n",
    "            x.group()\n",
    "        except AttributeError:\n",
    "            print('Not Match')\n",
    "        else:\n",
    "            try:\n",
    "                y.group()\n",
    "            except AttributeError:\n",
    "                print('Match')\n",
    "            else:\n",
    "                print('Not Match')"
   ]
  },
  {
   "cell_type": "code",
   "execution_count": 58,
   "id": "f1328bcb",
   "metadata": {},
   "outputs": [
    {
     "name": "stdout",
     "output_type": "stream",
     "text": [
      "Press q to quit.\n",
      "ab\n",
      "Match\n",
      "Press q to quit.\n",
      "abc\n",
      "Not Match\n",
      "Press q to quit.\n",
      "aabbb\n",
      "Match\n",
      "Press q to quit.\n",
      "aacb\n",
      "Not Match\n",
      "Press q to quit.\n",
      "Abbbb\n",
      "Not Match\n",
      "Press q to quit.\n",
      "q\n"
     ]
    }
   ],
   "source": [
    "my_func0()"
   ]
  },
  {
   "cell_type": "markdown",
   "id": "9241098b",
   "metadata": {},
   "source": [
    "## Exercise 2"
   ]
  },
  {
   "cell_type": "markdown",
   "id": "323d855b",
   "metadata": {},
   "source": [
    "Write a function to determine if the string start with upper case letter and end with lower \n",
    "\n",
    "Example:\n",
    "\n",
    "1. Salam -> True\n",
    "2. sAlam -> False\n",
    "3. SalaM -> False\n",
    "4. Aac&%#b -> True\n",
    "5. Aac& s%#b -> True"
   ]
  },
  {
   "cell_type": "code",
   "execution_count": 60,
   "id": "b6029685",
   "metadata": {},
   "outputs": [],
   "source": [
    "# your code\n",
    "def my_func1():    \n",
    "    import re\n",
    "    while True:\n",
    "        inp=input('Press q to quit.\\n')\n",
    "        if inp=='q':\n",
    "            break\n",
    "        x=re.findall('\\A[A-Z]',inp)\n",
    "        inp=inp[::-1]\n",
    "        y=re.findall('\\A[a-z]', inp)\n",
    "        if x and y:\n",
    "            print('True')\n",
    "        else:\n",
    "            print('False')"
   ]
  },
  {
   "cell_type": "code",
   "execution_count": 61,
   "id": "51421753",
   "metadata": {},
   "outputs": [
    {
     "name": "stdout",
     "output_type": "stream",
     "text": [
      "Press q to quit.\n",
      "Salam\n",
      "True\n",
      "Press q to quit.\n",
      "sAlam\n",
      "False\n",
      "Press q to quit.\n",
      "SalaM\n",
      "False\n",
      "Press q to quit.\n",
      "Aac&%#b\n",
      "True\n",
      "Press q to quit.\n",
      "Aac& s%#b\n",
      "True\n",
      "Press q to quit.\n",
      "q\n"
     ]
    }
   ],
   "source": [
    "my_func1()"
   ]
  },
  {
   "cell_type": "markdown",
   "id": "2be92d01",
   "metadata": {},
   "source": [
    "## Exercise 3"
   ]
  },
  {
   "cell_type": "markdown",
   "id": "e8ed679e",
   "metadata": {},
   "source": [
    "Write a function to determine if the sentence in string is correct. Sentence may end with punctuation but not with space.\n",
    "\n",
    "Example:\n",
    "\n",
    "1. How are you? - True\n",
    "2. 'How are you? ' - False\n",
    "3. Nomren 051 yoxsa 050 ile bashlayir? - True\n",
    "4. 'You&Me ' - False\n",
    "5. 'You&Me' - True"
   ]
  },
  {
   "cell_type": "code",
   "execution_count": 63,
   "id": "600310e7",
   "metadata": {},
   "outputs": [],
   "source": [
    "# your code\n",
    "def my_func2():    \n",
    "    import re\n",
    "    while True:\n",
    "        inp=input(\"Press q to quit.\\n\")\n",
    "        if inp=='q':\n",
    "            break\n",
    "        FCH=re.findall(\"\\A[A-Z']\",inp)\n",
    "        inp=inp[::-1]\n",
    "        LCH=re.findall('\\A[\\D\\S][\\S]', inp)\n",
    "        if FCH and LCH:\n",
    "            print('True')\n",
    "        else:\n",
    "            print('False')"
   ]
  },
  {
   "cell_type": "code",
   "execution_count": 64,
   "id": "f9def4fd",
   "metadata": {},
   "outputs": [
    {
     "name": "stdout",
     "output_type": "stream",
     "text": [
      "Press q to quit.\n",
      "How are you?\n",
      "True\n",
      "Press q to quit.\n",
      "'How are you? '\n",
      "False\n",
      "Press q to quit.\n",
      "Nomren 051 yoxsa 050 ile bashlayir?\n",
      "True\n",
      "Press q to quit.\n",
      "'You&Me '\n",
      "False\n",
      "Press q to quit.\n",
      "'You&Me'\n",
      "True\n",
      "Press q to quit.\n",
      "'How are you?'\n",
      "True\n",
      "Press q to quit.\n",
      "q\n"
     ]
    }
   ],
   "source": [
    "my_func2()"
   ]
  },
  {
   "cell_type": "markdown",
   "id": "1dde9a55",
   "metadata": {},
   "source": [
    "## Exercise 4"
   ]
  },
  {
   "cell_type": "markdown",
   "id": "5311f116",
   "metadata": {},
   "source": [
    "Write a function that removes zeros from an IP address\n",
    "\n",
    "Example:\n",
    "\n",
    "216.08.094.196 -> 216.8.94.196"
   ]
  },
  {
   "cell_type": "code",
   "execution_count": 66,
   "id": "06e2bdb2",
   "metadata": {},
   "outputs": [],
   "source": [
    "# your code\n",
    "def my_func3():\n",
    "    import re\n",
    "    while True:\n",
    "        inp=input(\"Press q to quit.\\n\")\n",
    "        if inp=='q':\n",
    "            break\n",
    "        y=re.sub('[0]+', '', inp)\n",
    "        print(f'{y}')"
   ]
  },
  {
   "cell_type": "code",
   "execution_count": 67,
   "id": "01fe6966",
   "metadata": {},
   "outputs": [
    {
     "name": "stdout",
     "output_type": "stream",
     "text": [
      "Press q to quit.\n",
      "216.08.094.196\n",
      "216.8.94.196\n",
      "Press q to quit.\n",
      "2016.080.0904.10960\n",
      "216.8.94.196\n",
      "Press q to quit.\n",
      "q\n"
     ]
    }
   ],
   "source": [
    "my_func3()"
   ]
  },
  {
   "cell_type": "markdown",
   "id": "3e6d091d",
   "metadata": {},
   "source": [
    "## Exercise 5"
   ]
  },
  {
   "cell_type": "markdown",
   "id": "dee9339c",
   "metadata": {},
   "source": [
    "Write a function to separate and print the numbers of a given string\n",
    "\n",
    "Example:\n",
    "\n",
    "Ten 10, Twenty 20, Thirty 30 -> 10, 20, 30"
   ]
  },
  {
   "cell_type": "code",
   "execution_count": 68,
   "id": "5967b509",
   "metadata": {},
   "outputs": [],
   "source": [
    "# your code\n",
    "def my_func4():\n",
    "    import re\n",
    "    while True:\n",
    "        inp=input(\"Press q to quit.\\n\")\n",
    "        if inp=='q':\n",
    "            break\n",
    "        nm=re.findall('[0-9]+',inp)\n",
    "        print(', '.join(nm))"
   ]
  },
  {
   "cell_type": "code",
   "execution_count": 69,
   "id": "a14c474d",
   "metadata": {},
   "outputs": [
    {
     "name": "stdout",
     "output_type": "stream",
     "text": [
      "Press q to quit.\n",
      "Ten 10, Twenty 20, Thirty 30\n",
      "10, 20, 30\n",
      "Press q to quit.\n",
      "Ten 1, Twenty 209, Thirty 3548, zero 0\n",
      "1, 209, 3548, 0\n",
      "Press q to quit.\n",
      "q\n"
     ]
    }
   ],
   "source": [
    "my_func4()"
   ]
  }
 ],
 "metadata": {
  "kernelspec": {
   "display_name": "Python 3",
   "language": "python",
   "name": "python3"
  },
  "language_info": {
   "codemirror_mode": {
    "name": "ipython",
    "version": 3
   },
   "file_extension": ".py",
   "mimetype": "text/x-python",
   "name": "python",
   "nbconvert_exporter": "python",
   "pygments_lexer": "ipython3",
   "version": "3.8.8"
  }
 },
 "nbformat": 4,
 "nbformat_minor": 5
}
