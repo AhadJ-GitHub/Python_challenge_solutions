{
 "cells": [
  {
   "cell_type": "markdown",
   "id": "d5d7bd58",
   "metadata": {},
   "source": [
    "## Exercise 1"
   ]
  },
  {
   "cell_type": "markdown",
   "id": "f5c376a9",
   "metadata": {
    "id": "7390cbad"
   },
   "source": [
    "Write a code that will print out the count of all the letters in a file. The results shouldn’t be case sensitive. You should display an appropriate error message if the file doesn’t exist.\n",
    "\n",
    "Example:\n",
    "\n",
    "letter_count('hello.txt')\n",
    "\n",
    "Output:\n",
    "\n",
    "H : 2\n",
    "e : 5\n",
    "l : 3\n",
    "o : 2\n",
    "W : 2\n",
    "r : 3\n",
    "d : 1\n",
    "a : 1\n"
   ]
  },
  {
   "cell_type": "code",
   "execution_count": 26,
   "id": "RFqlO2KrAKl9",
   "metadata": {
    "id": "RFqlO2KrAKl9",
    "scrolled": true
   },
   "outputs": [],
   "source": [
    "# your code\n",
    "def letter_count(flnm):\n",
    "    try:\n",
    "        with open(flnm,encoding='utf-8-sig') as hlt:\n",
    "            cont=hlt.read()\n",
    "    except FileNotFoundError:\n",
    "        print(f\"Sorry, the file {flnm} does not exist.\")\n",
    "    else:\n",
    "        lts=[]\n",
    "        dict1={}\n",
    "        for ch in cont:\n",
    "            if ch.isalpha():\n",
    "                lts.append(ch.upper())  # alternatively, it can be: lts.append(ch.lower())     \n",
    "        for x in lts:\n",
    "            if x not in dict1.keys():\n",
    "                dict1[x]=1\n",
    "            else:\n",
    "                dict1[x]+=1    \n",
    "    return print(dict1)"
   ]
  },
  {
   "cell_type": "code",
   "execution_count": 27,
   "id": "b78e57d1",
   "metadata": {},
   "outputs": [
    {
     "name": "stdout",
     "output_type": "stream",
     "text": [
      "{'H': 2, 'E': 5, 'L': 3, 'O': 2, 'W': 2, 'R': 3, 'D': 1, 'A': 1}\n"
     ]
    }
   ],
   "source": [
    "letter_count('hello.txt')"
   ]
  },
  {
   "cell_type": "markdown",
   "id": "55ddaea2",
   "metadata": {},
   "source": [
    "## Exercise 2"
   ]
  },
  {
   "cell_type": "markdown",
   "id": "49ee3978",
   "metadata": {
    "id": "e00472b3"
   },
   "source": [
    "Write a code that will print every second character in a file. It should print an error message if the file doesn’t exist.\n",
    "\n",
    "Example:\n",
    "second_char('hello.txt')\n",
    "\n",
    "Output:\n",
    "\n",
    "e,l, ,o,l,,,w, ,r, ,e,e\n"
   ]
  },
  {
   "cell_type": "code",
   "execution_count": 56,
   "id": "df88e373",
   "metadata": {
    "scrolled": true
   },
   "outputs": [],
   "source": [
    "# your code\n",
    "\n",
    "# qeyd: men her ikinci simvoldan sonra vergul qoyaraq ekrana cap etmishem siz bunu deyishe bilersiniz, esas mesele her iki simvoldan birinin ekranda gorunmeyidir\n",
    "def second_char(flnm):\n",
    "    try:\n",
    "        with open(flnm,encoding='utf-8-sig') as hlt:\n",
    "            cont=hlt.read()\n",
    "    except FileNotFoundError:\n",
    "        print(f\"Sorry, the file {flnm} does not exist.\")\n",
    "    else:\n",
    "        lts=[]\n",
    "        count=0\n",
    "        for ch in cont:\n",
    "            count+=1\n",
    "            if count%2==0:\n",
    "                lts.append(ch)\n",
    "        a=','.join(str(lts[i]) for i in range(0,len(lts)))\n",
    "    return print(f'{a}')"
   ]
  },
  {
   "cell_type": "code",
   "execution_count": 57,
   "id": "6f8ed57d",
   "metadata": {
    "scrolled": true
   },
   "outputs": [
    {
     "name": "stdout",
     "output_type": "stream",
     "text": [
      "e,l, ,o,l,,,w, ,r, ,e,e\n"
     ]
    }
   ],
   "source": [
    "second_char('hello.txt')"
   ]
  },
  {
   "cell_type": "markdown",
   "id": "e06a16c3",
   "metadata": {},
   "source": [
    "## Exercise 3"
   ]
  },
  {
   "cell_type": "markdown",
   "id": "7ad0f1eb",
   "metadata": {
    "id": "dca82301"
   },
   "source": [
    "Write a code that will append the content of 2 files and write them to a new file. \n",
    "\n",
    "In this new file it should number the lines. \n",
    "\n",
    "It should print an appropriate error message if one of the files doesn’t exist.\n",
    "\n",
    "Example:\n",
    "\n",
    "number('hello.txt','fruits.txt','new.txt')\n",
    "\n",
    "Output:\n",
    "Contents of \"new.txt\":\n",
    "\n",
    "1 : Hello World!\n",
    "\n",
    "2 : apple  banana\n",
    "\n",
    "3 : grape\n"
   ]
  },
  {
   "cell_type": "code",
   "execution_count": 20,
   "id": "9b160b69",
   "metadata": {
    "scrolled": true
   },
   "outputs": [],
   "source": [
    "# your code\n",
    "\n",
    "# qeyd: funksiyaniz 3 parametr qebul edecek, 1 ve 2 ci parametrler birleshdireceyi filelardir,\n",
    "# 3cu parametr ise yaradacagi yeni filein adi olacaq\n",
    "\n",
    "def number(*args):\n",
    "    args1=list(args)\n",
    "    flnm1=args1[0]\n",
    "    flnm2=args1[1]\n",
    "    flnm3=args1[2]\n",
    "    try:\n",
    "        with open(flnm1,encoding='utf-8-sig') as hlt:\n",
    "            cont1=hlt.read()\n",
    "        with open(flnm2,encoding='utf-8-sig') as frt:\n",
    "            cont2=frt.read()\n",
    "    except FileNotFoundError:\n",
    "        print(f\"Sorry, at least one of the files does not exist.\")\n",
    "    else:\n",
    "        with open(flnm3,'w',encoding='utf-8-sig') as nw:\n",
    "            nw.write(cont1+'\\n'+cont2)\n",
    "        with open(flnm3,encoding='utf-8-sig') as nw2:\n",
    "            cont3=nw2.read()\n",
    "        print(f'Contents of \"{flnm3}\":\\n')\n",
    "        count=0\n",
    "        for lines in cont3.split('\\n'):\n",
    "            count+=1\n",
    "            print(f'{count} : {lines}')               "
   ]
  },
  {
   "cell_type": "code",
   "execution_count": 21,
   "id": "2920c2ca",
   "metadata": {},
   "outputs": [
    {
     "name": "stdout",
     "output_type": "stream",
     "text": [
      "Contents of \"new.txt\":\n",
      "\n",
      "1 : Hello World, we are here!\n",
      "2 : apple banana\n",
      "3 : grape\n"
     ]
    }
   ],
   "source": [
    "number('hello.txt','fruits.txt','new.txt')"
   ]
  },
  {
   "cell_type": "markdown",
   "id": "713655a7",
   "metadata": {},
   "source": [
    "## Exercise 4"
   ]
  },
  {
   "cell_type": "markdown",
   "id": "92bfdbfa",
   "metadata": {
    "id": "33d2151c"
   },
   "source": [
    "Write a code that finds the longest word in a file. \n",
    "\n",
    "Treat any group of non-white space characters as a word, even if it includes digits or punctuation marks. \n",
    "\n",
    "The code should print out an error message if the file doesn’t exist.\n",
    "\n",
    "Example:\n",
    "\n",
    "longest_word('fruits.txt') \n",
    "\n",
    "Output:\n",
    "\n",
    "banana\n"
   ]
  },
  {
   "cell_type": "code",
   "execution_count": 23,
   "id": "378c7e0e",
   "metadata": {},
   "outputs": [],
   "source": [
    "# your code\n",
    "\n",
    "# qeyd: funksiyanizin duzgun ishleyib ishlemediyini diger filelardaki en uzun sozu taparaq yoxlayin\n",
    "def longest_word(flnm):\n",
    "    try:\n",
    "        with open(flnm, encoding='utf-8-sig') as fl:\n",
    "            cont=fl.read()\n",
    "    except FileNotFoundError:\n",
    "        print(f'Sorry, the file {flnm} has not been found.')\n",
    "    else:\n",
    "        dict1={}\n",
    "        lcont=cont.split()\n",
    "        for x in lcont:\n",
    "            dict1[x]=len(x)\n",
    "        list1s=sorted(dict1.values(),reverse=True)\n",
    "        for k,v in dict1.items():\n",
    "            if v==list1s[0]:\n",
    "                k_max=k\n",
    "        print(f'{k_max}')"
   ]
  },
  {
   "cell_type": "code",
   "execution_count": 27,
   "id": "837a92df",
   "metadata": {},
   "outputs": [
    {
     "name": "stdout",
     "output_type": "stream",
     "text": [
      "banana\n"
     ]
    }
   ],
   "source": [
    "longest_word('fruits.txt')"
   ]
  },
  {
   "cell_type": "code",
   "execution_count": 29,
   "id": "a0ce522e",
   "metadata": {},
   "outputs": [
    {
     "name": "stdout",
     "output_type": "stream",
     "text": [
      "World,\n"
     ]
    }
   ],
   "source": [
    "longest_word('hello.txt')"
   ]
  },
  {
   "cell_type": "code",
   "execution_count": 30,
   "id": "afe11c7e",
   "metadata": {},
   "outputs": [
    {
     "name": "stdout",
     "output_type": "stream",
     "text": [
      "banana\n"
     ]
    }
   ],
   "source": [
    "longest_word('new.txt')"
   ]
  }
 ],
 "metadata": {
  "colab": {
   "collapsed_sections": [],
   "provenance": []
  },
  "kernelspec": {
   "display_name": "Python 3",
   "language": "python",
   "name": "python3"
  },
  "language_info": {
   "codemirror_mode": {
    "name": "ipython",
    "version": 3
   },
   "file_extension": ".py",
   "mimetype": "text/x-python",
   "name": "python",
   "nbconvert_exporter": "python",
   "pygments_lexer": "ipython3",
   "version": "3.8.8"
  }
 },
 "nbformat": 4,
 "nbformat_minor": 5
}
