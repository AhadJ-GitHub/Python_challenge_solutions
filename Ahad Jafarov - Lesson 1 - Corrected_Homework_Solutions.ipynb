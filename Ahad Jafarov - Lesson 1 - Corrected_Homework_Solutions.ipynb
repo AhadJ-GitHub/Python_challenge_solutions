{
 "cells": [
  {
   "cell_type": "markdown",
   "id": "f22e55af",
   "metadata": {},
   "source": [
    "### Tapşırıq 1"
   ]
  },
  {
   "cell_type": "markdown",
   "id": "52304d89",
   "metadata": {},
   "source": [
    "İstifadəçidən ad və soyadını daxil etməyini istəyin, daha sonra ona uyğun mail ünvanı yaradın və ekrana çap edin."
   ]
  },
  {
   "cell_type": "code",
   "execution_count": null,
   "id": "e8aaf5b1",
   "metadata": {},
   "outputs": [],
   "source": [
    "# Məsələn:\n",
    "# Adınızı daxil edin: \n",
    "# >>> Aylin\n",
    "# Soyadınızı daxil edin:\n",
    "# >>> Mammadova\n",
    "# Yeni mail ünvanınız: aylinmammadova@gmail.com"
   ]
  },
  {
   "cell_type": "code",
   "execution_count": 9,
   "id": "ae9a1521",
   "metadata": {},
   "outputs": [
    {
     "name": "stdout",
     "output_type": "stream",
     "text": [
      "Adınızı daxil edin:\n",
      "Aylin\n",
      "Soyadınızı daxil edin:\n",
      "Mammadova\n",
      "Yeni mail unvanınız: aylinmammadova@gmail.com\n"
     ]
    }
   ],
   "source": [
    "# Kodunuzu burada yazın\n",
    "nm=input('Adınızı daxil edin:\\n')\n",
    "surnm=input('Soyadınızı daxil edin:\\n')\n",
    "adsyd=nm.lower()+surnm.lower()\n",
    "print('Yeni mail unvanınız: {}@gmail.com'.format(adsyd))"
   ]
  },
  {
   "cell_type": "markdown",
   "id": "2fc122c9",
   "metadata": {},
   "source": [
    "### Tapşırıq 2"
   ]
  },
  {
   "cell_type": "markdown",
   "id": "e6d5741e",
   "metadata": {},
   "source": [
    "Verilən məlumatlara əsasən kürənin həcmini hesablayın. Kürənin radiusu 12 sm, π = 3. \n",
    "\n",
    "Qeyd: radius, π və həcmin hər biri üçün ayrı dəyişən yaradın."
   ]
  },
  {
   "cell_type": "code",
   "execution_count": 20,
   "id": "1d8fb632",
   "metadata": {},
   "outputs": [
    {
     "name": "stdout",
     "output_type": "stream",
     "text": [
      "Volume of the sphere is 6912.0 sm^3\n"
     ]
    }
   ],
   "source": [
    "# Kodunuzu burada yazın\n",
    "r=12\n",
    "npi=3\n",
    "Vol=(4*npi*r**3)/3\n",
    "print('Volume of the sphere is {} sm^3'.format(Vol))"
   ]
  },
  {
   "cell_type": "markdown",
   "id": "c0495a7f",
   "metadata": {},
   "source": [
    "### Tapşırıq 3"
   ]
  },
  {
   "cell_type": "markdown",
   "id": "50d972d2",
   "metadata": {},
   "source": [
    "Verilən 3141 ədədinin rəqəmlərinin cəmini tapın.\n",
    "\n",
    "Qeyd: 3141-ə string kimi yanaşmağınız tövsiyə olunur."
   ]
  },
  {
   "cell_type": "code",
   "execution_count": null,
   "id": "18371482",
   "metadata": {},
   "outputs": [],
   "source": [
    "# Cavab: 3+1+4+1 = 9"
   ]
  },
  {
   "cell_type": "code",
   "execution_count": 106,
   "id": "27544dac",
   "metadata": {},
   "outputs": [
    {
     "data": {
      "text/plain": [
       "9"
      ]
     },
     "execution_count": 106,
     "metadata": {},
     "output_type": "execute_result"
    }
   ],
   "source": [
    "# Kodunuzu burada yazın\n",
    "eded='3141'\n",
    "sm=int(eded[0])+int(eded[1])+int(eded[-1])+int(eded[-2])\n",
    "sm"
   ]
  },
  {
   "cell_type": "markdown",
   "id": "a73d3770",
   "metadata": {},
   "source": [
    "### Tapşırıq 4"
   ]
  },
  {
   "cell_type": "markdown",
   "id": "4c2e2059",
   "metadata": {},
   "source": [
    "1. .strip() metodundan istifadə edərək, yalnız \"Babylon\" sözünü əldə edin.\n",
    "\n",
    "\n",
    "2. .rstrip() metodundan istifadə edərək, \"@Bloomberg\" sözünü əldə edin.\n",
    "\n",
    "\n",
    "3. .split() və .lstrip() methodlarının kombinasiyasından istifadə edərək, \"Derivatives\" sözünü əldə edin."
   ]
  },
  {
   "cell_type": "code",
   "execution_count": 61,
   "id": "b1189822",
   "metadata": {},
   "outputs": [
    {
     "data": {
      "text/plain": [
       "'Derivatives'"
      ]
     },
     "execution_count": 61,
     "metadata": {},
     "output_type": "execute_result"
    }
   ],
   "source": [
    "my_str1 = \"#$^&#@%$& Babylon #@$&@#\"\n",
    "\n",
    "my_str2 = \"@Bloomberg@@@@@###\"\n",
    "\n",
    "my_str3 = \"......Macroeconomics,...........Derivatives\"\n",
    "\n",
    "# Kodunuzu burada yazın\n",
    "my_str1.strip('@#$%^& ')\n",
    "my_str2.rstrip('#@')\n",
    "my_str3.lstrip('.').split('.')[-1]"
   ]
  },
  {
   "cell_type": "markdown",
   "id": "90a292f2",
   "metadata": {},
   "source": [
    "### Tapşırıq 5"
   ]
  },
  {
   "cell_type": "markdown",
   "id": "345421d1",
   "metadata": {},
   "source": [
    "\"tensorflowazerbaijan\" sözündən ekrana \"TensorFlow Azerbaijan\" yazısını ekrana çap edin."
   ]
  },
  {
   "cell_type": "code",
   "execution_count": 136,
   "id": "501765ab",
   "metadata": {
    "scrolled": true
   },
   "outputs": [
    {
     "name": "stdout",
     "output_type": "stream",
     "text": [
      "TensorFlow Azerbaijan\n"
     ]
    }
   ],
   "source": [
    "word = 'tensorflowazerbaijan'\n",
    "\n",
    "# Kodunuzu burada yazın\n",
    "w1=word.split('f')[0].capitalize()\n",
    "w2=word.split('r')[1].capitalize().rstrip('aze')\n",
    "w3=word.split('w')[1].capitalize()\n",
    "print('{}{} {}'.format(w1,w2,w3))"
   ]
  },
  {
   "cell_type": "markdown",
   "id": "783636f9",
   "metadata": {},
   "source": [
    "### Tapşırıq 6"
   ]
  },
  {
   "cell_type": "markdown",
   "id": "549bc348",
   "metadata": {},
   "source": [
    "Aşağıda verilmiş səhv yazılıb, səhvi düzəldərək ekrana düzəldilmiş sözü çap edin.\n",
    "\n",
    "tensr --> tensor"
   ]
  },
  {
   "cell_type": "code",
   "execution_count": 144,
   "id": "cd1a6551",
   "metadata": {
    "scrolled": true
   },
   "outputs": [
    {
     "name": "stdout",
     "output_type": "stream",
     "text": [
      "tensor\n"
     ]
    }
   ],
   "source": [
    "word = 'tensr'\n",
    "\n",
    "# Kodunuzu burada yazın\n",
    "print(word.split('r')[0]+'or')"
   ]
  },
  {
   "cell_type": "markdown",
   "id": "0d97ff4b",
   "metadata": {},
   "source": [
    "### Tapşırıq 7"
   ]
  },
  {
   "cell_type": "markdown",
   "id": "8d1e5b15",
   "metadata": {},
   "source": [
    "İstifadəçidən bir söz daxil etməsini istəyin. Daxil edilən sözün ortadakı 3hərfini ekrana çap edin.\n",
    "\n",
    "Məsələn: \n",
    "\n",
    "JhonDipPeta --> Dip\n",
    "\n",
    "JaSonAy --> Son"
   ]
  },
  {
   "cell_type": "code",
   "execution_count": 10,
   "id": "05933a75",
   "metadata": {},
   "outputs": [
    {
     "name": "stdout",
     "output_type": "stream",
     "text": [
      "Bir söz daxil edin:\n",
      "NasHOPERimi\n",
      "3 middle characters of the string:  OPE\n"
     ]
    }
   ],
   "source": [
    "# Kodunuzu burada yazın\n",
    "str1=input('Bir söz daxil edin:\\n')\n",
    "print(\"3 middle characters of the string: \",str1[(len(str1)-3)//2:(len(str1)+3)//2])"
   ]
  },
  {
   "cell_type": "code",
   "execution_count": null,
   "id": "500d0eff",
   "metadata": {},
   "outputs": [],
   "source": []
  }
 ],
 "metadata": {
  "celltoolbar": "Raw Cell Format",
  "kernelspec": {
   "display_name": "Python 3",
   "language": "python",
   "name": "python3"
  },
  "language_info": {
   "codemirror_mode": {
    "name": "ipython",
    "version": 3
   },
   "file_extension": ".py",
   "mimetype": "text/x-python",
   "name": "python",
   "nbconvert_exporter": "python",
   "pygments_lexer": "ipython3",
   "version": "3.8.8"
  }
 },
 "nbformat": 4,
 "nbformat_minor": 5
}
