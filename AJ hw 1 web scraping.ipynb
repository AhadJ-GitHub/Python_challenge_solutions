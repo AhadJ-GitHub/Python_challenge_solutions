{
 "cells": [
  {
   "cell_type": "code",
   "execution_count": 1,
   "id": "0177f405",
   "metadata": {},
   "outputs": [],
   "source": [
    "import requests\n",
    "from bs4 import BeautifulSoup\n",
    "import numpy as np\n",
    "import pandas as pd"
   ]
  },
  {
   "cell_type": "code",
   "execution_count": null,
   "id": "fa60be1f",
   "metadata": {},
   "outputs": [],
   "source": [
    "# Question 1"
   ]
  },
  {
   "cell_type": "code",
   "execution_count": 11,
   "id": "b633b524",
   "metadata": {},
   "outputs": [
    {
     "data": {
      "text/plain": [
       "200"
      ]
     },
     "execution_count": 11,
     "metadata": {},
     "output_type": "execute_result"
    }
   ],
   "source": [
    "base_site='https://boss.az/'\n",
    "response=requests.get(base_site)\n",
    "response.status_code"
   ]
  },
  {
   "cell_type": "code",
   "execution_count": 12,
   "id": "35032676",
   "metadata": {},
   "outputs": [],
   "source": [
    "html=response.content\n",
    "soup=BeautifulSoup(html,'html.parser')"
   ]
  },
  {
   "cell_type": "code",
   "execution_count": 13,
   "id": "40ead8e6",
   "metadata": {},
   "outputs": [
    {
     "data": {
      "text/plain": [
       "<!DOCTYPE html>\n",
       "<html lang=\"az\"><head><meta charset=\"utf-8\"/><title>Boss.Az - Azərbaycanda İş</title><link href=\"https://boss.azstatic.com/assets/favicons/favicon-192x192-ef7b1305e801dc655956c2416210c829932ae25ac772dc5c5fb67b36ee0f10e0.png\" rel=\"apple-touch-icon\" sizes=\"192x192\"/><link href=\"https://boss.azstatic.com/assets/favicons/favicon-192x192-ef7b1305e801dc655956c2416210c829932ae25ac772dc5c5fb67b36ee0f10e0.png\" rel=\"icon\" sizes=\"192x192\" type=\"image/png\"/><meta content=\"https://boss.azstatic.com/assets/browserconfig-f2c3037de58cf1037537c2daee936557aaf7410c2e7850efb7b6cdf3a8e15050.xml\" name=\"msapplication-config\"/><meta content=\"168601233177656\" property=\"fb:app_id\"/><meta content=\"https://boss.azstatic.com/assets/logo_share-be86008c7640af549c019dd070d6d9a518028d44e5cbb9e58dbc4663b5cb157c.png\" property=\"og:image\"/><link href=\"https://boss.azstatic.com/assets/application-f64fa14632f1626df094619a9d9cf0d97e0f7fa074e86d1318024890e3d52a98.css\" rel=\"stylesheet\"/><script src=\"https://boss.azstatic.com/assets/application-b7272f878c8b679740962cda42b7431e331c4de8b3c362148935c998e46ce225.js\"></script><link href=\"https://boss.azstatic.com/assets/fonts/woff-696e8874f20c427457af0ffa33e8e47ea4d35f3b50a3af4d44b74d1b4e9c7a68.css\" rel=\"stylesheet\"/><link href=\"https://boss.azstatic.com/assets/print_vacancy-0652e71e8cbae6496dae6a7d2f2b8f08fdf452e7db8f84f986c7f2f6a96aac79.css\" media=\"print\" rel=\"stylesheet\"/><meta content=\"authenticity_token\" name=\"csrf-param\"/>\n",
       "<meta content=\"R0VY09pzszaihuiGc1PNDPGL+c3zrzOCmi4jZL3V42v+7qpOCNMie8F+mRqLloxvpPFd4yfSPPcbrtp8nsVHQw==\" name=\"csrf-token\"/></head><body class=\"layout-categories layout-categories_index\"><div class=\"bar-container\"><div class=\"container\"><div class=\"bar\"><a class=\"bar-i\" href=\"/\">baş səhifə</a><div class=\"bar-i\"><a class=\"lang-switcher ru\" href=\"https://ru.boss.az/\">по-русски</a><a class=\"lang-switcher en\" href=\"https://en.boss.az/\">in english</a></div><a class=\"bar-i bar-i_mark\" href=\"/pages/advertising\">Saytda reklam</a><div class=\"pull-right\"><div class=\"site-switcher\"><div class=\"current-site\"><span class=\"site-name\">boss.az</span></div><div class=\"other-sites\"><a class=\"other-sites-i\" href=\"https://bina.az\" target=\"_blank\">bina.az</a><a class=\"other-sites-i\" href=\"https://tap.az\" target=\"_blank\">tap.az</a><a class=\"other-sites-i\" href=\"https://turbo.az\" target=\"_blank\">turbo.az</a></div></div></div></div></div></div><div class=\"header\" data-lotriver-header=\"\"><div class=\"container\"><a class=\"logo\" href=\"/\">Boss.az</a><div class=\"nav\"><div class=\"nav-i\"><a class=\"nav-i-link nav-i-link_current\" href=\"/\">İş elanları</a></div><div class=\"nav-i\"><a class=\"nav-i-link\" href=\"/categories/resumes\">İş axtaranlar</a></div></div><div class=\"nav-secondary\"><div class=\"nav-i\"><a class=\"nav-i-link\" href=\"/pages/about\">Haqqımızda</a></div><div class=\"nav-i\"><a class=\"btn btn_large\" href=\"/vacancies/new\">Elan yerləşdirin</a></div></div></div></div><div class=\"main-categories\"><div class=\"container\"><div class=\"main-categories-group\"><div class=\"main-categories-i\"><div class=\"main-categories-i-count\">74</div><a class=\"main-categories-i-link\" href=\"/vacancies?search%5Bcategory_id%5D=36\">Maliyyə</a></div><div class=\"main-categories-i\"><div class=\"main-categories-i-count\">44</div><a class=\"main-categories-i-link\" href=\"/vacancies?search%5Bcategory_id%5D=37\">Marketinq</a></div><div class=\"main-categories-i\"><div class=\"main-categories-i-count\">24</div><a class=\"main-categories-i-link\" href=\"/vacancies?search%5Bcategory_id%5D=38\">İnformasiya texnologiyaları</a></div><div class=\"main-categories-i\"><div class=\"main-categories-i-count\">97</div><a class=\"main-categories-i-link\" href=\"/vacancies?search%5Bcategory_id%5D=44\">İnzibati</a></div></div><div class=\"main-categories-group\"><div class=\"main-categories-i\"><div class=\"main-categories-i-count\">123</div><a class=\"main-categories-i-link\" href=\"/vacancies?search%5Bcategory_id%5D=40\">Satış</a></div><div class=\"main-categories-i\"><div class=\"main-categories-i-count\">18</div><a class=\"main-categories-i-link\" href=\"/vacancies?search%5Bcategory_id%5D=43\">Dizayn</a></div><div class=\"main-categories-i\"><div class=\"main-categories-i-count\">2</div><a class=\"main-categories-i-link\" href=\"/vacancies?search%5Bcategory_id%5D=39\">Hüquqşünaslıq</a></div><div class=\"main-categories-i\"><div class=\"main-categories-i-count\">6</div><a class=\"main-categories-i-link\" href=\"/vacancies?search%5Bcategory_id%5D=46\">Təhsil və elm</a></div></div><div class=\"main-categories-group\"><div class=\"main-categories-i\"><div class=\"main-categories-i-count\">20</div><a class=\"main-categories-i-link\" href=\"/vacancies?search%5Bcategory_id%5D=42\">Sənaye və kənd təsərrüfatı</a></div><div class=\"main-categories-i\"><div class=\"main-categories-i-count\">147</div><a class=\"main-categories-i-link\" href=\"/vacancies?search%5Bcategory_id%5D=133\">Xidmət</a></div><div class=\"main-categories-i\"><div class=\"main-categories-i-count\">45</div><a class=\"main-categories-i-link\" href=\"/vacancies?search%5Bcategory_id%5D=138\">Tibb və əczaçılıq</a></div><div class=\"main-categories-i\"><div class=\"main-categories-i-count\">2</div><a class=\"main-categories-i-link\" href=\"/vacancies?search%5Bcategory_id%5D=146\">Müxtəlif</a></div></div></div></div><div class=\"search-container\"><a class=\"search-toggle\" href=\"#\"><div class=\"container\"><span class=\"search-toggle-inner\"><span class=\"search-toggle-text\">Axtarış</span></span></div></a><div class=\"search-form\"><div class=\"container\"><form accept-charset=\"UTF-8\" action=\"/vacancies\" class=\"simple_form new_search\" id=\"new_search\" method=\"get\" novalidate=\"novalidate\"><input autocomplete=\"off\" name=\"utf8\" type=\"hidden\" value=\"✓\"/><input autocomplete=\"off\" id=\"search_company_id\" name=\"search[company_id]\" type=\"hidden\"/><div class=\"search-form-row\"><div class=\"input select optional search_category_id\"><label class=\"select optional control-label\" for=\"search_category_id\">Kategoriya</label><select class=\"select optional form-control\" id=\"search_category_id\" name=\"search[category_id]\"><option value=\"\">Bütün kateqoriyalar</option>\n",
       "<option value=\"36\">Maliyyə</option>\n",
       "<option value=\"48\">— Kredit mütəxəssisi</option>\n",
       "<option value=\"49\">— Sığorta</option>\n",
       "<option value=\"51\">— Audit</option>\n",
       "<option value=\"52\">— Mühasibat</option>\n",
       "<option value=\"57\">— Maliyyə analiz</option>\n",
       "<option value=\"150\">— Bank xidməti</option>\n",
       "<option value=\"154\">— Kassir</option>\n",
       "<option value=\"155\">— İqtisadçı</option>\n",
       "<option value=\"129\">— Digər</option>\n",
       "<option value=\"37\">Marketinq</option>\n",
       "<option value=\"64\">— Marketinq menecment</option>\n",
       "<option value=\"61\">— İctimayətlə əlaqələr</option>\n",
       "<option value=\"62\">— Reklam</option>\n",
       "<option value=\"60\">— Kopiraytinq</option>\n",
       "<option value=\"38\">İnformasiya texnologiyaları</option>\n",
       "<option value=\"66\">— Sistem idarəetməsi</option>\n",
       "<option value=\"67\">— Məlumat bazasının idarə edilməsi və inkişafı</option>\n",
       "<option value=\"68\">— İT mütəxəssisi / məsləhətçi</option>\n",
       "<option value=\"69\">— Proqramlaşdırma</option>\n",
       "<option value=\"70\">— İT layihələrin idarə edilməsi</option>\n",
       "<option value=\"71\">— Texniki avadanlıq mütəxəssisi</option>\n",
       "<option value=\"72\">— Digər</option>\n",
       "<option value=\"44\">İnzibati</option>\n",
       "<option value=\"105\">— İnzibati dəstək</option>\n",
       "<option value=\"108\">— Menecment</option>\n",
       "<option value=\"110\">— Ofis menecmenti</option>\n",
       "<option value=\"112\">— Katibə / Resepşn</option>\n",
       "<option value=\"143\">— Heyətin idarəolunması</option>\n",
       "<option value=\"113\">— Digər</option>\n",
       "<option value=\"40\">Satış</option>\n",
       "<option value=\"83\">— Daşınmaz əmlak agenti / makler</option>\n",
       "<option value=\"86\">— Satış üzrə mütəxəssis</option>\n",
       "<option value=\"43\">Dizayn</option>\n",
       "<option value=\"159\">— Veb-dizayn</option>\n",
       "<option value=\"97\">— Memar / İnteryer dizaynı</option>\n",
       "<option value=\"99\">— Geyim dizaynı</option>\n",
       "<option value=\"101\">— Rəssam</option>\n",
       "<option value=\"104\">— Digər</option>\n",
       "<option value=\"39\">Hüquqşünaslıq</option>\n",
       "<option value=\"73\">— Vəkil</option>\n",
       "<option value=\"74\">— Cinayət hüququ</option>\n",
       "<option value=\"79\">— Hüquqşünas</option>\n",
       "<option value=\"151\">— Digər</option>\n",
       "<option value=\"46\">Təhsil və elm</option>\n",
       "<option value=\"119\">— Məktəb tədrisi</option>\n",
       "<option value=\"120\">— Universitet tədrisi</option>\n",
       "<option value=\"121\">— Repetitor</option>\n",
       "<option value=\"122\">— Xüsusi təhsil/ Təlim</option>\n",
       "<option value=\"145\">— Digər</option>\n",
       "<option value=\"42\">Sənaye və kənd təsərrüfatı</option>\n",
       "<option value=\"91\">— Avtomatlaşdırılmış idarəetmə</option>\n",
       "<option value=\"92\">— Tikinti</option>\n",
       "<option value=\"95\">— Kənd təsərrüfatı</option>\n",
       "<option value=\"93\">— Mühəndis</option>\n",
       "<option value=\"94\">— Geologiya və ətraf mühit</option>\n",
       "<option value=\"96\">— Digər</option>\n",
       "<option value=\"133\">Xidmət</option>\n",
       "<option value=\"156\">— Kuryer</option>\n",
       "<option value=\"193\">— SPA və gözəllik</option>\n",
       "<option value=\"157\">— Xadimə</option>\n",
       "<option value=\"158\">— Anbardar</option>\n",
       "<option value=\"134\">— Restoran işi</option>\n",
       "<option value=\"135\">— Sürücü</option>\n",
       "<option value=\"136\">— Dayə</option>\n",
       "<option value=\"137\">— Fəhlə</option>\n",
       "<option value=\"142\">— Turizm və mehmanxana işi</option>\n",
       "<option value=\"144\">— Tərcüməçi</option>\n",
       "<option value=\"153\">— Mühafizə xidməti</option>\n",
       "<option value=\"149\">— Digər</option>\n",
       "<option value=\"138\">Tibb və əczaçılıq</option>\n",
       "<option value=\"139\">— Həkim</option>\n",
       "<option value=\"140\">— Tibbi personal</option>\n",
       "<option value=\"141\">— Tibb təmsilçisi</option>\n",
       "<option value=\"146\">Müxtəlif</option>\n",
       "<option value=\"148\">— Jurnalistika</option>\n",
       "<option value=\"160\">— Tələbələr üçün</option></select></div><div class=\"input select optional search_region_id\"><label class=\"select optional control-label\" for=\"search_region_id\">Şəhər</label><select class=\"select optional form-control\" id=\"search_region_id\" name=\"search[region_id]\"><option value=\"\">Bütun şəhərlər</option>\n",
       "<option value=\"11\"></option>\n",
       "<option value=\"28\">Ağcabədi</option>\n",
       "<option value=\"12\">Ağdam</option>\n",
       "<option value=\"83\">Ağdaş</option>\n",
       "<option value=\"87\">Ağdərə</option>\n",
       "<option value=\"85\">Ağstafa</option>\n",
       "<option value=\"34\">Ağsu</option>\n",
       "<option value=\"88\">Astara</option>\n",
       "<option value=\"1\">Bakı</option>\n",
       "<option value=\"73\">Balakən</option>\n",
       "<option value=\"30\">Beyləqan</option>\n",
       "<option value=\"31\">Bərdə</option>\n",
       "<option value=\"26\">Biləsuvar</option>\n",
       "<option value=\"93\">Cəbrayıl</option>\n",
       "<option value=\"72\">Cəlilabad</option>\n",
       "<option value=\"94\">Culfa</option>\n",
       "<option value=\"84\">Daşkəsən</option>\n",
       "<option value=\"7\">Əli-Bayramlı</option>\n",
       "<option value=\"23\">Füzuli </option>\n",
       "<option value=\"86\">Gədəbəy</option>\n",
       "<option value=\"4\">Gəncə</option>\n",
       "<option value=\"81\">Goranboy</option>\n",
       "<option value=\"29\">Göyçay</option>\n",
       "<option value=\"90\">Göygöl</option>\n",
       "<option value=\"91\">Göytəpə</option>\n",
       "<option value=\"110\">Hacıqabul</option>\n",
       "<option value=\"25\">İmişli</option>\n",
       "<option value=\"3\">İsmayıllı</option>\n",
       "<option value=\"97\">Kəlbəcər</option>\n",
       "<option value=\"27\">Kürdəmir</option>\n",
       "<option value=\"99\">Laçın</option>\n",
       "<option value=\"82\">Lerik</option>\n",
       "<option value=\"89\">Lənkəran</option>\n",
       "<option value=\"16\">Masallı</option>\n",
       "<option value=\"6\">Mingəçevir</option>\n",
       "<option value=\"14\">Naftalan</option>\n",
       "<option value=\"8\">Naxçıvan</option>\n",
       "<option value=\"100\">Neftçala</option>\n",
       "<option value=\"101\">Oğuz</option>\n",
       "<option value=\"102\">Ordubad</option>\n",
       "<option value=\"39\">Qaradağ</option>\n",
       "<option value=\"38\">Qax</option>\n",
       "<option value=\"15\">Qazax</option>\n",
       "<option value=\"76\">Qəbələ</option>\n",
       "<option value=\"92\">Qobustan</option>\n",
       "<option value=\"18\">Quba</option>\n",
       "<option value=\"98\">Qubadlı</option>\n",
       "<option value=\"19\">Qusar</option>\n",
       "<option value=\"33\">Saatlı</option>\n",
       "<option value=\"24\">Sabirabad</option>\n",
       "<option value=\"80\">Şabran</option>\n",
       "<option value=\"108\">Şahbuz</option>\n",
       "<option value=\"22\">Salyan</option>\n",
       "<option value=\"21\">Şamaxı</option>\n",
       "<option value=\"35\">Samux</option>\n",
       "<option value=\"9\">Şəki</option>\n",
       "<option value=\"13\">Şəmkir</option>\n",
       "<option value=\"79\">Şərur</option>\n",
       "<option value=\"78\">Şirvan</option>\n",
       "<option value=\"74\">Siyəzən</option>\n",
       "<option value=\"5\">Sumqayıt</option>\n",
       "<option value=\"109\">Şuşa</option>\n",
       "<option value=\"32\">Tərtər</option>\n",
       "<option value=\"17\">Tovuz</option>\n",
       "<option value=\"103\">Ucar</option>\n",
       "<option value=\"20\">Xaçmaz</option>\n",
       "<option value=\"104\">Xankəndi</option>\n",
       "<option value=\"75\">Xırdalan</option>\n",
       "<option value=\"37\">Xızı</option>\n",
       "<option value=\"106\">Xocalı</option>\n",
       "<option value=\"105\">Xocavənd</option>\n",
       "<option value=\"107\">Xudat</option>\n",
       "<option value=\"77\">Yardımlı</option>\n",
       "<option value=\"10\">Yevlax</option>\n",
       "<option value=\"2\">Zaqatala</option>\n",
       "<option value=\"95\">Zəngilan</option>\n",
       "<option value=\"96\">Zərdab</option></select></div><div class=\"input select optional search_salary\"><label class=\"select optional control-label\" for=\"search_salary\">Əmək haqqı</label><select class=\"select optional form-control\" id=\"search_salary\" name=\"search[salary]\"><option value=\"\">Vacib deyil</option>\n",
       "<option value=\"100\">minimum 100 AZN</option>\n",
       "<option value=\"200\">minimum 200 AZN</option>\n",
       "<option value=\"300\">minimum 300 AZN</option>\n",
       "<option value=\"400\">minimum 400 AZN</option>\n",
       "<option value=\"500\">minimum 500 AZN</option>\n",
       "<option value=\"600\">minimum 600 AZN</option>\n",
       "<option value=\"700\">minimum 700 AZN</option>\n",
       "<option value=\"800\">minimum 800 AZN</option>\n",
       "<option value=\"900\">minimum 900 AZN</option>\n",
       "<option value=\"1000\">minimum 1000 AZN</option>\n",
       "<option value=\"1100\">minimum 1100 AZN</option>\n",
       "<option value=\"1200\">minimum 1200 AZN</option>\n",
       "<option value=\"1300\">minimum 1300 AZN</option>\n",
       "<option value=\"1400\">minimum 1400 AZN</option>\n",
       "<option value=\"1500\">minimum 1500 AZN</option>\n",
       "<option value=\"1600\">minimum 1600 AZN</option>\n",
       "<option value=\"1700\">minimum 1700 AZN</option>\n",
       "<option value=\"1800\">minimum 1800 AZN</option>\n",
       "<option value=\"1900\">minimum 1900 AZN</option>\n",
       "<option value=\"2000\">minimum 2000 AZN</option>\n",
       "<option value=\"2100\">minimum 2100 AZN</option>\n",
       "<option value=\"2200\">minimum 2200 AZN</option>\n",
       "<option value=\"2300\">minimum 2300 AZN</option>\n",
       "<option value=\"2400\">minimum 2400 AZN</option>\n",
       "<option value=\"2500\">minimum 2500 AZN</option>\n",
       "<option value=\"2600\">minimum 2600 AZN</option>\n",
       "<option value=\"2700\">minimum 2700 AZN</option>\n",
       "<option value=\"2800\">minimum 2800 AZN</option>\n",
       "<option value=\"2900\">minimum 2900 AZN</option>\n",
       "<option value=\"3000\">minimum 3000 AZN</option>\n",
       "<option value=\"3100\">minimum 3100 AZN</option>\n",
       "<option value=\"3200\">minimum 3200 AZN</option>\n",
       "<option value=\"3300\">minimum 3300 AZN</option>\n",
       "<option value=\"3400\">minimum 3400 AZN</option>\n",
       "<option value=\"3500\">minimum 3500 AZN</option>\n",
       "<option value=\"3600\">minimum 3600 AZN</option>\n",
       "<option value=\"3700\">minimum 3700 AZN</option>\n",
       "<option value=\"3800\">minimum 3800 AZN</option>\n",
       "<option value=\"3900\">minimum 3900 AZN</option>\n",
       "<option value=\"4000\">minimum 4000 AZN</option>\n",
       "<option value=\"5000\">minimum 5000 AZN</option>\n",
       "<option value=\"6000\">minimum 6000 AZN</option>\n",
       "<option value=\"7000\">minimum 7000 AZN</option>\n",
       "<option value=\"8000\">minimum 8000 AZN</option>\n",
       "<option value=\"9000\">minimum 9000 AZN</option>\n",
       "<option value=\"10000\">minimum 10000 AZN</option>\n",
       "<option value=\"11000\">minimum 11000 AZN</option>\n",
       "<option value=\"12000\">minimum 12000 AZN</option></select></div></div><div class=\"search-form-row\"><div class=\"input select optional search_education_id\"><label class=\"select optional control-label\" for=\"search_education_id\">Təhsil</label><select class=\"select optional form-control\" id=\"search_education_id\" name=\"search[education_id]\"><option value=\"\">Vacib deyil</option>\n",
       "<option value=\"1\">Elmi dərəcə</option>\n",
       "<option value=\"2\">Ali</option>\n",
       "<option value=\"3\">Natamam ali</option>\n",
       "<option value=\"4\">Orta texniki</option>\n",
       "<option value=\"5\">Orta xüsusi</option>\n",
       "<option value=\"6\">Orta</option>\n",
       "<option value=\"7\">-</option></select></div><div class=\"input select optional search_experience_id\"><label class=\"select optional control-label\" for=\"search_experience_id\">İş təcrübəsi</label><select class=\"select optional form-control\" id=\"search_experience_id\" name=\"search[experience_id]\"><option value=\"\">Vacib deyil</option>\n",
       "<option value=\"1\">1 ildən aşağı</option>\n",
       "<option value=\"2\">1 ildən 3 ilə qədər</option>\n",
       "<option value=\"3\">3 ildən 5 ilə qədər</option>\n",
       "<option value=\"4\">5 ildən artıq</option></select></div><div class=\"input string optional search_keyword\"><label class=\"string optional control-label\" for=\"search_keyword\">Açar sözləri</label><input class=\"string optional form-control\" id=\"search_keyword\" name=\"search[keyword]\" type=\"text\"/></div></div><div class=\"btn-container\"><input class=\"btn btn btn_load-more\" data-disable-with=\"Axtar\" name=\"commit\" type=\"submit\" value=\"Axtar\"/></div></form></div></div></div><div class=\"container\"><div class=\"collection-container\"><div class=\"collection-header\"><h2 class=\"collection-title\">SON İŞ ELANLARI</h2><a class=\"collection-all\" href=\"/vacancies\">Hamısını göstərmək</a><div class=\"collection-stats\">7 gün — <a href=\"/vacancies\">124</a>, ay — <a href=\"/vacancies\">542</a> yeni elan</div></div><div class=\"collection latest\"><div class=\"collection-i\"><a class=\"collection-i-link\" href=\"/vacancies/203027-p\">Satıcı-Kassir</a><br/><div class=\"collection-i-salary salary\">500 - 800 AZN</div><br/><a class=\"collection-i-company\" href=\"/vacancies?search%5Bcompany_id%5D=28151\">Flakes Chimney Cake</a></div><div class=\"collection-i\"><a class=\"collection-i-link\" href=\"/vacancies/190561\">Satış təmsilçisi</a><br/><div class=\"collection-i-salary salary\">500 - 600 AZN</div><br/><a class=\"collection-i-company\" href=\"/vacancies?search%5Bcompany_id%5D=6214\">Stimulworkcenter</a></div><div class=\"collection-i\"><a class=\"collection-i-link\" href=\"/vacancies/205013\">Satış təmsilçisi</a><br/><div class=\"collection-i-salary salary\">1000 AZN</div><br/><a class=\"collection-i-company\" href=\"/vacancies?search%5Bcompany_id%5D=58452\">Marrini Group</a></div><div class=\"collection-i\"><a class=\"collection-i-link\" href=\"/vacancies/205008\">Администратор</a><br/><div class=\"collection-i-salary salary\">1400 AZN</div><br/><a class=\"collection-i-company\" href=\"/vacancies?search%5Bcompany_id%5D=60885\">Rich</a></div><div class=\"collection-i\"><a class=\"collection-i-link\" href=\"/vacancies/205007-p\">Kuryer</a><br/><div class=\"collection-i-salary salary\">800 - 900 AZN</div><br/><a class=\"collection-i-company\" href=\"/vacancies?search%5Bcompany_id%5D=15912\">Pizza Mizza</a></div><div class=\"collection-i\"><a class=\"collection-i-link\" href=\"/vacancies/202571-p\">Agent-makler</a><br/><div class=\"collection-i-salary salary\">1000 - 1500 AZN</div><br/><a class=\"collection-i-company\" href=\"/vacancies?search%5Bcompany_id%5D=23207\">AVALON</a></div><div class=\"collection-i\"><a class=\"collection-i-link\" href=\"/vacancies/203744-p\">Katibə-resepşn</a><br/><div class=\"collection-i-salary salary\">300 - 400 AZN</div><br/><a class=\"collection-i-company\" href=\"/vacancies?search%5Bcompany_id%5D=23207\">AVALON</a></div><div class=\"collection-i\"><a class=\"collection-i-link\" href=\"/vacancies/204999\">Qrafik dizayner</a><br/><div class=\"collection-i-salary salary\">600 - 800 AZN</div><br/><a class=\"collection-i-company\" href=\"/vacancies?search%5Bcompany_id%5D=53986\">CreaTime MMC</a></div><div class=\"collection-i\"><a class=\"collection-i-link\" href=\"/vacancies/204792-p\">Ticarət agenti</a><br/><div class=\"collection-i-salary salary\">700 - 800 AZN</div><br/><a class=\"collection-i-company\" href=\"/vacancies?search%5Bcompany_id%5D=49863\">LEADER COSM MMC</a></div></div></div><div class=\"collection-container\"><div class=\"collection-header\"><h2 class=\"collection-title\">PREMİUM İŞ ELANLARI</h2></div><div class=\"collection featured\"><div class=\"collection-i\"><a class=\"collection-i-link\" href=\"/vacancies/204792-p\">Ticarət agenti</a><br/><div class=\"collection-i-salary salary\">700 - 800 AZN</div><br/><a class=\"collection-i-company\" href=\"/vacancies?search%5Bcompany_id%5D=49863\">LEADER COSM MMC</a></div><div class=\"collection-i\"><a class=\"collection-i-link\" href=\"/vacancies/199426-p\">Ekspeditor</a><br/><div class=\"collection-i-salary salary\">1500 AZN</div><br/><a class=\"collection-i-company\" href=\"/vacancies?search%5Bcompany_id%5D=1070\">Kral ət və ət məhsulları</a></div><div class=\"collection-i\"><a class=\"collection-i-link\" href=\"/vacancies/198480-p\">Avtomobillərə monitor quraşdıran usta</a><br/><div class=\"collection-i-salary salary\">700 - 1200 AZN</div><br/><a class=\"collection-i-company\" href=\"/vacancies?search%5Bcompany_id%5D=50936\">Avto store 333</a></div><div class=\"collection-i\"><a class=\"collection-i-link\" href=\"/vacancies/204546-p\">Filial müdiri (Gəncə)</a><br/><div class=\"collection-i-salary salary\">1500 - 2000 AZN</div><br/><a class=\"collection-i-company\" href=\"/vacancies?search%5Bcompany_id%5D=25417\">\"İnternational\" Kredit Təşkilatı</a></div><div class=\"collection-i\"><a class=\"collection-i-link\" href=\"/vacancies/204472-p\">Qrafik dizayner</a><br/><div class=\"collection-i-salary salary\">1000 - 1500 AZN</div><br/><a class=\"collection-i-company\" href=\"/vacancies?search%5Bcompany_id%5D=38989\">Redel Mondo</a></div><div class=\"collection-i\"><a class=\"collection-i-link\" href=\"/vacancies/204408\">Kontent menecer</a><br/><div class=\"collection-i-salary salary\">400 - 600 AZN</div><br/><a class=\"collection-i-company\" href=\"/vacancies?search%5Bcompany_id%5D=40524\">QalaNews </a></div><div class=\"collection-i\"><a class=\"collection-i-link\" href=\"/vacancies/200485-p\">Operator</a><br/><div class=\"collection-i-salary salary\">200 - 500 AZN</div><br/><a class=\"collection-i-company\" href=\"/vacancies?search%5Bcompany_id%5D=47129\">Asthetiklab </a></div><div class=\"collection-i\"><a class=\"collection-i-link\" href=\"/vacancies/204272-p\">Menecer</a><br/><div class=\"collection-i-salary salary\">500 - 1000 AZN</div><br/><a class=\"collection-i-company\" href=\"/vacancies?search%5Bcompany_id%5D=62142\">\"UNİON LİGHTS\"</a></div><div class=\"collection-i\"><a class=\"collection-i-link\" href=\"/vacancies/204279-p\">Operator</a><br/><div class=\"collection-i-salary salary\">400 - 500 AZN</div><br/><a class=\"collection-i-company\" href=\"/vacancies?search%5Bcompany_id%5D=29268\">Hospital və klinikalar</a></div><div class=\"collection-i\"><a class=\"collection-i-link\" href=\"/vacancies/196324-p\">Kassir</a><br/><div class=\"collection-i-salary salary\">400 - 500 AZN</div><br/><a class=\"collection-i-company\" href=\"/vacancies?search%5Bcompany_id%5D=32566\">Dalğa market</a></div><div class=\"collection-i\"><a class=\"collection-i-link\" href=\"/vacancies/203901-p\">Sürücü</a><br/><div class=\"collection-i-salary salary\">500 - 700 AZN</div><br/><a class=\"collection-i-company\" href=\"/vacancies?search%5Bcompany_id%5D=60002\">Hybrid Park Baku</a></div></div></div><div class=\"widgets\"><div class=\"fb-like-box\" data-colorscheme=\"light\" data-header=\"false\" data-href=\"https://www.facebook.com/www.boss.az\" data-show-border=\"false\" data-show-faces=\"true\" data-stream=\"false\" data-width=\"940\"></div><div class=\"quote\"><div class=\"quote-text\">It does not matter how slowly you go as long as you do not stop.</div><div class=\"quote-by\">Confucius</div></div></div><div class=\"tabs tabs_js\"><ul><li><a href=\"#categories\">BÖLMƏLƏR</a></li><li><a href=\"#companies\">ŞİRKƏTLƏR</a></li></ul><div id=\"categories\"><div class=\"tab-list-container\"><ul class=\"tab-list\"><li class=\"tab-list-i\"><strong><a class=\"tab-list-i-link\" href=\"/vacancies?search%5Bcategory_id%5D=36\">Maliyyə</a></strong></li><li class=\"tab-list-i\"><a class=\"tab-list-i-link\" href=\"/vacancies?search%5Bcategory_id%5D=48\">Kredit mütəxəssisi</a></li><li class=\"tab-list-i\"><a class=\"tab-list-i-link\" href=\"/vacancies?search%5Bcategory_id%5D=49\">Sığorta</a></li><li class=\"tab-list-i\"><a class=\"tab-list-i-link\" href=\"/vacancies?search%5Bcategory_id%5D=51\">Audit</a></li><li class=\"tab-list-i\"><a class=\"tab-list-i-link\" href=\"/vacancies?search%5Bcategory_id%5D=52\">Mühasibat</a></li><li class=\"tab-list-i\"><a class=\"tab-list-i-link\" href=\"/vacancies?search%5Bcategory_id%5D=57\">Maliyyə analiz</a></li><li class=\"tab-list-i\"><a class=\"tab-list-i-link\" href=\"/vacancies?search%5Bcategory_id%5D=150\">Bank xidməti</a></li><li class=\"tab-list-i\"><a class=\"tab-list-i-link\" href=\"/vacancies?search%5Bcategory_id%5D=154\">Kassir</a></li><li class=\"tab-list-i\"><a class=\"tab-list-i-link\" href=\"/vacancies?search%5Bcategory_id%5D=155\">İqtisadçı</a></li><li class=\"tab-list-i\"><a class=\"tab-list-i-link\" href=\"/vacancies?search%5Bcategory_id%5D=129\">Digər</a></li></ul><ul class=\"tab-list\"><li class=\"tab-list-i\"><strong><a class=\"tab-list-i-link\" href=\"/vacancies?search%5Bcategory_id%5D=37\">Marketinq</a></strong></li><li class=\"tab-list-i\"><a class=\"tab-list-i-link\" href=\"/vacancies?search%5Bcategory_id%5D=64\">Marketinq menecment</a></li><li class=\"tab-list-i\"><a class=\"tab-list-i-link\" href=\"/vacancies?search%5Bcategory_id%5D=61\">İctimayətlə əlaqələr</a></li><li class=\"tab-list-i\"><a class=\"tab-list-i-link\" href=\"/vacancies?search%5Bcategory_id%5D=62\">Reklam</a></li><li class=\"tab-list-i\"><a class=\"tab-list-i-link\" href=\"/vacancies?search%5Bcategory_id%5D=60\">Kopiraytinq</a></li></ul><ul class=\"tab-list\"><li class=\"tab-list-i\"><strong><a class=\"tab-list-i-link\" href=\"/vacancies?search%5Bcategory_id%5D=38\">İnformasiya texnologiyaları</a></strong></li><li class=\"tab-list-i\"><a class=\"tab-list-i-link\" href=\"/vacancies?search%5Bcategory_id%5D=66\">Sistem idarəetməsi</a></li><li class=\"tab-list-i\"><a class=\"tab-list-i-link\" href=\"/vacancies?search%5Bcategory_id%5D=67\">Məlumat bazasının idarə edilməsi və inkişafı</a></li><li class=\"tab-list-i\"><a class=\"tab-list-i-link\" href=\"/vacancies?search%5Bcategory_id%5D=68\">İT mütəxəssisi / məsləhətçi</a></li><li class=\"tab-list-i\"><a class=\"tab-list-i-link\" href=\"/vacancies?search%5Bcategory_id%5D=69\">Proqramlaşdırma</a></li><li class=\"tab-list-i\"><a class=\"tab-list-i-link\" href=\"/vacancies?search%5Bcategory_id%5D=70\">İT layihələrin idarə edilməsi</a></li><li class=\"tab-list-i\"><a class=\"tab-list-i-link\" href=\"/vacancies?search%5Bcategory_id%5D=71\">Texniki avadanlıq mütəxəssisi</a></li><li class=\"tab-list-i\"><a class=\"tab-list-i-link\" href=\"/vacancies?search%5Bcategory_id%5D=72\">Digər</a></li></ul><ul class=\"tab-list\"><li class=\"tab-list-i\"><strong><a class=\"tab-list-i-link\" href=\"/vacancies?search%5Bcategory_id%5D=44\">İnzibati</a></strong></li><li class=\"tab-list-i\"><a class=\"tab-list-i-link\" href=\"/vacancies?search%5Bcategory_id%5D=105\">İnzibati dəstək</a></li><li class=\"tab-list-i\"><a class=\"tab-list-i-link\" href=\"/vacancies?search%5Bcategory_id%5D=108\">Menecment</a></li><li class=\"tab-list-i\"><a class=\"tab-list-i-link\" href=\"/vacancies?search%5Bcategory_id%5D=110\">Ofis menecmenti</a></li><li class=\"tab-list-i\"><a class=\"tab-list-i-link\" href=\"/vacancies?search%5Bcategory_id%5D=112\">Katibə / Resepşn</a></li><li class=\"tab-list-i\"><a class=\"tab-list-i-link\" href=\"/vacancies?search%5Bcategory_id%5D=143\">Heyətin idarəolunması</a></li><li class=\"tab-list-i\"><a class=\"tab-list-i-link\" href=\"/vacancies?search%5Bcategory_id%5D=113\">Digər</a></li></ul><ul class=\"tab-list\"><li class=\"tab-list-i\"><strong><a class=\"tab-list-i-link\" href=\"/vacancies?search%5Bcategory_id%5D=40\">Satış</a></strong></li><li class=\"tab-list-i\"><a class=\"tab-list-i-link\" href=\"/vacancies?search%5Bcategory_id%5D=83\">Daşınmaz əmlak agenti / makler</a></li><li class=\"tab-list-i\"><a class=\"tab-list-i-link\" href=\"/vacancies?search%5Bcategory_id%5D=86\">Satış üzrə mütəxəssis</a></li></ul><ul class=\"tab-list\"><li class=\"tab-list-i\"><strong><a class=\"tab-list-i-link\" href=\"/vacancies?search%5Bcategory_id%5D=43\">Dizayn</a></strong></li><li class=\"tab-list-i\"><a class=\"tab-list-i-link\" href=\"/vacancies?search%5Bcategory_id%5D=159\">Veb-dizayn</a></li><li class=\"tab-list-i\"><a class=\"tab-list-i-link\" href=\"/vacancies?search%5Bcategory_id%5D=97\">Memar / İnteryer dizaynı</a></li><li class=\"tab-list-i\"></li><li class=\"tab-list-i\"></li><li class=\"tab-list-i\"><a class=\"tab-list-i-link\" href=\"/vacancies?search%5Bcategory_id%5D=104\">Digər</a></li></ul><ul class=\"tab-list\"><li class=\"tab-list-i\"><strong><a class=\"tab-list-i-link\" href=\"/vacancies?search%5Bcategory_id%5D=39\">Hüquqşünaslıq</a></strong></li><li class=\"tab-list-i\"></li><li class=\"tab-list-i\"></li><li class=\"tab-list-i\"><a class=\"tab-list-i-link\" href=\"/vacancies?search%5Bcategory_id%5D=79\">Hüquqşünas</a></li><li class=\"tab-list-i\"></li></ul><ul class=\"tab-list\"><li class=\"tab-list-i\"><strong><a class=\"tab-list-i-link\" href=\"/vacancies?search%5Bcategory_id%5D=46\">Təhsil və elm</a></strong></li><li class=\"tab-list-i\"></li><li class=\"tab-list-i\"></li><li class=\"tab-list-i\"><a class=\"tab-list-i-link\" href=\"/vacancies?search%5Bcategory_id%5D=121\">Repetitor</a></li><li class=\"tab-list-i\"><a class=\"tab-list-i-link\" href=\"/vacancies?search%5Bcategory_id%5D=122\">Xüsusi təhsil/ Təlim</a></li><li class=\"tab-list-i\"><a class=\"tab-list-i-link\" href=\"/vacancies?search%5Bcategory_id%5D=145\">Digər</a></li></ul><ul class=\"tab-list\"><li class=\"tab-list-i\"><strong><a class=\"tab-list-i-link\" href=\"/vacancies?search%5Bcategory_id%5D=42\">Sənaye və kənd təsərrüfatı</a></strong></li><li class=\"tab-list-i\"><a class=\"tab-list-i-link\" href=\"/vacancies?search%5Bcategory_id%5D=91\">Avtomatlaşdırılmış idarəetmə</a></li><li class=\"tab-list-i\"><a class=\"tab-list-i-link\" href=\"/vacancies?search%5Bcategory_id%5D=92\">Tikinti</a></li><li class=\"tab-list-i\"><a class=\"tab-list-i-link\" href=\"/vacancies?search%5Bcategory_id%5D=95\">Kənd təsərrüfatı</a></li><li class=\"tab-list-i\"><a class=\"tab-list-i-link\" href=\"/vacancies?search%5Bcategory_id%5D=93\">Mühəndis</a></li><li class=\"tab-list-i\"></li><li class=\"tab-list-i\"><a class=\"tab-list-i-link\" href=\"/vacancies?search%5Bcategory_id%5D=96\">Digər</a></li></ul><ul class=\"tab-list\"><li class=\"tab-list-i\"><strong><a class=\"tab-list-i-link\" href=\"/vacancies?search%5Bcategory_id%5D=133\">Xidmət</a></strong></li><li class=\"tab-list-i\"><a class=\"tab-list-i-link\" href=\"/vacancies?search%5Bcategory_id%5D=156\">Kuryer</a></li><li class=\"tab-list-i\"><a class=\"tab-list-i-link\" href=\"/vacancies?search%5Bcategory_id%5D=193\">SPA və gözəllik</a></li><li class=\"tab-list-i\"><a class=\"tab-list-i-link\" href=\"/vacancies?search%5Bcategory_id%5D=157\">Xadimə</a></li><li class=\"tab-list-i\"><a class=\"tab-list-i-link\" href=\"/vacancies?search%5Bcategory_id%5D=158\">Anbardar</a></li><li class=\"tab-list-i\"><a class=\"tab-list-i-link\" href=\"/vacancies?search%5Bcategory_id%5D=134\">Restoran işi</a></li><li class=\"tab-list-i\"><a class=\"tab-list-i-link\" href=\"/vacancies?search%5Bcategory_id%5D=135\">Sürücü</a></li><li class=\"tab-list-i\"></li><li class=\"tab-list-i\"><a class=\"tab-list-i-link\" href=\"/vacancies?search%5Bcategory_id%5D=137\">Fəhlə</a></li><li class=\"tab-list-i\"><a class=\"tab-list-i-link\" href=\"/vacancies?search%5Bcategory_id%5D=142\">Turizm və mehmanxana işi</a></li><li class=\"tab-list-i\"><a class=\"tab-list-i-link\" href=\"/vacancies?search%5Bcategory_id%5D=144\">Tərcüməçi</a></li><li class=\"tab-list-i\"><a class=\"tab-list-i-link\" href=\"/vacancies?search%5Bcategory_id%5D=153\">Mühafizə xidməti</a></li><li class=\"tab-list-i\"><a class=\"tab-list-i-link\" href=\"/vacancies?search%5Bcategory_id%5D=149\">Digər</a></li></ul><ul class=\"tab-list\"><li class=\"tab-list-i\"><strong><a class=\"tab-list-i-link\" href=\"/vacancies?search%5Bcategory_id%5D=138\">Tibb və əczaçılıq</a></strong></li><li class=\"tab-list-i\"></li><li class=\"tab-list-i\"><a class=\"tab-list-i-link\" href=\"/vacancies?search%5Bcategory_id%5D=140\">Tibbi personal</a></li><li class=\"tab-list-i\"><a class=\"tab-list-i-link\" href=\"/vacancies?search%5Bcategory_id%5D=141\">Tibb təmsilçisi</a></li></ul><ul class=\"tab-list\"><li class=\"tab-list-i\"><strong><a class=\"tab-list-i-link\" href=\"/vacancies?search%5Bcategory_id%5D=146\">Müxtəlif</a></strong></li><li class=\"tab-list-i\"><a class=\"tab-list-i-link\" href=\"/vacancies?search%5Bcategory_id%5D=148\">Jurnalistika</a></li><li class=\"tab-list-i\"></li></ul></div></div><div id=\"companies\"><div class=\"tab-list-container\"><ul class=\"tab-list\"><li class=\"tab-list-i\"><a class=\"tab-list-i-link\" href=\"/vacancies?search%5Bcompany_id%5D=12873\">119 Məlumat Xidmət Mərkəzi</a></li><li class=\"tab-list-i\"><a class=\"tab-list-i-link\" href=\"/vacancies?search%5Bcompany_id%5D=27264\">4Service</a></li><li class=\"tab-list-i\"><a class=\"tab-list-i-link\" href=\"/vacancies?search%5Bcompany_id%5D=51757\">5050 Ayıq sürücü xidməti</a></li><li class=\"tab-list-i\"><a class=\"tab-list-i-link\" href=\"/vacancies?search%5Bcompany_id%5D=38739\">*9933 MMC</a></li><li class=\"tab-list-i\"><a class=\"tab-list-i-link\" href=\"/vacancies?search%5Bcompany_id%5D=58721\">Acom ( AZ-EL MMC)</a></li><li class=\"tab-list-i\"><a class=\"tab-list-i-link\" href=\"/vacancies?search%5Bcompany_id%5D=55136\">Admedia Reklam Agentliyi</a></li><li class=\"tab-list-i\"><a class=\"tab-list-i-link\" href=\"/vacancies?search%5Bcompany_id%5D=60658\">Adroit agency</a></li><li class=\"tab-list-i\"><a class=\"tab-list-i-link\" href=\"/vacancies?search%5Bcompany_id%5D=33923\">AEM ELEKTRON</a></li><li class=\"tab-list-i\"><a class=\"tab-list-i-link\" href=\"/vacancies?search%5Bcompany_id%5D=48238\">Ag evler Nerimanov</a></li><li class=\"tab-list-i\"><a class=\"tab-list-i-link\" href=\"/vacancies?search%5Bcompany_id%5D=60342\">Agro-West DC</a></li><li class=\"tab-list-i\"><a class=\"tab-list-i-link\" href=\"/vacancies?search%5Bcompany_id%5D=57153\">AH GROUP</a></li><li class=\"tab-list-i\"><a class=\"tab-list-i-link\" href=\"/vacancies?search%5Bcompany_id%5D=60285\">Aik</a></li><li class=\"tab-list-i\"><a class=\"tab-list-i-link\" href=\"/vacancies?search%5Bcompany_id%5D=23658\">AİLƏ BİSKVİT MMC</a></li><li class=\"tab-list-i\"><a class=\"tab-list-i-link\" href=\"/vacancies?search%5Bcompany_id%5D=48877\">Airpartstock Company LTD</a></li><li class=\"tab-list-i\"><a class=\"tab-list-i-link\" href=\"/vacancies?search%5Bcompany_id%5D=50473\">AİSTGroup MMC</a></li><li class=\"tab-list-i\"><a class=\"tab-list-i-link\" href=\"/vacancies?search%5Bcompany_id%5D=36121\">Aksent</a></li><li class=\"tab-list-i\"><a class=\"tab-list-i-link\" href=\"/vacancies?search%5Bcompany_id%5D=26810\">Alarna Technology</a></li><li class=\"tab-list-i\"><a class=\"tab-list-i-link\" href=\"/vacancies?search%5Bcompany_id%5D=57606\">Alba Hotel&amp;Spa</a></li><li class=\"tab-list-i\"><a class=\"tab-list-i-link\" href=\"/vacancies?search%5Bcompany_id%5D=35388\">ALFA-MS</a></li><li class=\"tab-list-i\"><a class=\"tab-list-i-link\" href=\"/vacancies?search%5Bcompany_id%5D=43348\">Alliance Law Center</a></li><li class=\"tab-list-i\"><a class=\"tab-list-i-link\" href=\"/vacancies?search%5Bcompany_id%5D=801\">Allprint</a></li><li class=\"tab-list-i\"><a class=\"tab-list-i-link\" href=\"/vacancies?search%5Bcompany_id%5D=52760\">Alpha media</a></li><li class=\"tab-list-i\"><a class=\"tab-list-i-link\" href=\"/vacancies?search%5Bcompany_id%5D=13892\">ALP Inn Hotel</a></li><li class=\"tab-list-i\"><a class=\"tab-list-i-link\" href=\"/vacancies?search%5Bcompany_id%5D=46348\">Amac MMC</a></li><li class=\"tab-list-i\"><a class=\"tab-list-i-link\" href=\"/vacancies?search%5Bcompany_id%5D=55482\">An İmport Eksport MMC</a></li><li class=\"tab-list-i\"><a class=\"tab-list-i-link\" href=\"/vacancies?search%5Bcompany_id%5D=62324\">Antaris QSC</a></li><li class=\"tab-list-i\"><a class=\"tab-list-i-link\" href=\"/vacancies?search%5Bcompany_id%5D=61770\">A PREMIUM CLEANING MMC</a></li><li class=\"tab-list-i\"><a class=\"tab-list-i-link\" href=\"/vacancies?search%5Bcompany_id%5D=27876\">Aptek Həyat MMC</a></li><li class=\"tab-list-i\"><a class=\"tab-list-i-link\" href=\"/vacancies?search%5Bcompany_id%5D=23136\">Aqrarkredit Səhmdar Kredit Təşkilatı</a></li><li class=\"tab-list-i\"><a class=\"tab-list-i-link\" href=\"/vacancies?search%5Bcompany_id%5D=29649\">Aqua Life</a></li><li class=\"tab-list-i\"><a class=\"tab-list-i-link\" href=\"/vacancies?search%5Bcompany_id%5D=56856\">Aquamarket </a></li><li class=\"tab-list-i\"><a class=\"tab-list-i-link\" href=\"/vacancies?search%5Bcompany_id%5D=59920\">Araznet MMC</a></li><li class=\"tab-list-i\"><a class=\"tab-list-i-link\" href=\"/vacancies?search%5Bcompany_id%5D=61867\">Arda Medical</a></li><li class=\"tab-list-i\"><a class=\"tab-list-i-link\" href=\"/vacancies?search%5Bcompany_id%5D=49813\">\"Army\"  </a></li><li class=\"tab-list-i\"><a class=\"tab-list-i-link\" href=\"/vacancies?search%5Bcompany_id%5D=1644\">Arsenal Group</a></li><li class=\"tab-list-i\"><a class=\"tab-list-i-link\" href=\"/vacancies?search%5Bcompany_id%5D=49688\">ARS Express </a></li><li class=\"tab-list-i\"><a class=\"tab-list-i-link\" href=\"/vacancies?search%5Bcompany_id%5D=53947\">\"Art Club\" Hotel</a></li><li class=\"tab-list-i\"><a class=\"tab-list-i-link\" href=\"/vacancies?search%5Bcompany_id%5D=62363\">Artpeople MMC</a></li><li class=\"tab-list-i\"><a class=\"tab-list-i-link\" href=\"/vacancies?search%5Bcompany_id%5D=47503\">Asestetik</a></li><li class=\"tab-list-i\"><a class=\"tab-list-i-link\" href=\"/vacancies?search%5Bcompany_id%5D=2237\">Asfarma</a></li><li class=\"tab-list-i\"><a class=\"tab-list-i-link\" href=\"/vacancies?search%5Bcompany_id%5D=62361\">ASLANOĞULLARI ENDÜSTRİYEL MUTFAK</a></li><li class=\"tab-list-i\"><a class=\"tab-list-i-link\" href=\"/vacancies?search%5Bcompany_id%5D=62213\">As Motors Group</a></li><li class=\"tab-list-i\"><a class=\"tab-list-i-link\" href=\"/vacancies?search%5Bcompany_id%5D=47129\">Asthetiklab </a></li><li class=\"tab-list-i\"><a class=\"tab-list-i-link\" href=\"/vacancies?search%5Bcompany_id%5D=49188\">\"ATA PACK\" MMC</a></li><li class=\"tab-list-i\"><a class=\"tab-list-i-link\" href=\"/vacancies?search%5Bcompany_id%5D=61585\">Atogroup</a></li><li class=\"tab-list-i\"><a class=\"tab-list-i-link\" href=\"/vacancies?search%5Bcompany_id%5D=62272\">ATOM idman klubu</a></li><li class=\"tab-list-i\"><a class=\"tab-list-i-link\" href=\"/vacancies?search%5Bcompany_id%5D=6031\">AUDIOMED Eşitmə Mərkəzi</a></li><li class=\"tab-list-i\"><a class=\"tab-list-i-link\" href=\"/vacancies?search%5Bcompany_id%5D=43760\">AU ROOM HOTEL BAKU</a></li><li class=\"tab-list-i\"><a class=\"tab-list-i-link\" href=\"/vacancies?search%5Bcompany_id%5D=23207\">AVALON</a></li><li class=\"tab-list-i\"><a class=\"tab-list-i-link\" href=\"/vacancies?search%5Bcompany_id%5D=61967\">Avand Advisors MMC</a></li><li class=\"tab-list-i\"><a class=\"tab-list-i-link\" href=\"/vacancies?search%5Bcompany_id%5D=46798\">Avenue Hotel</a></li><li class=\"tab-list-i\"><a class=\"tab-list-i-link\" href=\"/vacancies?search%5Bcompany_id%5D=962\">AVİS Tibbi Marketlər Şəbəkəsi</a></li><li class=\"tab-list-i\"><a class=\"tab-list-i-link\" href=\"/vacancies?search%5Bcompany_id%5D=52998\">\"Avromak\" MMCİstehsalat və satış</a></li><li class=\"tab-list-i\"><a class=\"tab-list-i-link\" href=\"/vacancies?search%5Bcompany_id%5D=50936\">Avto store 333</a></li><li class=\"tab-list-i\"><a class=\"tab-list-i-link\" href=\"/vacancies?search%5Bcompany_id%5D=59341\">AzariExpress</a></li><li class=\"tab-list-i\"><a class=\"tab-list-i-link\" href=\"/vacancies?search%5Bcompany_id%5D=21942\">Azcake MMC  </a></li><li class=\"tab-list-i\"><a class=\"tab-list-i-link\" href=\"/vacancies?search%5Bcompany_id%5D=59178\">AzEduNet</a></li><li class=\"tab-list-i\"><a class=\"tab-list-i-link\" href=\"/vacancies?search%5Bcompany_id%5D=48363\">“Azerbaijan Fish Farm” MMC</a></li><li class=\"tab-list-i\"><a class=\"tab-list-i-link\" href=\"/vacancies?search%5Bcompany_id%5D=62210\">Azer Estate</a></li><li class=\"tab-list-i\"><a class=\"tab-list-i-link\" href=\"/vacancies?search%5Bcompany_id%5D=56334\">AzEstetik Group</a></li><li class=\"tab-list-i\"><a class=\"tab-list-i-link\" href=\"/vacancies?search%5Bcompany_id%5D=30956\">Azər Glass MMC</a></li><li class=\"tab-list-i\"><a class=\"tab-list-i-link\" href=\"/vacancies?search%5Bcompany_id%5D=1948\">AzəriMed QSC</a></li><li class=\"tab-list-i\"><a class=\"tab-list-i-link\" href=\"/vacancies?search%5Bcompany_id%5D=53798\">Azərmaş MMC</a></li><li class=\"tab-list-i\"><a class=\"tab-list-i-link\" href=\"/vacancies?search%5Bcompany_id%5D=58669\">Azin Technology MMC</a></li><li class=\"tab-list-i\"><a class=\"tab-list-i-link\" href=\"/vacancies?search%5Bcompany_id%5D=52542\">AZSoft MMC</a></li><li class=\"tab-list-i\"><a class=\"tab-list-i-link\" href=\"/vacancies?search%5Bcompany_id%5D=49318\">AZTUR RENT A CAR</a></li><li class=\"tab-list-i\"><a class=\"tab-list-i-link\" href=\"/vacancies?search%5Bcompany_id%5D=56882\">AZUNİVET MMC </a></li><li class=\"tab-list-i\"><a class=\"tab-list-i-link\" href=\"/vacancies?search%5Bcompany_id%5D=58572\">Baki Taksi Xidməti</a></li><li class=\"tab-list-i\"><a class=\"tab-list-i-link\" href=\"/vacancies?search%5Bcompany_id%5D=61974\">Baku City</a></li><li class=\"tab-list-i\"><a class=\"tab-list-i-link\" href=\"/vacancies?search%5Bcompany_id%5D=57229\">Baku Diet Cafe</a></li><li class=\"tab-list-i\"><a class=\"tab-list-i-link\" href=\"/vacancies?search%5Bcompany_id%5D=1894\">Baku Electronics</a></li><li class=\"tab-list-i\"><a class=\"tab-list-i-link\" href=\"/vacancies?search%5Bcompany_id%5D=62260\">BakuPay</a></li><li class=\"tab-list-i\"><a class=\"tab-list-i-link\" href=\"/vacancies?search%5Bcompany_id%5D=43815\">\"Baku Pearl Residence\" MMC</a></li><li class=\"tab-list-i\"><a class=\"tab-list-i-link\" href=\"/vacancies?search%5Bcompany_id%5D=58231\">Balacans Agro Food MMC</a></li><li class=\"tab-list-i\"><a class=\"tab-list-i-link\" href=\"/vacancies?search%5Bcompany_id%5D=47388\">Balli Bisi MMC</a></li><li class=\"tab-list-i\"><a class=\"tab-list-i-link\" href=\"/vacancies?search%5Bcompany_id%5D=26595\">Ballı</a></li><li class=\"tab-list-i\"><a class=\"tab-list-i-link\" href=\"/vacancies?search%5Bcompany_id%5D=62161\">Bantik Kosmetik</a></li><li class=\"tab-list-i\"><a class=\"tab-list-i-link\" href=\"/vacancies?search%5Bcompany_id%5D=24381\">Barattson School of Business and Finance</a></li><li class=\"tab-list-i\"><a class=\"tab-list-i-link\" href=\"/vacancies?search%5Bcompany_id%5D=52923\">Başak Group MMC</a></li><li class=\"tab-list-i\"><a class=\"tab-list-i-link\" href=\"/vacancies?search%5Bcompany_id%5D=43457\">BBT MMC</a></li><li class=\"tab-list-i\"><a class=\"tab-list-i-link\" href=\"/vacancies?search%5Bcompany_id%5D=42272\">Beat Group</a></li><li class=\"tab-list-i\"><a class=\"tab-list-i-link\" href=\"/vacancies?search%5Bcompany_id%5D=58539\">Best Bearings Company</a></li><li class=\"tab-list-i\"><a class=\"tab-list-i-link\" href=\"/vacancies?search%5Bcompany_id%5D=44422\">\"Best Cleaning Group\" MMC</a></li><li class=\"tab-list-i\"><a class=\"tab-list-i-link\" href=\"/vacancies?search%5Bcompany_id%5D=52228\">Best Home Group </a></li><li class=\"tab-list-i\"><a class=\"tab-list-i-link\" href=\"/vacancies?search%5Bcompany_id%5D=46409\">\"BESTİNG\" MMC</a></li><li class=\"tab-list-i\"><a class=\"tab-list-i-link\" href=\"/vacancies?search%5Bcompany_id%5D=23630\">Bestpromo</a></li><li class=\"tab-list-i\"><a class=\"tab-list-i-link\" href=\"/vacancies?search%5Bcompany_id%5D=24309\">Beta Azerbaijan</a></li><li class=\"tab-list-i\"><a class=\"tab-list-i-link\" href=\"/vacancies?search%5Bcompany_id%5D=62128\">BG Company MMC</a></li><li class=\"tab-list-i\"><a class=\"tab-list-i-link\" href=\"/vacancies?search%5Bcompany_id%5D=61611\">BMEC</a></li><li class=\"tab-list-i\"><a class=\"tab-list-i-link\" href=\"/vacancies?search%5Bcompany_id%5D=17736\">BME MMC</a></li><li class=\"tab-list-i\"><a class=\"tab-list-i-link\" href=\"/vacancies?search%5Bcompany_id%5D=52076\">BOKT EmbaFinans QSC        </a></li><li class=\"tab-list-i\"><a class=\"tab-list-i-link\" href=\"/vacancies?search%5Bcompany_id%5D=62332\">Bonappetitaz MMC</a></li><li class=\"tab-list-i\"><a class=\"tab-list-i-link\" href=\"/vacancies?search%5Bcompany_id%5D=55036\">Botelli</a></li><li class=\"tab-list-i\"><a class=\"tab-list-i-link\" href=\"/vacancies?search%5Bcompany_id%5D=39478\">Braziliya Federativ Respublikasının Səfirliyi</a></li><li class=\"tab-list-i\"><a class=\"tab-list-i-link\" href=\"/vacancies?search%5Bcompany_id%5D=42320\">Brend Əmlak</a></li><li class=\"tab-list-i\"><a class=\"tab-list-i-link\" href=\"/vacancies?search%5Bcompany_id%5D=18383\">British Academy Azerbaijan</a></li><li class=\"tab-list-i\"><a class=\"tab-list-i-link\" href=\"/vacancies?search%5Bcompany_id%5D=12763\">British Educational Centre</a></li><li class=\"tab-list-i\"><a class=\"tab-list-i-link\" href=\"/vacancies?search%5Bcompany_id%5D=11717\">BROT HAUS</a></li><li class=\"tab-list-i\"><a class=\"tab-list-i-link\" href=\"/vacancies?search%5Bcompany_id%5D=43735\">BS Group</a></li><li class=\"tab-list-i\"><a class=\"tab-list-i-link\" href=\"/vacancies?search%5Bcompany_id%5D=61128\">Bulud Telecom</a></li><li class=\"tab-list-i\"><a class=\"tab-list-i-link\" href=\"/vacancies?search%5Bcompany_id%5D=6274\">Business Service Center</a></li><li class=\"tab-list-i\"><a class=\"tab-list-i-link\" href=\"/vacancies?search%5Bcompany_id%5D=39747\">Buxar Mühəndislik</a></li><li class=\"tab-list-i\"><a class=\"tab-list-i-link\" href=\"/vacancies?search%5Bcompany_id%5D=56696\">Cafe Falafel</a></li><li class=\"tab-list-i\"><a class=\"tab-list-i-link\" href=\"/vacancies?search%5Bcompany_id%5D=5721\">\"Camal” LTD Company</a></li><li class=\"tab-list-i\"><a class=\"tab-list-i-link\" href=\"/vacancies?search%5Bcompany_id%5D=62145\">CanAz Group</a></li><li class=\"tab-list-i\"><a class=\"tab-list-i-link\" href=\"/vacancies?search%5Bcompany_id%5D=41780\">CAN-PA MMC</a></li><li class=\"tab-list-i\"><a class=\"tab-list-i-link\" href=\"/vacancies?search%5Bcompany_id%5D=60772\">Caravan Group</a></li><li class=\"tab-list-i\"><a class=\"tab-list-i-link\" href=\"/vacancies?search%5Bcompany_id%5D=5104\">CASPİAN ENERGY CLUB</a></li><li class=\"tab-list-i\"><a class=\"tab-list-i-link\" href=\"/vacancies?search%5Bcompany_id%5D=62216\">“Caspian RH Construction” MMC  \t</a></li><li class=\"tab-list-i\"><a class=\"tab-list-i-link\" href=\"/vacancies?search%5Bcompany_id%5D=4149\">Caspian Telecom MMC</a></li><li class=\"tab-list-i\"><a class=\"tab-list-i-link\" href=\"/vacancies?search%5Bcompany_id%5D=46960\">CASPİ GROUP</a></li><li class=\"tab-list-i\"><a class=\"tab-list-i-link\" href=\"/vacancies?search%5Bcompany_id%5D=50841\">CASPRO MMC</a></li><li class=\"tab-list-i\"><a class=\"tab-list-i-link\" href=\"/vacancies?search%5Bcompany_id%5D=6808\">Cermington LLC</a></li><li class=\"tab-list-i\"><a class=\"tab-list-i-link\" href=\"/vacancies?search%5Bcompany_id%5D=16099\">CETA Translations</a></li><li class=\"tab-list-i\"><a class=\"tab-list-i-link\" href=\"/vacancies?search%5Bcompany_id%5D=50922\">Cənnət Bağı Qrup</a></li><li class=\"tab-list-i\"><a class=\"tab-list-i-link\" href=\"/vacancies?search%5Bcompany_id%5D=47748\">CHARLES CROSS - LONDON</a></li><li class=\"tab-list-i\"><a class=\"tab-list-i-link\" href=\"/vacancies?search%5Bcompany_id%5D=55666\">Chat-A-Chat MMC</a></li><li class=\"tab-list-i\"><a class=\"tab-list-i-link\" href=\"/vacancies?search%5Bcompany_id%5D=51365\">“Çinarlı-2020” MMC </a></li><li class=\"tab-list-i\"><a class=\"tab-list-i-link\" href=\"/vacancies?search%5Bcompany_id%5D=62256\">Çinar Şirkəti</a></li><li class=\"tab-list-i\"><a class=\"tab-list-i-link\" href=\"/vacancies?search%5Bcompany_id%5D=948\">Çinici</a></li><li class=\"tab-list-i\"><a class=\"tab-list-i-link\" href=\"/vacancies?search%5Bcompany_id%5D=53802\">\"CİTYFARM\" MMC-e,  Selenium Apteklər şəbəkıəsi</a></li><li class=\"tab-list-i\"><a class=\"tab-list-i-link\" href=\"/vacancies?search%5Bcompany_id%5D=55363\">City House</a></li><li class=\"tab-list-i\"><a class=\"tab-list-i-link\" href=\"/vacancies?search%5Bcompany_id%5D=57662\">Clean-House Cleaning Service MMC</a></li><li class=\"tab-list-i\"><a class=\"tab-list-i-link\" href=\"/vacancies?search%5Bcompany_id%5D=62123\">CMT GROUP MMC</a></li><li class=\"tab-list-i\"><a class=\"tab-list-i-link\" href=\"/vacancies?search%5Bcompany_id%5D=60143\">CNS</a></li><li class=\"tab-list-i\"><a class=\"tab-list-i-link\" href=\"/vacancies?search%5Bcompany_id%5D=43615\">CoffeeLea</a></li><li class=\"tab-list-i\"><a class=\"tab-list-i-link\" href=\"/vacancies?search%5Bcompany_id%5D=35853\">Collezione İtalia</a></li><li class=\"tab-list-i\"><a class=\"tab-list-i-link\" href=\"/vacancies?search%5Bcompany_id%5D=41471\">Competo MMC</a></li><li class=\"tab-list-i\"><a class=\"tab-list-i-link\" href=\"/vacancies?search%5Bcompany_id%5D=53751\">Consol Group MMC</a></li><li class=\"tab-list-i\"><a class=\"tab-list-i-link\" href=\"/vacancies?search%5Bcompany_id%5D=47493\">Cook House Mağazalar şəbəkəsi.</a></li><li class=\"tab-list-i\"><a class=\"tab-list-i-link\" href=\"/vacancies?search%5Bcompany_id%5D=51464\">Corn Advertising MMC</a></li><li class=\"tab-list-i\"><a class=\"tab-list-i-link\" href=\"/vacancies?search%5Bcompany_id%5D=60276\">courierbaku.az</a></li><li class=\"tab-list-i\"><a class=\"tab-list-i-link\" href=\"/vacancies?search%5Bcompany_id%5D=53986\">CreaTime MMC</a></li><li class=\"tab-list-i\"><a class=\"tab-list-i-link\" href=\"/vacancies?search%5Bcompany_id%5D=7605\">\"Creative TK\" Education Complex</a></li><li class=\"tab-list-i\"><a class=\"tab-list-i-link\" href=\"/vacancies?search%5Bcompany_id%5D=52835\">CROX GROUP</a></li><li class=\"tab-list-i\"><a class=\"tab-list-i-link\" href=\"/vacancies?search%5Bcompany_id%5D=32566\">Dalğa market</a></li><li class=\"tab-list-i\"><a class=\"tab-list-i-link\" href=\"/vacancies?search%5Bcompany_id%5D=55357\">Dashyunu.az MMC</a></li><li class=\"tab-list-i\"><a class=\"tab-list-i-link\" href=\"/vacancies?search%5Bcompany_id%5D=40643\">DATALİNE</a></li><li class=\"tab-list-i\"><a class=\"tab-list-i-link\" href=\"/vacancies?search%5Bcompany_id%5D=54380\">Deliveroff</a></li><li class=\"tab-list-i\"><a class=\"tab-list-i-link\" href=\"/vacancies?search%5Bcompany_id%5D=60267\">Denteca MMC</a></li><li class=\"tab-list-i\"><a class=\"tab-list-i-link\" href=\"/vacancies?search%5Bcompany_id%5D=59909\">Deziline MMC</a></li><li class=\"tab-list-i\"><a class=\"tab-list-i-link\" href=\"/vacancies?search%5Bcompany_id%5D=8095\">DHL Express Baku</a></li><li class=\"tab-list-i\"><a class=\"tab-list-i-link\" href=\"/vacancies?search%5Bcompany_id%5D=62282\">Diet Aptek</a></li><li class=\"tab-list-i\"><a class=\"tab-list-i-link\" href=\"/vacancies?search%5Bcompany_id%5D=61900\">Digipro Media</a></li><li class=\"tab-list-i\"><a class=\"tab-list-i-link\" href=\"/vacancies?search%5Bcompany_id%5D=26349\">Digital Classifieds</a></li><li class=\"tab-list-i\"><a class=\"tab-list-i-link\" href=\"/vacancies?search%5Bcompany_id%5D=62367\">DIMAP</a></li><li class=\"tab-list-i\"><a class=\"tab-list-i-link\" href=\"/vacancies?search%5Bcompany_id%5D=61558\">Dinamik Ocean</a></li><li class=\"tab-list-i\"><a class=\"tab-list-i-link\" href=\"/vacancies?search%5Bcompany_id%5D=57591\">Dino Kids Shop</a></li><li class=\"tab-list-i\"><a class=\"tab-list-i-link\" href=\"/vacancies?search%5Bcompany_id%5D=833\">Displey and Stend</a></li><li class=\"tab-list-i\"><a class=\"tab-list-i-link\" href=\"/vacancies?search%5Bcompany_id%5D=53370\">D-İT MMC</a></li><li class=\"tab-list-i\"><a class=\"tab-list-i-link\" href=\"/vacancies?search%5Bcompany_id%5D=35775\">DiVi Corporation</a></li><li class=\"tab-list-i\"><a class=\"tab-list-i-link\" href=\"/vacancies?search%5Bcompany_id%5D=61582\">Doctor Pharma </a></li><li class=\"tab-list-i\"><a class=\"tab-list-i-link\" href=\"/vacancies?search%5Bcompany_id%5D=60908\">DODO MMC</a></li><li class=\"tab-list-i\"><a class=\"tab-list-i-link\" href=\"/vacancies?search%5Bcompany_id%5D=12544\">DOĞTAŞ MEBEL MMC</a></li><li class=\"tab-list-i\"><a class=\"tab-list-i-link\" href=\"/vacancies?search%5Bcompany_id%5D=61871\">DOĞTAŞ MMC</a></li><li class=\"tab-list-i\"><a class=\"tab-list-i-link\" href=\"/vacancies?search%5Bcompany_id%5D=16229\">DSG</a></li><li class=\"tab-list-i\"><a class=\"tab-list-i-link\" href=\"/vacancies?search%5Bcompany_id%5D=62146\">EasyFishoil.az</a></li></ul><ul class=\"tab-list\"><li class=\"tab-list-i\"><a class=\"tab-list-i-link\" href=\"/vacancies?search%5Bcompany_id%5D=33408\">ECAZ</a></li><li class=\"tab-list-i\"><a class=\"tab-list-i-link\" href=\"/vacancies?search%5Bcompany_id%5D=34696\">EE Tikinti Servis MMC</a></li><li class=\"tab-list-i\"><a class=\"tab-list-i-link\" href=\"/vacancies?search%5Bcompany_id%5D=17624\">EGO Tech</a></li><li class=\"tab-list-i\"><a class=\"tab-list-i-link\" href=\"/vacancies?search%5Bcompany_id%5D=56791\">Elay Cosmetics</a></li><li class=\"tab-list-i\"><a class=\"tab-list-i-link\" href=\"/vacancies?search%5Bcompany_id%5D=49301\">Eld-Art</a></li><li class=\"tab-list-i\"><a class=\"tab-list-i-link\" href=\"/vacancies?search%5Bcompany_id%5D=61293\">ELECTRO CENTER</a></li><li class=\"tab-list-i\"><a class=\"tab-list-i-link\" href=\"/vacancies?search%5Bcompany_id%5D=57182\">ELİTE TAX MASTER MMC</a></li><li class=\"tab-list-i\"><a class=\"tab-list-i-link\" href=\"/vacancies?search%5Bcompany_id%5D=56246\">Embawood</a></li><li class=\"tab-list-i\"><a class=\"tab-list-i-link\" href=\"/vacancies?search%5Bcompany_id%5D=44884\">EMMI Perfumery &amp; Cosmetics</a></li><li class=\"tab-list-i\"><a class=\"tab-list-i-link\" href=\"/vacancies?search%5Bcompany_id%5D=49137\">Encom Construction</a></li><li class=\"tab-list-i\"><a class=\"tab-list-i-link\" href=\"/vacancies?search%5Bcompany_id%5D=27491\">ENGİNET MMC</a></li><li class=\"tab-list-i\"><a class=\"tab-list-i-link\" href=\"/vacancies?search%5Bcompany_id%5D=45881\">Engin LTD</a></li><li class=\"tab-list-i\"><a class=\"tab-list-i-link\" href=\"/vacancies?search%5Bcompany_id%5D=54640\">\"Envix Print\" MMC</a></li><li class=\"tab-list-i\"><a class=\"tab-list-i-link\" href=\"/vacancies?search%5Bcompany_id%5D=32705\">EuroStar </a></li><li class=\"tab-list-i\"><a class=\"tab-list-i-link\" href=\"/vacancies?search%5Bcompany_id%5D=5755\">Eurostar Group təmizlik şirkəti</a></li><li class=\"tab-list-i\"><a class=\"tab-list-i-link\" href=\"/vacancies?search%5Bcompany_id%5D=46610\">Ev Azerbaycan </a></li><li class=\"tab-list-i\"><a class=\"tab-list-i-link\" href=\"/vacancies?search%5Bcompany_id%5D=50057\">Evro İnşaat MMC</a></li><li class=\"tab-list-i\"><a class=\"tab-list-i-link\" href=\"/vacancies?search%5Bcompany_id%5D=39477\">FABRİCA</a></li><li class=\"tab-list-i\"><a class=\"tab-list-i-link\" href=\"/vacancies?search%5Bcompany_id%5D=61301\">Facility Managament Group</a></li><li class=\"tab-list-i\"><a class=\"tab-list-i-link\" href=\"/vacancies?search%5Bcompany_id%5D=9894\">Fairmont Baku </a></li><li class=\"tab-list-i\"><a class=\"tab-list-i-link\" href=\"/vacancies?search%5Bcompany_id%5D=62139\">FalconX</a></li><li class=\"tab-list-i\"><a class=\"tab-list-i-link\" href=\"/vacancies?search%5Bcompany_id%5D=62108\">FBF MMC</a></li><li class=\"tab-list-i\"><a class=\"tab-list-i-link\" href=\"/vacancies?search%5Bcompany_id%5D=57226\">Fenix Travel Agency</a></li><li class=\"tab-list-i\"><a class=\"tab-list-i-link\" href=\"/vacancies?search%5Bcompany_id%5D=57687\">Fex Driver</a></li><li class=\"tab-list-i\"><a class=\"tab-list-i-link\" href=\"/vacancies?search%5Bcompany_id%5D=57165\">Ff Consulting</a></li><li class=\"tab-list-i\"><a class=\"tab-list-i-link\" href=\"/vacancies?search%5Bcompany_id%5D=59190\">FGAC</a></li><li class=\"tab-list-i\"><a class=\"tab-list-i-link\" href=\"/vacancies?search%5Bcompany_id%5D=61612\">Fire Group MMC</a></li><li class=\"tab-list-i\"><a class=\"tab-list-i-link\" href=\"/vacancies?search%5Bcompany_id%5D=62248\">FitnessLab idman zalı</a></li><li class=\"tab-list-i\"><a class=\"tab-list-i-link\" href=\"/vacancies?search%5Bcompany_id%5D=34388\">Fiziki şəxs</a></li><li class=\"tab-list-i\"><a class=\"tab-list-i-link\" href=\"/vacancies?search%5Bcompany_id%5D=28151\">Flakes Chimney Cake</a></li><li class=\"tab-list-i\"><a class=\"tab-list-i-link\" href=\"/vacancies?search%5Bcompany_id%5D=57625\">FMG MMC</a></li><li class=\"tab-list-i\"><a class=\"tab-list-i-link\" href=\"/vacancies?search%5Bcompany_id%5D=45918\">Fokus Optika MMC</a></li><li class=\"tab-list-i\"><a class=\"tab-list-i-link\" href=\"/vacancies?search%5Bcompany_id%5D=50687\">Food Trade MMC</a></li><li class=\"tab-list-i\"><a class=\"tab-list-i-link\" href=\"/vacancies?search%5Bcompany_id%5D=30294\">FORELLI</a></li><li class=\"tab-list-i\"><a class=\"tab-list-i-link\" href=\"/vacancies?search%5Bcompany_id%5D=35300\">\"Fostonpak\" LLC</a></li><li class=\"tab-list-i\"><a class=\"tab-list-i-link\" href=\"/vacancies?search%5Bcompany_id%5D=59033\">FS Mackenzie </a></li><li class=\"tab-list-i\"><a class=\"tab-list-i-link\" href=\"/vacancies?search%5Bcompany_id%5D=56235\">FULL TRAVEL</a></li><li class=\"tab-list-i\"><a class=\"tab-list-i-link\" href=\"/vacancies?search%5Bcompany_id%5D=61248\">GeHome</a></li><li class=\"tab-list-i\"><a class=\"tab-list-i-link\" href=\"/vacancies?search%5Bcompany_id%5D=33334\">General Construction LLC</a></li><li class=\"tab-list-i\"><a class=\"tab-list-i-link\" href=\"/vacancies?search%5Bcompany_id%5D=1190\">Germes</a></li><li class=\"tab-list-i\"><a class=\"tab-list-i-link\" href=\"/vacancies?search%5Bcompany_id%5D=46923\">Gesgroup</a></li><li class=\"tab-list-i\"><a class=\"tab-list-i-link\" href=\"/vacancies?search%5Bcompany_id%5D=6192\">Gəncəli Plaza</a></li><li class=\"tab-list-i\"><a class=\"tab-list-i-link\" href=\"/vacancies?search%5Bcompany_id%5D=5380\">Gidromaşservis QSC</a></li><li class=\"tab-list-i\"><a class=\"tab-list-i-link\" href=\"/vacancies?search%5Bcompany_id%5D=51201\">Global Logistics Services</a></li><li class=\"tab-list-i\"><a class=\"tab-list-i-link\" href=\"/vacancies?search%5Bcompany_id%5D=62364\">Global Transaction MMC</a></li><li class=\"tab-list-i\"><a class=\"tab-list-i-link\" href=\"/vacancies?search%5Bcompany_id%5D=58843\">Goodnet MMC</a></li><li class=\"tab-list-i\"><a class=\"tab-list-i-link\" href=\"/vacancies?search%5Bcompany_id%5D=62151\">Grand Hayat Management</a></li><li class=\"tab-list-i\"><a class=\"tab-list-i-link\" href=\"/vacancies?search%5Bcompany_id%5D=62087\">Grand Hotel Europe Baku</a></li><li class=\"tab-list-i\"><a class=\"tab-list-i-link\" href=\"/vacancies?search%5Bcompany_id%5D=49882\">Grand Medical</a></li><li class=\"tab-list-i\"><a class=\"tab-list-i-link\" href=\"/vacancies?search%5Bcompany_id%5D=59095\">Grand Midway Otel</a></li><li class=\"tab-list-i\"><a class=\"tab-list-i-link\" href=\"/vacancies?search%5Bcompany_id%5D=19277\">Graphic MMC</a></li><li class=\"tab-list-i\"><a class=\"tab-list-i-link\" href=\"/vacancies?search%5Bcompany_id%5D=54777\">GreenPath MMC</a></li><li class=\"tab-list-i\"><a class=\"tab-list-i-link\" href=\"/vacancies?search%5Bcompany_id%5D=62300\">Greenstream</a></li><li class=\"tab-list-i\"><a class=\"tab-list-i-link\" href=\"/vacancies?search%5Bcompany_id%5D=57458\">Green Stream İnternational MMC</a></li><li class=\"tab-list-i\"><a class=\"tab-list-i-link\" href=\"/vacancies?search%5Bcompany_id%5D=62250\">Greenwich Travel Club</a></li><li class=\"tab-list-i\"><a class=\"tab-list-i-link\" href=\"/vacancies?search%5Bcompany_id%5D=41523\">Growth Consulting Services</a></li><li class=\"tab-list-i\"><a class=\"tab-list-i-link\" href=\"/vacancies?search%5Bcompany_id%5D=41454\">\"GS1 Azerbaijan\" MMC</a></li><li class=\"tab-list-i\"><a class=\"tab-list-i-link\" href=\"/vacancies?search%5Bcompany_id%5D=62227\">Gulf Tourism</a></li><li class=\"tab-list-i\"><a class=\"tab-list-i-link\" href=\"/vacancies?search%5Bcompany_id%5D=58391\">Haus Luxury</a></li><li class=\"tab-list-i\"><a class=\"tab-list-i-link\" href=\"/vacancies?search%5Bcompany_id%5D=39390\">HB Co Ltd </a></li><li class=\"tab-list-i\"><a class=\"tab-list-i-link\" href=\"/vacancies?search%5Bcompany_id%5D=46548\">Healpro</a></li><li class=\"tab-list-i\"><a class=\"tab-list-i-link\" href=\"/vacancies?search%5Bcompany_id%5D=30996\">HERTZ AZERBAIJAN</a></li><li class=\"tab-list-i\"><a class=\"tab-list-i-link\" href=\"/vacancies?search%5Bcompany_id%5D=62354\">Həyat Farm Fİ</a></li><li class=\"tab-list-i\"><a class=\"tab-list-i-link\" href=\"/vacancies?search%5Bcompany_id%5D=32815\">HG GROUP</a></li><li class=\"tab-list-i\"><a class=\"tab-list-i-link\" href=\"/vacancies?search%5Bcompany_id%5D=29268\">Hospital və klinikalar</a></li><li class=\"tab-list-i\"><a class=\"tab-list-i-link\" href=\"/vacancies?search%5Bcompany_id%5D=9435\">Hotel Golden Coast</a></li><li class=\"tab-list-i\"><a class=\"tab-list-i-link\" href=\"/vacancies?search%5Bcompany_id%5D=54261\">HR company MMC</a></li><li class=\"tab-list-i\"><a class=\"tab-list-i-link\" href=\"/vacancies?search%5Bcompany_id%5D=62021\">HRTime Consulting</a></li><li class=\"tab-list-i\"><a class=\"tab-list-i-link\" href=\"/vacancies?search%5Bcompany_id%5D=46126\">HS Solutions</a></li><li class=\"tab-list-i\"><a class=\"tab-list-i-link\" href=\"/vacancies?search%5Bcompany_id%5D=57120\">HS Texnologiya MMC</a></li><li class=\"tab-list-i\"><a class=\"tab-list-i-link\" href=\"/vacancies?search%5Bcompany_id%5D=42546\">Hüquqi şəxs</a></li><li class=\"tab-list-i\"><a class=\"tab-list-i-link\" href=\"/vacancies?search%5Bcompany_id%5D=60002\">Hybrid Park Baku</a></li><li class=\"tab-list-i\"><a class=\"tab-list-i-link\" href=\"/vacancies?search%5Bcompany_id%5D=50541\">ibramus-company MMC</a></li><li class=\"tab-list-i\"><a class=\"tab-list-i-link\" href=\"/vacancies?search%5Bcompany_id%5D=22570\">ICGROUP</a></li><li class=\"tab-list-i\"><a class=\"tab-list-i-link\" href=\"/vacancies?search%5Bcompany_id%5D=59562\">İDEAL KREDİT BOKT</a></li><li class=\"tab-list-i\"><a class=\"tab-list-i-link\" href=\"/vacancies?search%5Bcompany_id%5D=33490\">İMC</a></li><li class=\"tab-list-i\"><a class=\"tab-list-i-link\" href=\"/vacancies?search%5Bcompany_id%5D=24120\">İnci</a></li><li class=\"tab-list-i\"><a class=\"tab-list-i-link\" href=\"/vacancies?search%5Bcompany_id%5D=25417\">\"İnternational\" Kredit Təşkilatı</a></li><li class=\"tab-list-i\"><a class=\"tab-list-i-link\" href=\"/vacancies?search%5Bcompany_id%5D=62178\">İntersert</a></li><li class=\"tab-list-i\"><a class=\"tab-list-i-link\" href=\"/vacancies?search%5Bcompany_id%5D=51989\">\"İPE Group\" MMC</a></li><li class=\"tab-list-i\"><a class=\"tab-list-i-link\" href=\"/vacancies?search%5Bcompany_id%5D=38826\">IRIX </a></li><li class=\"tab-list-i\"><a class=\"tab-list-i-link\" href=\"/vacancies?search%5Bcompany_id%5D=46715\">İrşad</a></li><li class=\"tab-list-i\"><a class=\"tab-list-i-link\" href=\"/vacancies?search%5Bcompany_id%5D=3416\">Italdizain Group</a></li><li class=\"tab-list-i\"><a class=\"tab-list-i-link\" href=\"/vacancies?search%5Bcompany_id%5D=52424\">Joyful Travel</a></li><li class=\"tab-list-i\"><a class=\"tab-list-i-link\" href=\"/vacancies?search%5Bcompany_id%5D=58127\">KAHVECİ PARKE</a></li><li class=\"tab-list-i\"><a class=\"tab-list-i-link\" href=\"/vacancies?search%5Bcompany_id%5D=50709\">Kango.az</a></li><li class=\"tab-list-i\"><a class=\"tab-list-i-link\" href=\"/vacancies?search%5Bcompany_id%5D=25126\">Karvan-L</a></li><li class=\"tab-list-i\"><a class=\"tab-list-i-link\" href=\"/vacancies?search%5Bcompany_id%5D=41892\">KDY Logistics</a></li><li class=\"tab-list-i\"><a class=\"tab-list-i-link\" href=\"/vacancies?search%5Bcompany_id%5D=16878\">Konfirom MMC</a></li><li class=\"tab-list-i\"><a class=\"tab-list-i-link\" href=\"/vacancies?search%5Bcompany_id%5D=62232\">Konforto mebel</a></li><li class=\"tab-list-i\"><a class=\"tab-list-i-link\" href=\"/vacancies?search%5Bcompany_id%5D=4301\">Konnekt QSC</a></li><li class=\"tab-list-i\"><a class=\"tab-list-i-link\" href=\"/vacancies?search%5Bcompany_id%5D=751\">KONSiS Group \t</a></li><li class=\"tab-list-i\"><a class=\"tab-list-i-link\" href=\"/vacancies?search%5Bcompany_id%5D=997\">Koroğlu MMC</a></li><li class=\"tab-list-i\"><a class=\"tab-list-i-link\" href=\"/vacancies?search%5Bcompany_id%5D=62158\">Kozberi MMC </a></li><li class=\"tab-list-i\"><a class=\"tab-list-i-link\" href=\"/vacancies?search%5Bcompany_id%5D=1070\">Kral ət və ət məhsulları</a></li><li class=\"tab-list-i\"><a class=\"tab-list-i-link\" href=\"/vacancies?search%5Bcompany_id%5D=57824\">Kürəm</a></li><li class=\"tab-list-i\"><a class=\"tab-list-i-link\" href=\"/vacancies?search%5Bcompany_id%5D=42938\">Larus MMC</a></li><li class=\"tab-list-i\"><a class=\"tab-list-i-link\" href=\"/vacancies?search%5Bcompany_id%5D=25808\">LAS VEGAS</a></li><li class=\"tab-list-i\"><a class=\"tab-list-i-link\" href=\"/vacancies?search%5Bcompany_id%5D=40329\">\"Lavie Global\" MMC</a></li><li class=\"tab-list-i\"><a class=\"tab-list-i-link\" href=\"/vacancies?search%5Bcompany_id%5D=49863\">LEADER COSM MMC</a></li><li class=\"tab-list-i\"><a class=\"tab-list-i-link\" href=\"/vacancies?search%5Bcompany_id%5D=62266\">Leocourses Təhsil Mərkəzi</a></li><li class=\"tab-list-i\"><a class=\"tab-list-i-link\" href=\"/vacancies?search%5Bcompany_id%5D=34404\">LİBRAFF MMC</a></li><li class=\"tab-list-i\"><a class=\"tab-list-i-link\" href=\"/vacancies?search%5Bcompany_id%5D=6875\">Lider Advertising Group</a></li><li class=\"tab-list-i\"><a class=\"tab-list-i-link\" href=\"/vacancies?search%5Bcompany_id%5D=24024\">Life Fitness (Show room)</a></li><li class=\"tab-list-i\"><a class=\"tab-list-i-link\" href=\"/vacancies?search%5Bcompany_id%5D=5735\">LifeGuard</a></li><li class=\"tab-list-i\"><a class=\"tab-list-i-link\" href=\"/vacancies?search%5Bcompany_id%5D=49628\">Logi Group </a></li><li class=\"tab-list-i\"><a class=\"tab-list-i-link\" href=\"/vacancies?search%5Bcompany_id%5D=42692\">Macis Consulting</a></li><li class=\"tab-list-i\"><a class=\"tab-list-i-link\" href=\"/vacancies?search%5Bcompany_id%5D=34705\">Magnat </a></li><li class=\"tab-list-i\"><a class=\"tab-list-i-link\" href=\"/vacancies?search%5Bcompany_id%5D=53254\">Makhmudov Design Studio</a></li><li class=\"tab-list-i\"><a class=\"tab-list-i-link\" href=\"/vacancies?search%5Bcompany_id%5D=44669\">Makromed</a></li><li class=\"tab-list-i\"><a class=\"tab-list-i-link\" href=\"/vacancies?search%5Bcompany_id%5D=55552\">Marka.az Advertising agency </a></li><li class=\"tab-list-i\"><a class=\"tab-list-i-link\" href=\"/vacancies?search%5Bcompany_id%5D=58452\">Marrini Group</a></li><li class=\"tab-list-i\"><a class=\"tab-list-i-link\" href=\"/vacancies?search%5Bcompany_id%5D=51966\">Mars Overseas Baku LTD MMM</a></li><li class=\"tab-list-i\"><a class=\"tab-list-i-link\" href=\"/vacancies?search%5Bcompany_id%5D=53167\">MASSİ MMC</a></li><li class=\"tab-list-i\"><a class=\"tab-list-i-link\" href=\"/vacancies?search%5Bcompany_id%5D=50021\">Master Cleaning təmizlik şirkəti</a></li><li class=\"tab-list-i\"><a class=\"tab-list-i-link\" href=\"/vacancies?search%5Bcompany_id%5D=60691\">MAX-A CONSULTING</a></li><li class=\"tab-list-i\"><a class=\"tab-list-i-link\" href=\"/vacancies?search%5Bcompany_id%5D=19458\">Max Offset</a></li><li class=\"tab-list-i\"><a class=\"tab-list-i-link\" href=\"/vacancies?search%5Bcompany_id%5D=21484\">\"Maybo\" MMC</a></li><li class=\"tab-list-i\"><a class=\"tab-list-i-link\" href=\"/vacancies?search%5Bcompany_id%5D=1429\">Mazarina</a></li><li class=\"tab-list-i\"><a class=\"tab-list-i-link\" href=\"/vacancies?search%5Bcompany_id%5D=62277\">M.D.M. MMC</a></li><li class=\"tab-list-i\"><a class=\"tab-list-i-link\" href=\"/vacancies?search%5Bcompany_id%5D=62257\">Medal MMC</a></li><li class=\"tab-list-i\"><a class=\"tab-list-i-link\" href=\"/vacancies?search%5Bcompany_id%5D=62259\">Medal MMC</a></li><li class=\"tab-list-i\"><a class=\"tab-list-i-link\" href=\"/vacancies?search%5Bcompany_id%5D=38846\">MediaBalans </a></li><li class=\"tab-list-i\"><a class=\"tab-list-i-link\" href=\"/vacancies?search%5Bcompany_id%5D=55280\">Medical Group</a></li><li class=\"tab-list-i\"><a class=\"tab-list-i-link\" href=\"/vacancies?search%5Bcompany_id%5D=48288\">Medicus pharm</a></li><li class=\"tab-list-i\"><a class=\"tab-list-i-link\" href=\"/vacancies?search%5Bcompany_id%5D=44606\">Med Product</a></li><li class=\"tab-list-i\"><a class=\"tab-list-i-link\" href=\"/vacancies?search%5Bcompany_id%5D=47730\">Mega</a></li><li class=\"tab-list-i\"><a class=\"tab-list-i-link\" href=\"/vacancies?search%5Bcompany_id%5D=61899\">Mertebeler MMC</a></li><li class=\"tab-list-i\"><a class=\"tab-list-i-link\" href=\"/vacancies?search%5Bcompany_id%5D=54821\">MEZZO LOUNGE</a></li><li class=\"tab-list-i\"><a class=\"tab-list-i-link\" href=\"/vacancies?search%5Bcompany_id%5D=45469\">Məlumat Mərkəzi</a></li><li class=\"tab-list-i\"><a class=\"tab-list-i-link\" href=\"/vacancies?search%5Bcompany_id%5D=55880\">Midtown Hotel Baku</a></li><li class=\"tab-list-i\"><a class=\"tab-list-i-link\" href=\"/vacancies?search%5Bcompany_id%5D=13456\">Minox MMC</a></li><li class=\"tab-list-i\"><a class=\"tab-list-i-link\" href=\"/vacancies?search%5Bcompany_id%5D=62341\">MJ Finance BOKT</a></li><li class=\"tab-list-i\"><a class=\"tab-list-i-link\" href=\"/vacancies?search%5Bcompany_id%5D=21065\">MKONTAKT MMC</a></li><li class=\"tab-list-i\"><a class=\"tab-list-i-link\" href=\"/vacancies?search%5Bcompany_id%5D=60478\">Mocuza</a></li><li class=\"tab-list-i\"><a class=\"tab-list-i-link\" href=\"/vacancies?search%5Bcompany_id%5D=52630\">Monde Transport </a></li><li class=\"tab-list-i\"><a class=\"tab-list-i-link\" href=\"/vacancies?search%5Bcompany_id%5D=34598\">Monza Oil Azerbaycan</a></li><li class=\"tab-list-i\"><a class=\"tab-list-i-link\" href=\"/vacancies?search%5Bcompany_id%5D=5040\">Moon Group MMC</a></li><li class=\"tab-list-i\"><a class=\"tab-list-i-link\" href=\"/vacancies?search%5Bcompany_id%5D=62165\">MORREX GROUP</a></li><li class=\"tab-list-i\"><a class=\"tab-list-i-link\" href=\"/vacancies?search%5Bcompany_id%5D=17612\">Mosaic Group MMC</a></li><li class=\"tab-list-i\"><a class=\"tab-list-i-link\" href=\"/vacancies?search%5Bcompany_id%5D=50477\">MSDIS Holding</a></li><li class=\"tab-list-i\"><a class=\"tab-list-i-link\" href=\"/vacancies?search%5Bcompany_id%5D=58163\">Muliphein couture</a></li><li class=\"tab-list-i\"><a class=\"tab-list-i-link\" href=\"/vacancies?search%5Bcompany_id%5D=7750\">Mustafa Tayat mağazalar şəbəkəsi</a></li><li class=\"tab-list-i\"><a class=\"tab-list-i-link\" href=\"/vacancies?search%5Bcompany_id%5D=24937\">Muxtaroglu-VM MMC</a></li><li class=\"tab-list-i\"><a class=\"tab-list-i-link\" href=\"/vacancies?search%5Bcompany_id%5D=32659\">\"My Broker\" MMC Gömrük Təmsilçisi </a></li><li class=\"tab-list-i\"><a class=\"tab-list-i-link\" href=\"/vacancies?search%5Bcompany_id%5D=22227\">My House </a></li><li class=\"tab-list-i\"><a class=\"tab-list-i-link\" href=\"/vacancies?search%5Bcompany_id%5D=31887\">MyTech</a></li><li class=\"tab-list-i\"><a class=\"tab-list-i-link\" href=\"/vacancies?search%5Bcompany_id%5D=55019\">Nadias Patisserie</a></li><li class=\"tab-list-i\"><a class=\"tab-list-i-link\" href=\"/vacancies?search%5Bcompany_id%5D=14133\">N advert</a></li><li class=\"tab-list-i\"><a class=\"tab-list-i-link\" href=\"/vacancies?search%5Bcompany_id%5D=60718\">Nar Media</a></li><li class=\"tab-list-i\"><a class=\"tab-list-i-link\" href=\"/vacancies?search%5Bcompany_id%5D=50251\">NarMed MMC</a></li><li class=\"tab-list-i\"><a class=\"tab-list-i-link\" href=\"/vacancies?search%5Bcompany_id%5D=42323\">NAWINIA Baku MMC</a></li><li class=\"tab-list-i\"><a class=\"tab-list-i-link\" href=\"/vacancies?search%5Bcompany_id%5D=35196\">Naxcivan Turizm</a></li><li class=\"tab-list-i\"><a class=\"tab-list-i-link\" href=\"/vacancies?search%5Bcompany_id%5D=853\">NB Qrup ASC</a></li><li class=\"tab-list-i\"><a class=\"tab-list-i-link\" href=\"/vacancies?search%5Bcompany_id%5D=8001\">\"Neptun-S\" MMC</a></li><li class=\"tab-list-i\"><a class=\"tab-list-i-link\" href=\"/vacancies?search%5Bcompany_id%5D=54665\">New House əmlak şirkəti</a></li></ul><ul class=\"tab-list\"><li class=\"tab-list-i\"><a class=\"tab-list-i-link\" href=\"/vacancies?search%5Bcompany_id%5D=44324\">NewTech</a></li><li class=\"tab-list-i\"><a class=\"tab-list-i-link\" href=\"/vacancies?search%5Bcompany_id%5D=51390\">NN OPTIC EYEWEAR</a></li><li class=\"tab-list-i\"><a class=\"tab-list-i-link\" href=\"/vacancies?search%5Bcompany_id%5D=62020\">Node MMC </a></li><li class=\"tab-list-i\"><a class=\"tab-list-i-link\" href=\"/vacancies?search%5Bcompany_id%5D=39619\">Novator HRC MMC</a></li><li class=\"tab-list-i\"><a class=\"tab-list-i-link\" href=\"/vacancies?search%5Bcompany_id%5D=5927\">Novco Group of Companies</a></li><li class=\"tab-list-i\"><a class=\"tab-list-i-link\" href=\"/vacancies?search%5Bcompany_id%5D=52793\">NPG MMC</a></li><li class=\"tab-list-i\"><a class=\"tab-list-i-link\" href=\"/vacancies?search%5Bcompany_id%5D=62143\">Nur Alyans MMC</a></li><li class=\"tab-list-i\"><a class=\"tab-list-i-link\" href=\"/vacancies?search%5Bcompany_id%5D=51605\">\"Nur Retail\" MMC </a></li><li class=\"tab-list-i\"><a class=\"tab-list-i-link\" href=\"/vacancies?search%5Bcompany_id%5D=45728\">OBA marketlər şəbəkəsi</a></li><li class=\"tab-list-i\"><a class=\"tab-list-i-link\" href=\"/vacancies?search%5Bcompany_id%5D=62305\">OK Media</a></li><li class=\"tab-list-i\"><a class=\"tab-list-i-link\" href=\"/vacancies?search%5Bcompany_id%5D=62316\">Okyanus LTD </a></li><li class=\"tab-list-i\"><a class=\"tab-list-i-link\" href=\"/vacancies?search%5Bcompany_id%5D=36657\">Old City Sweet Home</a></li><li class=\"tab-list-i\"><a class=\"tab-list-i-link\" href=\"/vacancies?search%5Bcompany_id%5D=62321\">OLD PHARMA</a></li><li class=\"tab-list-i\"><a class=\"tab-list-i-link\" href=\"/vacancies?search%5Bcompany_id%5D=62212\">Omid MMC</a></li><li class=\"tab-list-i\"><a class=\"tab-list-i-link\" href=\"/vacancies?search%5Bcompany_id%5D=44981\">One Touch Trade and Logistics</a></li><li class=\"tab-list-i\"><a class=\"tab-list-i-link\" href=\"/vacancies?search%5Bcompany_id%5D=62317\">Online Sığorta Portalı</a></li><li class=\"tab-list-i\"><a class=\"tab-list-i-link\" href=\"/vacancies?search%5Bcompany_id%5D=30146\">ONLINE TRAVEL </a></li><li class=\"tab-list-i\"><a class=\"tab-list-i-link\" href=\"/vacancies?search%5Bcompany_id%5D=36994\">ONTOP Bowling</a></li><li class=\"tab-list-i\"><a class=\"tab-list-i-link\" href=\"/vacancies?search%5Bcompany_id%5D=26548\">Ornado Medicine</a></li><li class=\"tab-list-i\"><a class=\"tab-list-i-link\" href=\"/vacancies?search%5Bcompany_id%5D=60488\">OTA TRANSPORTATİON</a></li><li class=\"tab-list-i\"><a class=\"tab-list-i-link\" href=\"/vacancies?search%5Bcompany_id%5D=19415\">Oxu.Az İnformasiya Agentliyi</a></li><li class=\"tab-list-i\"><a class=\"tab-list-i-link\" href=\"/vacancies?search%5Bcompany_id%5D=16161\">Oyster Cosmetics</a></li><li class=\"tab-list-i\"><a class=\"tab-list-i-link\" href=\"/vacancies?search%5Bcompany_id%5D=31389\">PANDA BABY</a></li><li class=\"tab-list-i\"><a class=\"tab-list-i-link\" href=\"/vacancies?search%5Bcompany_id%5D=828\">Panorama Villa Lux Hotel</a></li><li class=\"tab-list-i\"><a class=\"tab-list-i-link\" href=\"/vacancies?search%5Bcompany_id%5D=5528\">Papa John's Azerbaijan</a></li><li class=\"tab-list-i\"><a class=\"tab-list-i-link\" href=\"/vacancies?search%5Bcompany_id%5D=62237\">Parketaz MMC</a></li><li class=\"tab-list-i\"><a class=\"tab-list-i-link\" href=\"/vacancies?search%5Bcompany_id%5D=53442\">Paşa-K</a></li><li class=\"tab-list-i\"><a class=\"tab-list-i-link\" href=\"/vacancies?search%5Bcompany_id%5D=4310\">Pera Plastik Qrup MMC  </a></li><li class=\"tab-list-i\"><a class=\"tab-list-i-link\" href=\"/vacancies?search%5Bcompany_id%5D=1219\">\"Performance Center Co\" MMC (Chevrolet Azərbaycan)</a></li><li class=\"tab-list-i\"><a class=\"tab-list-i-link\" href=\"/vacancies?search%5Bcompany_id%5D=59705\">Perkins MMC</a></li><li class=\"tab-list-i\"><a class=\"tab-list-i-link\" href=\"/vacancies?search%5Bcompany_id%5D=62080\">Pharma Trade</a></li><li class=\"tab-list-i\"><a class=\"tab-list-i-link\" href=\"/vacancies?search%5Bcompany_id%5D=29562\">“PilatesLife” MMC</a></li><li class=\"tab-list-i\"><a class=\"tab-list-i-link\" href=\"/vacancies?search%5Bcompany_id%5D=5376\">Pirosmani restoranı</a></li><li class=\"tab-list-i\"><a class=\"tab-list-i-link\" href=\"/vacancies?search%5Bcompany_id%5D=15912\">Pizza Mizza</a></li><li class=\"tab-list-i\"><a class=\"tab-list-i-link\" href=\"/vacancies?search%5Bcompany_id%5D=3592\">Point Hotel Baku</a></li><li class=\"tab-list-i\"><a class=\"tab-list-i-link\" href=\"/vacancies?search%5Bcompany_id%5D=55171\">PortBIM</a></li><li class=\"tab-list-i\"><a class=\"tab-list-i-link\" href=\"/vacancies?search%5Bcompany_id%5D=47789\">Prant firması</a></li><li class=\"tab-list-i\"><a class=\"tab-list-i-link\" href=\"/vacancies?search%5Bcompany_id%5D=54318\">PreBrand MMC</a></li><li class=\"tab-list-i\"><a class=\"tab-list-i-link\" href=\"/vacancies?search%5Bcompany_id%5D=1260\">Premium Advertising</a></li><li class=\"tab-list-i\"><a class=\"tab-list-i-link\" href=\"/vacancies?search%5Bcompany_id%5D=33296\">Pribaltika MMC</a></li><li class=\"tab-list-i\"><a class=\"tab-list-i-link\" href=\"/vacancies?search%5Bcompany_id%5D=52067\">Prime Financial Services</a></li><li class=\"tab-list-i\"><a class=\"tab-list-i-link\" href=\"/vacancies?search%5Bcompany_id%5D=44811\">PRIME Mağazalar Şəbəkəsi</a></li><li class=\"tab-list-i\"><a class=\"tab-list-i-link\" href=\"/vacancies?search%5Bcompany_id%5D=56637\">Prive RA Consulting</a></li><li class=\"tab-list-i\"><a class=\"tab-list-i-link\" href=\"/vacancies?search%5Bcompany_id%5D=61615\">PR Kuzey</a></li><li class=\"tab-list-i\"><a class=\"tab-list-i-link\" href=\"/vacancies?search%5Bcompany_id%5D=61813\">Proff line Azerbaijan</a></li><li class=\"tab-list-i\"><a class=\"tab-list-i-link\" href=\"/vacancies?search%5Bcompany_id%5D=36443\">\"Progress Construction Group\" MMC</a></li><li class=\"tab-list-i\"><a class=\"tab-list-i-link\" href=\"/vacancies?search%5Bcompany_id%5D=16542\">Prosys MMC</a></li><li class=\"tab-list-i\"><a class=\"tab-list-i-link\" href=\"/vacancies?search%5Bcompany_id%5D=61977\">Proto Pharm</a></li><li class=\"tab-list-i\"><a class=\"tab-list-i-link\" href=\"/vacancies?search%5Bcompany_id%5D=62291\">Proto Pharm</a></li><li class=\"tab-list-i\"><a class=\"tab-list-i-link\" href=\"/vacancies?search%5Bcompany_id%5D=61995\">Pulse SMM</a></li><li class=\"tab-list-i\"><a class=\"tab-list-i-link\" href=\"/vacancies?search%5Bcompany_id%5D=40524\">QalaNews </a></li><li class=\"tab-list-i\"><a class=\"tab-list-i-link\" href=\"/vacancies?search%5Bcompany_id%5D=56909\">Qeydiyyat MMC</a></li><li class=\"tab-list-i\"><a class=\"tab-list-i-link\" href=\"/vacancies?search%5Bcompany_id%5D=33062\">RAHAT SUPERMARKETLƏR şəbəkəsi</a></li><li class=\"tab-list-i\"><a class=\"tab-list-i-link\" href=\"/vacancies?search%5Bcompany_id%5D=16458\">Real Əmlak</a></li><li class=\"tab-list-i\"><a class=\"tab-list-i-link\" href=\"/vacancies?search%5Bcompany_id%5D=38989\">Redel Mondo</a></li><li class=\"tab-list-i\"><a class=\"tab-list-i-link\" href=\"/vacancies?search%5Bcompany_id%5D=62077\">Regency Consulting and Tax Solutions MMC</a></li><li class=\"tab-list-i\"><a class=\"tab-list-i-link\" href=\"/vacancies?search%5Bcompany_id%5D=35193\">RE House</a></li><li class=\"tab-list-i\"><a class=\"tab-list-i-link\" href=\"/vacancies?search%5Bcompany_id%5D=62189\">Resant Group</a></li><li class=\"tab-list-i\"><a class=\"tab-list-i-link\" href=\"/vacancies?search%5Bcompany_id%5D=60885\">Rich</a></li><li class=\"tab-list-i\"><a class=\"tab-list-i-link\" href=\"/vacancies?search%5Bcompany_id%5D=6805\">Rich pharma</a></li><li class=\"tab-list-i\"><a class=\"tab-list-i-link\" href=\"/vacancies?search%5Bcompany_id%5D=62160\">RITELLO</a></li><li class=\"tab-list-i\"><a class=\"tab-list-i-link\" href=\"/vacancies?search%5Bcompany_id%5D=32687\">Ritm mebel</a></li><li class=\"tab-list-i\"><a class=\"tab-list-i-link\" href=\"/vacancies?search%5Bcompany_id%5D=47825\">ROMS GROUP</a></li><li class=\"tab-list-i\"><a class=\"tab-list-i-link\" href=\"/vacancies?search%5Bcompany_id%5D=33867\">Roses Are Red</a></li><li class=\"tab-list-i\"><a class=\"tab-list-i-link\" href=\"/vacancies?search%5Bcompany_id%5D=61469\">RS GLOBAL MMC</a></li><li class=\"tab-list-i\"><a class=\"tab-list-i-link\" href=\"/vacancies?search%5Bcompany_id%5D=32812\">RSİR GROUP</a></li><li class=\"tab-list-i\"><a class=\"tab-list-i-link\" href=\"/vacancies?search%5Bcompany_id%5D=62122\">RXPHARM</a></li><li class=\"tab-list-i\"><a class=\"tab-list-i-link\" href=\"/vacancies?search%5Bcompany_id%5D=29861\">S.A</a></li><li class=\"tab-list-i\"><a class=\"tab-list-i-link\" href=\"/vacancies?search%5Bcompany_id%5D=40440\">Saat Store</a></li><li class=\"tab-list-i\"><a class=\"tab-list-i-link\" href=\"/vacancies?search%5Bcompany_id%5D=62334\">Sabah Tikinti MMC</a></li><li class=\"tab-list-i\"><a class=\"tab-list-i-link\" href=\"/vacancies?search%5Bcompany_id%5D=11252\">Safir Firması</a></li><li class=\"tab-list-i\"><a class=\"tab-list-i-link\" href=\"/vacancies?search%5Bcompany_id%5D=40986\">Saloğlu Fərdi Firması</a></li><li class=\"tab-list-i\"><a class=\"tab-list-i-link\" href=\"/vacancies?search%5Bcompany_id%5D=4866\">Santral Elektrik LTD</a></li><li class=\"tab-list-i\"><a class=\"tab-list-i-link\" href=\"/vacancies?search%5Bcompany_id%5D=31287\">\"Sashera-Med\" Azerbaijan</a></li><li class=\"tab-list-i\"><a class=\"tab-list-i-link\" href=\"/vacancies?search%5Bcompany_id%5D=39468\">\"SAYT.AZ\" MMC</a></li><li class=\"tab-list-i\"><a class=\"tab-list-i-link\" href=\"/vacancies?search%5Bcompany_id%5D=43317\">Seabak</a></li><li class=\"tab-list-i\"><a class=\"tab-list-i-link\" href=\"/vacancies?search%5Bcompany_id%5D=1892\">Secrets VIP Karaoke Cinema Club</a></li><li class=\"tab-list-i\"><a class=\"tab-list-i-link\" href=\"/vacancies?search%5Bcompany_id%5D=56468\">Senser606</a></li><li class=\"tab-list-i\"><a class=\"tab-list-i-link\" href=\"/vacancies?search%5Bcompany_id%5D=62358\">setexgroup</a></li><li class=\"tab-list-i\"><a class=\"tab-list-i-link\" href=\"/vacancies?search%5Bcompany_id%5D=30858\">Sərfəli Taksi MMC </a></li><li class=\"tab-list-i\"><a class=\"tab-list-i-link\" href=\"/vacancies?search%5Bcompany_id%5D=55601\">Şərg salatlar</a></li><li class=\"tab-list-i\"><a class=\"tab-list-i-link\" href=\"/vacancies?search%5Bcompany_id%5D=60889\">SFC Group</a></li><li class=\"tab-list-i\"><a class=\"tab-list-i-link\" href=\"/vacancies?search%5Bcompany_id%5D=33559\">Sharaf Media</a></li><li class=\"tab-list-i\"><a class=\"tab-list-i-link\" href=\"/vacancies?search%5Bcompany_id%5D=1051\">SINAM </a></li><li class=\"tab-list-i\"><a class=\"tab-list-i-link\" href=\"/vacancies?search%5Bcompany_id%5D=9902\">Sinteks</a></li><li class=\"tab-list-i\"><a class=\"tab-list-i-link\" href=\"/vacancies?search%5Bcompany_id%5D=3149\">SIR Group Security</a></li><li class=\"tab-list-i\"><a class=\"tab-list-i-link\" href=\"/vacancies?search%5Bcompany_id%5D=48423\">Small Medium Enterprises</a></li><li class=\"tab-list-i\"><a class=\"tab-list-i-link\" href=\"/vacancies?search%5Bcompany_id%5D=43084\">SMARTHOST.AZ</a></li><li class=\"tab-list-i\"><a class=\"tab-list-i-link\" href=\"/vacancies?search%5Bcompany_id%5D=42266\">Smarton MMC</a></li><li class=\"tab-list-i\"><a class=\"tab-list-i-link\" href=\"/vacancies?search%5Bcompany_id%5D=56148\">S Medpharma</a></li><li class=\"tab-list-i\"><a class=\"tab-list-i-link\" href=\"/vacancies?search%5Bcompany_id%5D=38554\">Smile MMC</a></li><li class=\"tab-list-i\"><a class=\"tab-list-i-link\" href=\"/vacancies?search%5Bcompany_id%5D=59497\">Smile terrace cafe</a></li><li class=\"tab-list-i\"><a class=\"tab-list-i-link\" href=\"/vacancies?search%5Bcompany_id%5D=51828\">Social Lab Agency </a></li><li class=\"tab-list-i\"><a class=\"tab-list-i-link\" href=\"/vacancies?search%5Bcompany_id%5D=54259\">sosmedia.space</a></li><li class=\"tab-list-i\"><a class=\"tab-list-i-link\" href=\"/vacancies?search%5Bcompany_id%5D=40869\">SR Group Co.</a></li><li class=\"tab-list-i\"><a class=\"tab-list-i-link\" href=\"/vacancies?search%5Bcompany_id%5D=60405\">SR Group Uniforma</a></li><li class=\"tab-list-i\"><a class=\"tab-list-i-link\" href=\"/vacancies?search%5Bcompany_id%5D=61979\">Starkim boya mmc </a></li><li class=\"tab-list-i\"><a class=\"tab-list-i-link\" href=\"/vacancies?search%5Bcompany_id%5D=6214\">Stimulworkcenter</a></li><li class=\"tab-list-i\"><a class=\"tab-list-i-link\" href=\"/vacancies?search%5Bcompany_id%5D=61985\">Sufle Cake House </a></li><li class=\"tab-list-i\"><a class=\"tab-list-i-link\" href=\"/vacancies?search%5Bcompany_id%5D=50256\">Supertoys</a></li><li class=\"tab-list-i\"><a class=\"tab-list-i-link\" href=\"/vacancies?search%5Bcompany_id%5D=34007\">Suvar Travel</a></li><li class=\"tab-list-i\"><a class=\"tab-list-i-link\" href=\"/vacancies?search%5Bcompany_id%5D=59481\">Suvenir hədiyyələr</a></li><li class=\"tab-list-i\"><a class=\"tab-list-i-link\" href=\"/vacancies?search%5Bcompany_id%5D=50451\">Suyum Az</a></li><li class=\"tab-list-i\"><a class=\"tab-list-i-link\" href=\"/vacancies?search%5Bcompany_id%5D=60529\">Talent Agency </a></li><li class=\"tab-list-i\"><a class=\"tab-list-i-link\" href=\"/vacancies?search%5Bcompany_id%5D=41736\">\"TAROL - DD\" MMC</a></li><li class=\"tab-list-i\"><a class=\"tab-list-i-link\" href=\"/vacancies?search%5Bcompany_id%5D=43125\">Technical Group</a></li><li class=\"tab-list-i\"><a class=\"tab-list-i-link\" href=\"/vacancies?search%5Bcompany_id%5D=43307\">Technovera</a></li><li class=\"tab-list-i\"><a class=\"tab-list-i-link\" href=\"/vacancies?search%5Bcompany_id%5D=56784\">Techtonas LLC</a></li><li class=\"tab-list-i\"><a class=\"tab-list-i-link\" href=\"/vacancies?search%5Bcompany_id%5D=48132\">Tekaz MMC</a></li><li class=\"tab-list-i\"><a class=\"tab-list-i-link\" href=\"/vacancies?search%5Bcompany_id%5D=52299\">\"Tempus\" MMC</a></li><li class=\"tab-list-i\"><a class=\"tab-list-i-link\" href=\"/vacancies?search%5Bcompany_id%5D=41578\">Tender.az</a></li><li class=\"tab-list-i\"><a class=\"tab-list-i-link\" href=\"/vacancies?search%5Bcompany_id%5D=29299\">Tenterm MMC</a></li><li class=\"tab-list-i\"><a class=\"tab-list-i-link\" href=\"/vacancies?search%5Bcompany_id%5D=28726\">Texno Plus Electronics</a></li><li class=\"tab-list-i\"><a class=\"tab-list-i-link\" href=\"/vacancies?search%5Bcompany_id%5D=62007\">The Limitless Group</a></li><li class=\"tab-list-i\"><a class=\"tab-list-i-link\" href=\"/vacancies?search%5Bcompany_id%5D=51510\">TMT Xidmətləri</a></li><li class=\"tab-list-i\"><a class=\"tab-list-i-link\" href=\"/vacancies?search%5Bcompany_id%5D=53505\">Trade MMC</a></li><li class=\"tab-list-i\"><a class=\"tab-list-i-link\" href=\"/vacancies?search%5Bcompany_id%5D=53089\">Trade Soft şirkəti</a></li><li class=\"tab-list-i\"><a class=\"tab-list-i-link\" href=\"/vacancies?search%5Bcompany_id%5D=55886\">Trend express MMC</a></li><li class=\"tab-list-i\"><a class=\"tab-list-i-link\" href=\"/vacancies?search%5Bcompany_id%5D=41911\">Trion Trade</a></li><li class=\"tab-list-i\"><a class=\"tab-list-i-link\" href=\"/vacancies?search%5Bcompany_id%5D=56878\">Trust Expert</a></li><li class=\"tab-list-i\"><a class=\"tab-list-i-link\" href=\"/vacancies?search%5Bcompany_id%5D=53366\">Trustlux MMC</a></li><li class=\"tab-list-i\"><a class=\"tab-list-i-link\" href=\"/vacancies?search%5Bcompany_id%5D=34234\">Twins Travel</a></li><li class=\"tab-list-i\"><a class=\"tab-list-i-link\" href=\"/vacancies?search%5Bcompany_id%5D=62115\">Uber partner</a></li><li class=\"tab-list-i\"><a class=\"tab-list-i-link\" href=\"/vacancies?search%5Bcompany_id%5D=38676\">UBER sürücülərinin Qeydiyyat Mərkəzi</a></li><li class=\"tab-list-i\"><a class=\"tab-list-i-link\" href=\"/vacancies?search%5Bcompany_id%5D=947\">Ultra</a></li><li class=\"tab-list-i\"><a class=\"tab-list-i-link\" href=\"/vacancies?search%5Bcompany_id%5D=13019\">Union Lights</a></li><li class=\"tab-list-i\"><a class=\"tab-list-i-link\" href=\"/vacancies?search%5Bcompany_id%5D=62142\">\"UNİON LİGHTS\"</a></li><li class=\"tab-list-i\"><a class=\"tab-list-i-link\" href=\"/vacancies?search%5Bcompany_id%5D=36210\">United Coffee Beans</a></li><li class=\"tab-list-i\"><a class=\"tab-list-i-link\" href=\"/vacancies?search%5Bcompany_id%5D=56370\">Unitronix</a></li><li class=\"tab-list-i\"><a class=\"tab-list-i-link\" href=\"/vacancies?search%5Bcompany_id%5D=61603\">Update Consulting MMC</a></li><li class=\"tab-list-i\"><a class=\"tab-list-i-link\" href=\"/vacancies?search%5Bcompany_id%5D=22162\">Vapiano Baku</a></li><li class=\"tab-list-i\"><a class=\"tab-list-i-link\" href=\"/vacancies?search%5Bcompany_id%5D=23865\">Veb Koder MMC</a></li><li class=\"tab-list-i\"><a class=\"tab-list-i-link\" href=\"/vacancies?search%5Bcompany_id%5D=46635\">VEKA (eurowin)</a></li><li class=\"tab-list-i\"><a class=\"tab-list-i-link\" href=\"/vacancies?search%5Bcompany_id%5D=62030\">Vertex QSC</a></li><li class=\"tab-list-i\"><a class=\"tab-list-i-link\" href=\"/vacancies?search%5Bcompany_id%5D=5503\">VIB MMC</a></li><li class=\"tab-list-i\"><a class=\"tab-list-i-link\" href=\"/vacancies?search%5Bcompany_id%5D=49661\">Viona MMC</a></li><li class=\"tab-list-i\"><a class=\"tab-list-i-link\" href=\"/vacancies?search%5Bcompany_id%5D=8757\">Vip Aviasiya</a></li><li class=\"tab-list-i\"><a class=\"tab-list-i-link\" href=\"/vacancies?search%5Bcompany_id%5D=60761\">Vitrum MMC</a></li><li class=\"tab-list-i\"><a class=\"tab-list-i-link\" href=\"/vacancies?search%5Bcompany_id%5D=37195\">Want Travel</a></li><li class=\"tab-list-i\"><a class=\"tab-list-i-link\" href=\"/vacancies?search%5Bcompany_id%5D=60106\">W&amp;E Forward International Transport - 1994-cü il tarixindən fəaliyyət göstərən Beynəlxalq Yükdaşıma və Logistika şirkətidir</a></li><li class=\"tab-list-i\"><a class=\"tab-list-i-link\" href=\"/vacancies?search%5Bcompany_id%5D=31544\">West Product Marketing MMC</a></li><li class=\"tab-list-i\"><a class=\"tab-list-i-link\" href=\"/vacancies?search%5Bcompany_id%5D=61539\">White City Business Center (ресторан)</a></li><li class=\"tab-list-i\"><a class=\"tab-list-i-link\" href=\"/vacancies?search%5Bcompany_id%5D=61983\">Work Group</a></li><li class=\"tab-list-i\"><a class=\"tab-list-i-link\" href=\"/vacancies?search%5Bcompany_id%5D=4162\">WorldTelecom</a></li><li class=\"tab-list-i\"><a class=\"tab-list-i-link\" href=\"/vacancies?search%5Bcompany_id%5D=49919\">Yeni Həyat Şirkətlər Qrupu MMC</a></li><li class=\"tab-list-i\"><a class=\"tab-list-i-link\" href=\"/vacancies?search%5Bcompany_id%5D=25133\">Yes Travel</a></li><li class=\"tab-list-i\"><a class=\"tab-list-i-link\" href=\"/vacancies?search%5Bcompany_id%5D=6553\">\"Youth Azeri Parcel Service\" MMC</a></li><li class=\"tab-list-i\"><a class=\"tab-list-i-link\" href=\"/vacancies?search%5Bcompany_id%5D=62186\">Yunimed MMC</a></li><li class=\"tab-list-i\"><a class=\"tab-list-i-link\" href=\"/vacancies?search%5Bcompany_id%5D=54965\">Yurdum-2014 MMC</a></li><li class=\"tab-list-i\"><a class=\"tab-list-i-link\" href=\"/vacancies?search%5Bcompany_id%5D=18378\">Zeta Group-The Entertainer (oyuncaq mağazası) </a></li><li class=\"tab-list-i\"><a class=\"tab-list-i-link\" href=\"/vacancies?search%5Bcompany_id%5D=62263\">Zeuss</a></li><li class=\"tab-list-i\"><a class=\"tab-list-i-link\" href=\"/vacancies?search%5Bcompany_id%5D=45087\">Zeytun Phamaceuticals MMC</a></li><li class=\"tab-list-i\"><a class=\"tab-list-i-link\" href=\"/vacancies?search%5Bcompany_id%5D=49442\">Zeytun Pharmaceuticals</a></li><li class=\"tab-list-i\"><a class=\"tab-list-i-link\" href=\"/vacancies?search%5Bcompany_id%5D=62357\">Zeytun Pharmaceuticals</a></li><li class=\"tab-list-i\"><a class=\"tab-list-i-link\" href=\"/vacancies?search%5Bcompany_id%5D=19781\">ZooMagazin.az</a></li><li class=\"tab-list-i\"><a class=\"tab-list-i-link\" href=\"/vacancies?search%5Bcompany_id%5D=47324\">Реабилитационный центр ARS</a></li></ul></div></div></div></div><div data-hidden=\"false\" id=\"js-lotriver-bg-banner\"></div><div class=\"footer\"><div class=\"container\"><div class=\"pull-right\"><a href=\"https://www.liveinternet.ru/rating/az/job/month.html\" target=\"_blank\"><img border=\"0\" height=\"120\" src=\"//counter.yadro.ru/logo?27.6\" title=\"LiveInternet: показано количество просмотров и посетителей\" width=\"88\"/></a></div><div class=\"footer-info\"><p><a href=\"/categories/vacancies.mobile\">Mobil versiyası</a></p><p><a class=\"footer-mark\" href=\"/pages/about\">Haqqımızda</a></p><p><a class=\"footer-mark\" href=\"/terms-and-conditions\">İstifadəçi razılaşması</a></p><p><a class=\"footer-mark\" href=\"/pages/advertising\">Saytda reklam</a></p><p><a class=\"footer-phone\" href=\"(012) 599-08-03\">(012) 599-08-03</a></p><p><a class=\"footer-email\" href=\"/cdn-cgi/l/email-protection#2d4f425e5e6d4f425e5e034c57\"><span class=\"__cf_email__\" data-cfemail=\"7614190505361419050558170c\">[email protected]</span></a></p><div class=\"no-response grey-text\">Saytın rəhbərliyi reklam bannerlərinin və yerləşdirilmiş elanların məzmununa görə məsuliyyət daşımır</div><div class=\"copyright grey-text\">© 2008-2022 Digital Classifieds MMC.<br/>VÖEN: 1405631661</div></div><div class=\"footer-nav-container\"><div class=\"footer-nav-group\"><div class=\"footer-nav-title\"><a class=\"footer-mark\" href=\"/vacancies\">İş elanları</a></div><div class=\"footer-nav\"><a class=\"footer-nav-i\" href=\"/vacancies?search%5Bcategory_id%5D=36\">Maliyyə</a><a class=\"footer-nav-i\" href=\"/vacancies?search%5Bcategory_id%5D=37\">Marketinq</a><a class=\"footer-nav-i\" href=\"/vacancies?search%5Bcategory_id%5D=38\">İnformasiya texnologiyaları</a><a class=\"footer-nav-i\" href=\"/vacancies?search%5Bcategory_id%5D=44\">İnzibati</a><a class=\"footer-nav-i\" href=\"/vacancies?search%5Bcategory_id%5D=40\">Satış</a><a class=\"footer-nav-i\" href=\"/vacancies?search%5Bcategory_id%5D=43\">Dizayn</a><a class=\"footer-nav-i\" href=\"/vacancies?search%5Bcategory_id%5D=39\">Hüquqşünaslıq</a><a class=\"footer-nav-i\" href=\"/vacancies?search%5Bcategory_id%5D=46\">Təhsil və elm</a><a class=\"footer-nav-i\" href=\"/vacancies?search%5Bcategory_id%5D=42\">Sənaye və kənd təsərrüfatı</a><a class=\"footer-nav-i\" href=\"/vacancies?search%5Bcategory_id%5D=133\">Xidmət</a><a class=\"footer-nav-i\" href=\"/vacancies?search%5Bcategory_id%5D=138\">Tibb və əczaçılıq</a><a class=\"footer-nav-i\" href=\"/vacancies?search%5Bcategory_id%5D=146\">Müxtəlif</a></div></div><div class=\"footer-nav-group\"><div class=\"footer-nav-title\"><a class=\"footer-mark\" href=\"/resumes\">İş axtaranlar</a></div><div class=\"footer-nav\"><a class=\"footer-nav-i\" href=\"/resumes?search%5Bcategory_id%5D=36\">Maliyyə</a><a class=\"footer-nav-i\" href=\"/resumes?search%5Bcategory_id%5D=37\">Marketinq</a><a class=\"footer-nav-i\" href=\"/resumes?search%5Bcategory_id%5D=38\">İnformasiya texnologiyaları</a><a class=\"footer-nav-i\" href=\"/resumes?search%5Bcategory_id%5D=44\">İnzibati</a><a class=\"footer-nav-i\" href=\"/resumes?search%5Bcategory_id%5D=40\">Satış</a><a class=\"footer-nav-i\" href=\"/resumes?search%5Bcategory_id%5D=43\">Dizayn</a><a class=\"footer-nav-i\" href=\"/resumes?search%5Bcategory_id%5D=39\">Hüquqşünaslıq</a><a class=\"footer-nav-i\" href=\"/resumes?search%5Bcategory_id%5D=46\">Təhsil və elm</a><a class=\"footer-nav-i\" href=\"/resumes?search%5Bcategory_id%5D=42\">Sənaye və kənd təsərrüfatı</a><a class=\"footer-nav-i\" href=\"/resumes?search%5Bcategory_id%5D=133\">Xidmət</a><a class=\"footer-nav-i\" href=\"/resumes?search%5Bcategory_id%5D=138\">Tibb və əczaçılıq</a><a class=\"footer-nav-i\" href=\"/resumes?search%5Bcategory_id%5D=146\">Müxtəlif</a></div></div></div></div></div><script data-cfasync=\"false\" src=\"/cdn-cgi/scripts/5c5dd728/cloudflare-static/email-decode.min.js\"></script></body></html>"
      ]
     },
     "execution_count": 13,
     "metadata": {},
     "output_type": "execute_result"
    }
   ],
   "source": [
    "soup"
   ]
  },
  {
   "cell_type": "code",
   "execution_count": 14,
   "id": "74967cbc",
   "metadata": {},
   "outputs": [
    {
     "data": {
      "text/plain": [
       "['Satıcı-Kassir', '500 - 800 AZN', 'Flakes Chimney Cake']"
      ]
     },
     "execution_count": 14,
     "metadata": {},
     "output_type": "execute_result"
    }
   ],
   "source": [
    "[soup.find(name='a',class_='collection-i-link').text,\n",
    "    soup.find(name='div', class_='collection-i-salary salary').text,\n",
    "    soup.find(name='a', class_='collection-i-company').text]"
   ]
  },
  {
   "cell_type": "code",
   "execution_count": null,
   "id": "b6358860",
   "metadata": {},
   "outputs": [],
   "source": [
    "# Question 2"
   ]
  },
  {
   "cell_type": "code",
   "execution_count": 64,
   "id": "e4f18b6a",
   "metadata": {},
   "outputs": [
    {
     "data": {
      "text/plain": [
       "200"
      ]
     },
     "execution_count": 64,
     "metadata": {},
     "output_type": "execute_result"
    }
   ],
   "source": [
    "url1='https://hamisiburada.az/product/toster-raf-r264t-sandwich-maker-5amQrE'\n",
    "resp1=requests.get(url1)\n",
    "html01=resp1.content\n",
    "soup01=BeautifulSoup(html01,'html.parser')\n",
    "resp1.status_code"
   ]
  },
  {
   "cell_type": "code",
   "execution_count": 65,
   "id": "a6bb8ccc",
   "metadata": {},
   "outputs": [
    {
     "data": {
      "text/plain": [
       "200"
      ]
     },
     "execution_count": 65,
     "metadata": {},
     "output_type": "execute_result"
    }
   ],
   "source": [
    "url2='https://hamisiburada.az/product/vafli-cihazi-sokany-sk-906-ASKct7'\n",
    "resp2=requests.get(url2)\n",
    "html02=resp2.content\n",
    "soup02=BeautifulSoup(html02,'html.parser')\n",
    "resp2.status_code"
   ]
  },
  {
   "cell_type": "code",
   "execution_count": 66,
   "id": "7ce51088",
   "metadata": {},
   "outputs": [
    {
     "data": {
      "text/plain": [
       "200"
      ]
     },
     "execution_count": 66,
     "metadata": {},
     "output_type": "execute_result"
    }
   ],
   "source": [
    "url3='https://hamisiburada.az/product/sendvic-cihazi-haeger-hg-222-JZ1w0X'\n",
    "resp3=requests.get(url3)\n",
    "html03=resp3.content\n",
    "soup03=BeautifulSoup(html03,'html.parser')\n",
    "resp3.status_code"
   ]
  },
  {
   "cell_type": "code",
   "execution_count": 119,
   "id": "b451d645",
   "metadata": {},
   "outputs": [],
   "source": [
    "def pr_details(*args):\n",
    "    \n",
    "    \"\"\"This function is specific to https://hamisiburada.az/\n",
    "    It takes soups from BeautifulSoup as inputs.\n",
    "    Can take one or several inputs.\n",
    "    Returns a dictionary with product details such as name, price, number of comments, \n",
    "    number of orders and product URL address.\"\"\"\n",
    "    \n",
    "    names=[soup.find('h1',class_='h3 mb-2').text for soup in args]\n",
    "    prices=[soup.find('span',class_='h3 font-weight-normal text-accent mr-1').text.split()[0].strip('₼') for soup in args]\n",
    "    nm_comments=[int(soup.find('span',\n",
    "                           class_='font-for-tab d-inline-block font-size-sm text-body align-middle mt-1 ml-1 mr-md-2 mr-1 pl-md-2 pl-sm-1 pr-md-2 pr-sm-1').text.split()[0]) for soup in args]\n",
    "    nm_orders=[int(soup.find('span',\n",
    "                           class_='d-inline-block font-size-sm text-body align-middle mt-1 ml-1 mr-md-2 mr-1 pl-md-2 pl-sm-1 pr-md-2 pr-sm-1 font-for-tab').text.split()[0]) for soup in args]\n",
    "    pr_links=[url1,url2,url3]\n",
    "    dict0={'name':names,'price':prices,'comment':nm_comments,'orders':nm_orders,'pr_URLs':pr_links}\n",
    "    return dict0"
   ]
  },
  {
   "cell_type": "code",
   "execution_count": 120,
   "id": "6dbacf37",
   "metadata": {},
   "outputs": [],
   "source": [
    "pdetails=pr_details(soup01,soup02,soup03)"
   ]
  },
  {
   "cell_type": "code",
   "execution_count": 121,
   "id": "70ce3979",
   "metadata": {},
   "outputs": [
    {
     "data": {
      "text/html": [
       "<div>\n",
       "<style scoped>\n",
       "    .dataframe tbody tr th:only-of-type {\n",
       "        vertical-align: middle;\n",
       "    }\n",
       "\n",
       "    .dataframe tbody tr th {\n",
       "        vertical-align: top;\n",
       "    }\n",
       "\n",
       "    .dataframe thead th {\n",
       "        text-align: right;\n",
       "    }\n",
       "</style>\n",
       "<table border=\"1\" class=\"dataframe\">\n",
       "  <thead>\n",
       "    <tr style=\"text-align: right;\">\n",
       "      <th></th>\n",
       "      <th>name</th>\n",
       "      <th>price</th>\n",
       "      <th>comment</th>\n",
       "      <th>orders</th>\n",
       "      <th>pr_URLs</th>\n",
       "    </tr>\n",
       "  </thead>\n",
       "  <tbody>\n",
       "    <tr>\n",
       "      <th>0</th>\n",
       "      <td>Toster Raf R.264T Sandwich maker</td>\n",
       "      <td>28.76</td>\n",
       "      <td>0</td>\n",
       "      <td>0</td>\n",
       "      <td>https://hamisiburada.az/product/toster-raf-r26...</td>\n",
       "    </tr>\n",
       "    <tr>\n",
       "      <th>1</th>\n",
       "      <td>Vafli cihazı Sokany SK-906</td>\n",
       "      <td>41.74</td>\n",
       "      <td>0</td>\n",
       "      <td>0</td>\n",
       "      <td>https://hamisiburada.az/product/vafli-cihazi-s...</td>\n",
       "    </tr>\n",
       "    <tr>\n",
       "      <th>2</th>\n",
       "      <td>Sendviç cihazı Haeger HG-222</td>\n",
       "      <td>29.87</td>\n",
       "      <td>0</td>\n",
       "      <td>0</td>\n",
       "      <td>https://hamisiburada.az/product/sendvic-cihazi...</td>\n",
       "    </tr>\n",
       "  </tbody>\n",
       "</table>\n",
       "</div>"
      ],
      "text/plain": [
       "                               name  price  comment  orders  \\\n",
       "0  Toster Raf R.264T Sandwich maker  28.76        0       0   \n",
       "1        Vafli cihazı Sokany SK-906  41.74        0       0   \n",
       "2      Sendviç cihazı Haeger HG-222  29.87        0       0   \n",
       "\n",
       "                                             pr_URLs  \n",
       "0  https://hamisiburada.az/product/toster-raf-r26...  \n",
       "1  https://hamisiburada.az/product/vafli-cihazi-s...  \n",
       "2  https://hamisiburada.az/product/sendvic-cihazi...  "
      ]
     },
     "execution_count": 121,
     "metadata": {},
     "output_type": "execute_result"
    }
   ],
   "source": [
    "df007=pd.DataFrame(data=pdetails)\n",
    "df007"
   ]
  },
  {
   "cell_type": "code",
   "execution_count": null,
   "id": "b76c1edf",
   "metadata": {},
   "outputs": [],
   "source": [
    "# Question 3"
   ]
  },
  {
   "cell_type": "code",
   "execution_count": 3,
   "id": "fef46707",
   "metadata": {},
   "outputs": [
    {
     "data": {
      "text/plain": [
       "200"
      ]
     },
     "execution_count": 3,
     "metadata": {},
     "output_type": "execute_result"
    }
   ],
   "source": [
    "base_l='https://navigator.az/az/logistika/'\n",
    "resp_0=requests.get(base_l)\n",
    "html_0=resp_0.content\n",
    "soup_0=BeautifulSoup(html_0,'html.parser')\n",
    "resp_0.status_code"
   ]
  },
  {
   "cell_type": "code",
   "execution_count": 77,
   "id": "50888e8b",
   "metadata": {},
   "outputs": [],
   "source": [
    "clean_titles=[title.text.strip('\\n ') for title in soup_0.find_all('a',class_='main-card__title')]\n",
    "\n",
    "clean_descs=[descs.text.strip(' \\xa0') for descs in soup_0.find_all('span',class_='main-card__info')]\n",
    "\n",
    "clean_address=[address.text.strip('\\n\\t ').split('\\n')[0] \n",
    "    for address in soup_0.find_all('div',class_='main-card__bottom')]"
   ]
  },
  {
   "cell_type": "code",
   "execution_count": 81,
   "id": "47f53e35",
   "metadata": {},
   "outputs": [
    {
     "data": {
      "text/html": [
       "<div>\n",
       "<style scoped>\n",
       "    .dataframe tbody tr th:only-of-type {\n",
       "        vertical-align: middle;\n",
       "    }\n",
       "\n",
       "    .dataframe tbody tr th {\n",
       "        vertical-align: top;\n",
       "    }\n",
       "\n",
       "    .dataframe thead th {\n",
       "        text-align: right;\n",
       "    }\n",
       "</style>\n",
       "<table border=\"1\" class=\"dataframe\">\n",
       "  <thead>\n",
       "    <tr style=\"text-align: right;\">\n",
       "      <th></th>\n",
       "      <th>Title</th>\n",
       "      <th>Description</th>\n",
       "      <th>Address</th>\n",
       "    </tr>\n",
       "  </thead>\n",
       "  <tbody>\n",
       "    <tr>\n",
       "      <th>0</th>\n",
       "      <td>SHARK LOGISTICS</td>\n",
       "      <td>Transport və logistika şirkəti.Ölkələrarası yü...</td>\n",
       "      <td>Abşeron r-nu, Sumqayıt şossesi 1</td>\n",
       "    </tr>\n",
       "    <tr>\n",
       "      <th>1</th>\n",
       "      <td>ABA LOGISTICS</td>\n",
       "      <td>Dünyanın istənilən nöqtəsindən və nəqliyyat va...</td>\n",
       "      <td>Xətai r-nu, 8 Noyabr (Nobel) pr. 15</td>\n",
       "    </tr>\n",
       "    <tr>\n",
       "      <th>2</th>\n",
       "      <td>ABD TRANSPORT</td>\n",
       "      <td>Daxili və beynəlxalq daşınma,ağır tikinti texn...</td>\n",
       "      <td>Yasamal r-nu, Cəfər Cabbarlı 44</td>\n",
       "    </tr>\n",
       "    <tr>\n",
       "      <th>3</th>\n",
       "      <td>ABSHERON LOGISTICS CENTER</td>\n",
       "      <td>Beynəlxalq standartlara və Azərbaycanda inteqr...</td>\n",
       "      <td>Lökbatan qəs., Xocasən şossesi 57</td>\n",
       "    </tr>\n",
       "    <tr>\n",
       "      <th>4</th>\n",
       "      <td>ADY CONTAINER</td>\n",
       "      <td>Konteyner daşımalarının mərkəzləşdirilmiş qayd...</td>\n",
       "      <td>Xətai r-nu, Xətai pr. 13a</td>\n",
       "    </tr>\n",
       "    <tr>\n",
       "      <th>5</th>\n",
       "      <td>ADY EXPRESS</td>\n",
       "      <td>Bütün sənayə sahələri üçün geniş həcmdə dəmir ...</td>\n",
       "      <td>Xətai r-nu, Xocalı pr. 13a</td>\n",
       "    </tr>\n",
       "    <tr>\n",
       "      <th>6</th>\n",
       "      <td>AGL LOGISTIKA</td>\n",
       "      <td>Bütün növ logistik xidmətləri, daşınma və yükl...</td>\n",
       "      <td>Yasamal r-nu, Həsənbəy Zərdabi 86B</td>\n",
       "    </tr>\n",
       "    <tr>\n",
       "      <th>7</th>\n",
       "      <td>AIR CARGO AZERBAIJAN</td>\n",
       "      <td>Logistika, yük daşınmalar, gömrük rəsmiləşməsi</td>\n",
       "      <td>Xətai r-nu, 8 Noyabr (Nobel) pr. 15</td>\n",
       "    </tr>\n",
       "    <tr>\n",
       "      <th>8</th>\n",
       "      <td>AR TRANSPORT</td>\n",
       "      <td>Logistika və Yükdaşıma şirkəti</td>\n",
       "      <td>Binəqədi r-nu, Asəf Zeynallı 3A</td>\n",
       "    </tr>\n",
       "    <tr>\n",
       "      <th>9</th>\n",
       "      <td>ARD LOGISTICS</td>\n",
       "      <td>Logistika və broker xidmətləri</td>\n",
       "      <td>Nərimanov r-nu, Aşıq Alı 2</td>\n",
       "    </tr>\n",
       "  </tbody>\n",
       "</table>\n",
       "</div>"
      ],
      "text/plain": [
       "                       Title  \\\n",
       "0            SHARK LOGISTICS   \n",
       "1              ABA LOGISTICS   \n",
       "2              ABD TRANSPORT   \n",
       "3  ABSHERON LOGISTICS CENTER   \n",
       "4              ADY CONTAINER   \n",
       "5                ADY EXPRESS   \n",
       "6              AGL LOGISTIKA   \n",
       "7       AIR CARGO AZERBAIJAN   \n",
       "8               AR TRANSPORT   \n",
       "9              ARD LOGISTICS   \n",
       "\n",
       "                                         Description  \\\n",
       "0  Transport və logistika şirkəti.Ölkələrarası yü...   \n",
       "1  Dünyanın istənilən nöqtəsindən və nəqliyyat va...   \n",
       "2  Daxili və beynəlxalq daşınma,ağır tikinti texn...   \n",
       "3  Beynəlxalq standartlara və Azərbaycanda inteqr...   \n",
       "4  Konteyner daşımalarının mərkəzləşdirilmiş qayd...   \n",
       "5  Bütün sənayə sahələri üçün geniş həcmdə dəmir ...   \n",
       "6  Bütün növ logistik xidmətləri, daşınma və yükl...   \n",
       "7     Logistika, yük daşınmalar, gömrük rəsmiləşməsi   \n",
       "8                     Logistika və Yükdaşıma şirkəti   \n",
       "9                     Logistika və broker xidmətləri   \n",
       "\n",
       "                               Address  \n",
       "0     Abşeron r-nu, Sumqayıt şossesi 1  \n",
       "1  Xətai r-nu, 8 Noyabr (Nobel) pr. 15  \n",
       "2      Yasamal r-nu, Cəfər Cabbarlı 44  \n",
       "3    Lökbatan qəs., Xocasən şossesi 57  \n",
       "4            Xətai r-nu, Xətai pr. 13a  \n",
       "5           Xətai r-nu, Xocalı pr. 13a  \n",
       "6   Yasamal r-nu, Həsənbəy Zərdabi 86B  \n",
       "7  Xətai r-nu, 8 Noyabr (Nobel) pr. 15  \n",
       "8      Binəqədi r-nu, Asəf Zeynallı 3A  \n",
       "9           Nərimanov r-nu, Aşıq Alı 2  "
      ]
     },
     "execution_count": 81,
     "metadata": {},
     "output_type": "execute_result"
    }
   ],
   "source": [
    "df_nav=pd.DataFrame(data=[clean_titles,clean_descs,clean_address])\n",
    "df_nav=df_nav.T\n",
    "df_nav.columns=['Title','Description','Address']\n",
    "df_nav"
   ]
  }
 ],
 "metadata": {
  "kernelspec": {
   "display_name": "Python 3",
   "language": "python",
   "name": "python3"
  },
  "language_info": {
   "codemirror_mode": {
    "name": "ipython",
    "version": 3
   },
   "file_extension": ".py",
   "mimetype": "text/x-python",
   "name": "python",
   "nbconvert_exporter": "python",
   "pygments_lexer": "ipython3",
   "version": "3.8.8"
  }
 },
 "nbformat": 4,
 "nbformat_minor": 5
}
