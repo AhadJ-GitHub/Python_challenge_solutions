{
 "cells": [
  {
   "cell_type": "markdown",
   "id": "5e589779",
   "metadata": {},
   "source": [
    "## Tapşırıq 1\n",
    "\n",
    "(5,5) ölçülü müsbət tam ədədlərdən ibarət array-in polindrom olan sətir və ya sütunlarını göstərin. Polindrom ədəd dedikdə məsələn: 323, 6336, 54245, 623326 nəzərdə tutulur."
   ]
  },
  {
   "cell_type": "code",
   "execution_count": 5,
   "id": "7f34accc",
   "metadata": {},
   "outputs": [
    {
     "name": "stdout",
     "output_type": "stream",
     "text": [
      "[1 0 7 0 1]\n",
      "[1 3 0 3 1]\n",
      "[11  0  7  0 11]\n",
      "[  0 120   3 120   0]\n",
      "[0 1 3 1 0]\n"
     ]
    }
   ],
   "source": [
    "# your code\n",
    "\n",
    "import numpy as np\n",
    "array = np.array([[1,0,7,0,1],\n",
    "                [2,120,4,1,10],\n",
    "                [1,3,0,3,1],\n",
    "                [1,120,31,1,19],\n",
    "                [11,0,7,0,11]])\n",
    "for x in array:\n",
    "    if list(x)==list(x)[::-1]:\n",
    "        print(x)\n",
    "y=array.T\n",
    "for a in y:\n",
    "    if list(a)==list(a)[::-1]:\n",
    "        print(a)"
   ]
  },
  {
   "cell_type": "markdown",
   "id": "18ea1bf9",
   "metadata": {},
   "source": [
    "## Tapşırıq 2\n",
    "\n",
    "İstənilən 2-ölçülü array-in hər sətiri üçün ən böyük ədədlə ən kiçik ədədin nisbətini tapın"
   ]
  },
  {
   "cell_type": "code",
   "execution_count": 6,
   "id": "b0401c92",
   "metadata": {},
   "outputs": [
    {
     "name": "stdout",
     "output_type": "stream",
     "text": [
      "7.0\n",
      "120.0\n",
      "4.0\n",
      "120.0\n",
      "1.5714285714285714\n"
     ]
    }
   ],
   "source": [
    "# your code\n",
    "array2 = np.array([[1,5,7,3,1],\n",
    "                [2,120,4,1,10],\n",
    "                [1,3,4,3,1],\n",
    "                [1,120,31,1,19],\n",
    "                [11,8,7,9,11]])\n",
    "for a in array2:\n",
    "    print(max(a)/min(a))"
   ]
  },
  {
   "cell_type": "markdown",
   "id": "44ef427c",
   "metadata": {},
   "source": [
    "## Tapşırıq 3\n",
    "\n",
    "Verilmiş 2-ölçülü array-in hər elementinin əvəzinə onun rankını yazaraq yeni bir array yaradın\n",
    "\n",
    "Gözlənilən cavab:\n",
    "\n",
    "[[4 2 6 0 8]\n",
    "\n",
    "[7 9 3 5 1]]"
   ]
  },
  {
   "cell_type": "code",
   "execution_count": 7,
   "id": "f714d279",
   "metadata": {},
   "outputs": [
    {
     "name": "stdout",
     "output_type": "stream",
     "text": [
      "[[ 9  4 15  0 17]\n",
      " [16 17  8  9  0]]\n",
      "[[4 2 6 0 8]\n",
      " [7 9 3 5 1]]\n"
     ]
    }
   ],
   "source": [
    "# your code\n",
    "import numpy as np\n",
    "np.random.seed(10)\n",
    "a = np.random.randint(20, size=[2,5])\n",
    "print(a)\n",
    "b=a.copy()\n",
    "c=b.ravel()\n",
    "d=np.sort(c)\n",
    "arr01=np.array([],dtype='int64')\n",
    "for i in c:\n",
    "    ff=np.where(i==d)[0][0]\n",
    "    arr01=np.append(arr01,ff)\n",
    "list0=[]\n",
    "for x in arr01:\n",
    "    list0.append(x)\n",
    "list1=list0[::-1]\n",
    "for h in list1:\n",
    "    if list1.count(h)>1:\n",
    "        ind=list1.index(h)\n",
    "        list1[ind]=h+1\n",
    "list2=list1[::-1]\n",
    "arr02=np.array(list2)\n",
    "arr02=np.reshape(arr02,(2,5))\n",
    "print(arr02)"
   ]
  },
  {
   "cell_type": "markdown",
   "id": "58cbd82f",
   "metadata": {},
   "source": [
    "## Tapşırıq 4\n",
    "\n",
    "Verilən bir ölçülü array-dən one hot encoding prinsipi ilə yeni bir array yaradın  "
   ]
  },
  {
   "cell_type": "code",
   "execution_count": 72,
   "id": "5487ee2c",
   "metadata": {},
   "outputs": [
    {
     "name": "stdout",
     "output_type": "stream",
     "text": [
      "[[-999    1    2    3]\n",
      " [   2    0    1    0]\n",
      " [   3    0    0    1]\n",
      " [   2    0    1    0]\n",
      " [   2    0    1    0]\n",
      " [   2    0    1    0]\n",
      " [   1    1    0    0]]\n"
     ]
    }
   ],
   "source": [
    "# your code\n",
    "arr = np.array([2, 3, 2, 2, 2, 1])\n",
    "# arr1=np.unique(arr)\n",
    "# arr2=np.array([],dtype='int64')\n",
    "# for i in arr:\n",
    "#     if i==arr1[0]:\n",
    "#         arr2=np.append(arr2,[1, 0, 0])\n",
    "#     elif i==arr1[1]:\n",
    "#         arr2=np.append(arr2,[0, 1, 0])\n",
    "#     elif i==arr1[2]:\n",
    "#         arr2=np.append(arr2,[0, 0, 1])\n",
    "# arr2=np.reshape(arr2,(6,3))\n",
    "# arr1=np.reshape(arr1,(1,3))\n",
    "# arr3=np.r_[arr1,arr2]\n",
    "# arr4=np.insert(arr,0,-999)\n",
    "# arr4=np.reshape(arr4,(7,1))\n",
    "# arr5=np.c_[arr4,arr3]\n",
    "# print(arr5)\n",
    "rs=len(arr)\n",
    "cs=len(np.unique(arr))\n",
    "arr1=np.full((rs,cs),0)\n",
    "for ind, elm in enumerate(arr):\n",
    "    position = np.where(np.unique(arr) == elm)\n",
    "    arr1[ind,position] = 1  \n",
    "arr2=np.c_[arr,arr1]\n",
    "arr3=np.insert(np.unique(arr),0,-999)\n",
    "arr3=np.reshape(arr3, (1,len(arr3)))\n",
    "arr4=np.r_[arr3,arr2]\n",
    "print(arr4)"
   ]
  },
  {
   "cell_type": "markdown",
   "id": "4094f10d",
   "metadata": {},
   "source": [
    "## Tapşırıq 5\n",
    "\n",
    "Verilmiş array-in top 5 elementini və onların pozisiyalarını əldə edin"
   ]
  },
  {
   "cell_type": "code",
   "execution_count": 20,
   "id": "de4f8e70",
   "metadata": {},
   "outputs": [
    {
     "name": "stdout",
     "output_type": "stream",
     "text": [
      "[[ 9 25  4 40 24]\n",
      " [16 49 11 31 35]\n",
      " [ 3 35 15 35 49]\n",
      " [25 16 37 44 17]]\n",
      "Element: 35 On position: [ 9 11 13]\n",
      "Element: 37 On position: [17]\n",
      "Element: 40 On position: [3]\n",
      "Element: 44 On position: [18]\n",
      "Element: 49 On position: [ 6 14]\n"
     ]
    }
   ],
   "source": [
    "import numpy as np\n",
    "np.random.seed(100)\n",
    "a = np.random.randint(1,50, 20).reshape(4,5)\n",
    "print(a)\n",
    "# b=np.apply_along_axis(max,axis=1,arr=a)\n",
    "# c=np.apply_along_axis(max,axis=0,arr=a)\n",
    "# d=np.r_[b,c]\n",
    "# dlist=[]\n",
    "# for b in d:\n",
    "#     if b not in dlist:\n",
    "#         dlist.append(b)\n",
    "# dlist.sort()\n",
    "# print('\\n',dlist)\n",
    "# print('')\n",
    "# for i in a:\n",
    "#     for x in i:\n",
    "#         if x in dlist:\n",
    "#             print(np.where(a==x))     \n",
    "\n",
    "b=a.copy()\n",
    "c=b.ravel()\n",
    "list0=[]\n",
    "list1=[]\n",
    "for i in c:\n",
    "    list1.append(i)\n",
    "list1=list(set(list1))\n",
    "for x in range(0,5):\n",
    "    for i in list1:\n",
    "        if i==max(list1):\n",
    "            list0.append(i)\n",
    "            list1.remove(i)\n",
    "list0.remove(min(list0))\n",
    "list0.sort()\n",
    "for elm in list0:\n",
    "    print(f'Element: {elm} On position: {np.where(c==elm)[0]}')"
   ]
  }
 ],
 "metadata": {
  "kernelspec": {
   "display_name": "Python 3",
   "language": "python",
   "name": "python3"
  },
  "language_info": {
   "codemirror_mode": {
    "name": "ipython",
    "version": 3
   },
   "file_extension": ".py",
   "mimetype": "text/x-python",
   "name": "python",
   "nbconvert_exporter": "python",
   "pygments_lexer": "ipython3",
   "version": "3.8.8"
  }
 },
 "nbformat": 4,
 "nbformat_minor": 5
}
