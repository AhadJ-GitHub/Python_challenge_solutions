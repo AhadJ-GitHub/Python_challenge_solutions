{
 "cells": [
  {
   "cell_type": "markdown",
   "id": "655eb8e7",
   "metadata": {},
   "source": [
    "## Exercise 1\n",
    "\n",
    "İstənilən ölçüdə array yaradın. Array-in ətrafındakı elementləri 1-lərdən, daxilindəkilər isə 0-lardan ibarət olmalıdır.\n",
    "\n",
    "Məsələn:\n",
    "\n",
    "1)\n",
    "\n",
    "    [[1,1,1,1,1],\n",
    "     [1,0,0,0,1],\n",
    "     [1,0,0,0,1],\n",
    "     [1,1,1,1,1]]\n",
    "     \n",
    "2)\n",
    "\n",
    "    [[1,1,1],\n",
    "     [1,0,1],\n",
    "     [1,1,1]]\n",
    "     \n",
    "3)\n",
    "\n",
    "    [[1,1,1,1],\n",
    "     [1,0,0,1],\n",
    "     [1,1,1,1]]     "
   ]
  },
  {
   "cell_type": "code",
   "execution_count": 2,
   "id": "be51e709",
   "metadata": {
    "scrolled": true
   },
   "outputs": [
    {
     "name": "stdout",
     "output_type": "stream",
     "text": [
      "[[  4   8   9]\n",
      " [ 74  25   4]\n",
      " [  3 284  39]\n",
      " [ 75  22   0]\n",
      " [  5 254  29]]\n",
      "[[1 1 1]\n",
      " [1 1 1]\n",
      " [1 1 1]\n",
      " [1 1 1]\n",
      " [1 1 1]]\n",
      "\n",
      "[[1 1 1]\n",
      " [1 0 1]\n",
      " [1 0 1]\n",
      " [1 0 1]\n",
      " [1 1 1]]\n"
     ]
    }
   ],
   "source": [
    "# your code\n",
    "import numpy as np\n",
    "arr0=np.array([[4,8,9],[74, 25, 4], [3, 284, 39],[75, 22, 0],[5, 254, 29]])\n",
    "print(arr0)\n",
    "arr1=arr0.copy()\n",
    "def birle(arrayimiz):\n",
    "    arrayimiz=np.full(arrayimiz.shape[0], 1)\n",
    "    return arrayimiz\n",
    "arr1=np.apply_along_axis(birle,axis=0,arr=arr0)\n",
    "for i in range(0,arr0.shape[0]):\n",
    "    if i==0 or i==arr0.shape[0]-1:\n",
    "        continue\n",
    "    else:\n",
    "        arr1[i][1:len(arr1[i])-1]=0\n",
    "print(f'\\n{arr1}') "
   ]
  },
  {
   "cell_type": "markdown",
   "id": "78b57dab",
   "metadata": {},
   "source": [
    "## Exercise 2\n",
    "Verilmiş 1 ölçülü massivin [ 0,  1,  2,  3,  4,  5,  6,  7,  8,  9, 10, 11, 12, 13, 14] hər 3-cü elementi ilə başlayan 6 sətir və 4 sütundan ibarət yeni massiv yaradın"
   ]
  },
  {
   "cell_type": "code",
   "execution_count": 35,
   "id": "56b1d646",
   "metadata": {},
   "outputs": [
    {
     "name": "stdout",
     "output_type": "stream",
     "text": [
      "[[ 0  1  2  3]\n",
      " [ 2  3  4  5]\n",
      " [ 4  5  6  7]\n",
      " [ 6  7  8  9]\n",
      " [ 8  9 10 11]\n",
      " [10 11 12 13]]\n"
     ]
    }
   ],
   "source": [
    "# your code\n",
    "arr0=np.array([ 0, 1, 2, 3, 4, 5, 6, 7, 8, 9, 10, 11, 12, 13, 14])\n",
    "list1=[]\n",
    "for i in arr0[::2]:\n",
    "    list1.append(arr0[arr0==i][0])\n",
    "list1.remove(14)\n",
    "arr1=np.array([[]],dtype='int64')\n",
    "for i in list1:\n",
    "    arr1=np.append(arr1,arr0[i:i+4])\n",
    "arr1=arr1[:-3]\n",
    "arr1=arr1.reshape((6,4))\n",
    "print(arr1)"
   ]
  },
  {
   "cell_type": "markdown",
   "id": "5b46e6ce",
   "metadata": {},
   "source": [
    "## Exercise 3\n",
    "Random ədədlərdən ibarət 2 ölçülü massiv yaradın. Yaratdığınız massivin hər sətrini tərsinə çevirməklə yeni massiv yaradın.\n",
    "\n",
    "Məsələn:\n",
    " \n",
    "     [[1,2,3,4,5],\n",
    "      [6,7,8,9,10],\n",
    "      [10,11,12,13,14]]\n",
    " \n",
    "Gözlənilən cavab:\n",
    " \n",
    "     [[5,4,3,2,1],\n",
    "      [10,9,8,7,6],\n",
    "      [14,13,12,11,10]]"
   ]
  },
  {
   "cell_type": "code",
   "execution_count": 5,
   "id": "b11b5c4a",
   "metadata": {},
   "outputs": [
    {
     "name": "stdout",
     "output_type": "stream",
     "text": [
      "[[  4   8   9  55]\n",
      " [ 74  25   4  12]\n",
      " [  3 284  39  48]]\n",
      "\n",
      "[[ 55   9   8   4]\n",
      " [ 12   4  25  74]\n",
      " [ 48  39 284   3]]\n"
     ]
    }
   ],
   "source": [
    "# your code\n",
    "arr0=np.array([[4,8,9,55],[74, 25, 4,12], [3, 284, 39,48]])\n",
    "print(f'{arr0}\\n')\n",
    "for i in arr0:\n",
    "    arr0[arr0==i]=arr0[arr0==i][::-1]\n",
    "print(arr0)"
   ]
  },
  {
   "cell_type": "markdown",
   "id": "47c28031",
   "metadata": {},
   "source": [
    "## Exercise 4\n",
    "Random ədədlərdən ibarət 2 ölçülü massiv yaradın. Yaratdığınız massivin sətirləri ilə sütunlarının yerini dəyişməklə yeni massiv yaradın.\n",
    "\n",
    "Məsələn:\n",
    "\n",
    "    [[1,2,3,4,5],\n",
    "     [6,7,8,9,10],\n",
    "     [10,11,12,13,14]]\n",
    "\n",
    "Gözlənilən cavab:\n",
    "\n",
    "    [[1,6,10],\n",
    "     [2,7,11],\n",
    "     [3,8,12],\n",
    "     [4,9,13],\n",
    "     [5,10,14]]\n",
    "\n",
    "\n",
    "​"
   ]
  },
  {
   "cell_type": "code",
   "execution_count": 4,
   "id": "da6bb964",
   "metadata": {
    "scrolled": true
   },
   "outputs": [
    {
     "name": "stdout",
     "output_type": "stream",
     "text": [
      "[[63 74  6 52 87]\n",
      " [10 20 76  7 69]\n",
      " [85 37 70 38 79]]\n",
      "\n",
      "[[63 10 85]\n",
      " [74 20 37]\n",
      " [ 6 76 70]\n",
      " [52  7 38]\n",
      " [87 69 79]]\n"
     ]
    }
   ],
   "source": [
    "# your code\n",
    "np.random.seed(662)\n",
    "arr0= np.random.randint(100,size=(3,5))\n",
    "print(arr0)\n",
    "arr1=arr0.T\n",
    "print(f'\\n{arr1}')"
   ]
  },
  {
   "cell_type": "markdown",
   "id": "1bfcfd77",
   "metadata": {},
   "source": [
    "## Exercise 5\n",
    "\n",
    "Verilmiş 2 ölçülü massivdən diagonalı bu massivin sətirlərindən ibarət olan yeni massiv yaradın.\n",
    "\n",
    "Gözlənilən cavab:\n",
    "\n",
    "       [[[1, 0, 0],\n",
    "        [0, 2, 0],\n",
    "        [0, 0, 3]],\n",
    "\n",
    "       [[4, 0, 0],\n",
    "        [0, 5, 0],\n",
    "        [0, 0, 6]],\n",
    "\n",
    "       [[7, 0, 0],\n",
    "        [0, 8, 0],\n",
    "        [0, 0, 9]]]"
   ]
  },
  {
   "cell_type": "code",
   "execution_count": 3,
   "id": "d405a3b5",
   "metadata": {},
   "outputs": [
    {
     "name": "stdout",
     "output_type": "stream",
     "text": [
      "[[ 9 15 64]\n",
      " [28 89 93]\n",
      " [29  8 73]]\n",
      "\n",
      "[[ 9  0  0]\n",
      " [ 0 15  0]\n",
      " [ 0  0 64]]\n",
      "[[28  0  0]\n",
      " [ 0 89  0]\n",
      " [ 0  0 93]]\n",
      "[[29  0  0]\n",
      " [ 0  8  0]\n",
      " [ 0  0 73]]\n"
     ]
    }
   ],
   "source": [
    "# your code\n",
    "import numpy as np\n",
    "np.random.seed(10)\n",
    "arr = np.random.randint(100,size=(3,3))\n",
    "print(f'{arr}\\n')\n",
    "for i in range(0,arr.shape[0]):\n",
    "    print(np.diag(v=arr[i]))"
   ]
  },
  {
   "cell_type": "code",
   "execution_count": null,
   "id": "824a9361",
   "metadata": {},
   "outputs": [],
   "source": []
  }
 ],
 "metadata": {
  "kernelspec": {
   "display_name": "Python 3",
   "language": "python",
   "name": "python3"
  },
  "language_info": {
   "codemirror_mode": {
    "name": "ipython",
    "version": 3
   },
   "file_extension": ".py",
   "mimetype": "text/x-python",
   "name": "python",
   "nbconvert_exporter": "python",
   "pygments_lexer": "ipython3",
   "version": "3.8.8"
  }
 },
 "nbformat": 4,
 "nbformat_minor": 5
}
