{
 "cells": [
  {
   "cell_type": "markdown",
   "id": "34abff57",
   "metadata": {},
   "source": [
    "# Problem 1*"
   ]
  },
  {
   "cell_type": "markdown",
   "id": "6c1b1071",
   "metadata": {},
   "source": [
    "Verilmiş mötərizə simvollarından '(', ')', '{', '}', '[' və ']' ibarət string yaradın. Daxil edilən stringin şərtlərə uyğun gəlib gəlmədiyini yoxlayın.\n",
    "\n",
    "Uyğunluq qaydaları:\n",
    "\n",
    "1. Açılmış mötərizə eyni tip mötərizə ilə bağlanmalıdır (Məsələn: \"(\" --> \")\")\n",
    "\n",
    "2. Açılmış mötərizə düzgün qaydada bağlanmalıdır (Məsələn: \")\" bağlama mötərizəsi açmadan \"(\" əvvəl gəlibsə yalnışdır)\n",
    "\n",
    "3. Hər bir açılmış\\bağlanmış mötərizələr özü tipli mötərizə ilə bağlanıb\\açılmalıdır (Məsələn [], (), {})\n",
    "\n",
    "\n",
    "Məsələn: '([])'\n",
    "\n",
    "Gözlənilən cavab: True\n",
    "\n",
    "Məsələn: '}([]){'\n",
    "\n",
    "Gözlənilən cavab: False"
   ]
  },
  {
   "cell_type": "code",
   "execution_count": 310,
   "id": "3f79ae6e",
   "metadata": {},
   "outputs": [
    {
     "data": {
      "text/plain": [
       "['(', ')', '{', '}', '[', ']']"
      ]
     },
     "execution_count": 310,
     "metadata": {},
     "output_type": "execute_result"
    }
   ],
   "source": [
    "# your code\n",
    "# string='(,),{,},[,]'\n",
    "# lst=string.split(',')\n",
    "# a=input('Bir string daxil edin: ')\n",
    "# b=a.split()\n",
    "# for i in lst:\n",
    "#     count=0\n",
    "#     for x in b:\n",
    "#         if i == b[count]:\n",
    "#             if lst[1] not in b:\n",
    "#                 print('False')\n",
    "#         count+=1    \n",
    "\n",
    "# Needs more time to work on"
   ]
  },
  {
   "cell_type": "markdown",
   "id": "fa06f0ae",
   "metadata": {},
   "source": [
    "# Problem 2"
   ]
  },
  {
   "cell_type": "markdown",
   "id": "7245c501",
   "metadata": {},
   "source": [
    "List və axtarılan ədədi qəbul edən funksiya yazın. Bu funksiya vasitəsi ilə ədədin, həmin listdəki ilk və son pozisiyasını ekrana çap edin.\n",
    "\n",
    "Məsələn:\n",
    "\n",
    "list = [3, 6, 2, 8, 2, 90, 4, 5, 2, 7, 2, 6], axtarılan ədəd = 2\n",
    "\n",
    "Gözlənilən cavab:\n",
    "\n",
    "2, 10"
   ]
  },
  {
   "cell_type": "code",
   "execution_count": 187,
   "id": "cb5b97b5",
   "metadata": {},
   "outputs": [],
   "source": [
    "# your code\n",
    "def asdf(**kwargs):\n",
    "    list1=kwargs['list0']\n",
    "    list2=[]\n",
    "    count=0\n",
    "    for i in list1:\n",
    "        if i==kwargs['axtarılan_ədəd']:\n",
    "            list2.append(count)\n",
    "        count+=1\n",
    "    print(f'{min(list2)}, {max(list2)}')"
   ]
  },
  {
   "cell_type": "code",
   "execution_count": 188,
   "id": "cad96f19",
   "metadata": {},
   "outputs": [
    {
     "name": "stdout",
     "output_type": "stream",
     "text": [
      "2, 10\n"
     ]
    }
   ],
   "source": [
    "asdf(list0 = [3, 6, 2, 8, 2, 90, 4, 5, 2, 7, 2, 6], axtarılan_ədəd = 2)"
   ]
  },
  {
   "cell_type": "markdown",
   "id": "25da631b",
   "metadata": {},
   "source": [
    "# Problem 3"
   ]
  },
  {
   "cell_type": "markdown",
   "id": "091a3ba5",
   "metadata": {},
   "source": [
    "Böyük və kiçik hərflərdən ibarət string yaradın. Bu stringin daxilində olan bütün kiçik hərfləri, daha sonra isə böyük hərfləri çap edən kod yazın.\n",
    "\n",
    "Məsələn:\n",
    "\n",
    "DEmOnsTrAte\n",
    "\n",
    "Gözlənilən cavab:\n",
    "\n",
    "mnsrteDEOTA"
   ]
  },
  {
   "cell_type": "code",
   "execution_count": 18,
   "id": "3fcf8bf5",
   "metadata": {},
   "outputs": [
    {
     "name": "stdout",
     "output_type": "stream",
     "text": [
      "Bir string daxil edin: DEmOnsTrAte\n",
      "mnsrteDEOTA\n"
     ]
    }
   ],
   "source": [
    "# your code\n",
    "string=input('Bir string daxil edin: ')\n",
    "lstupper=[]\n",
    "lstlower=[]\n",
    "for i in string:\n",
    "    if i.isupper():\n",
    "        lstupper.append(i)\n",
    "    elif i.islower():\n",
    "        lstlower.append(i)\n",
    "a=''.join(lstlower)\n",
    "b=''.join(lstupper)\n",
    "print(f'{a}{b}')"
   ]
  },
  {
   "cell_type": "markdown",
   "id": "a65e076e",
   "metadata": {},
   "source": [
    "# Problem 4"
   ]
  },
  {
   "cell_type": "markdown",
   "id": "f67fb5a2",
   "metadata": {},
   "source": [
    "Verilmiş stringdəki hərf, rəqəm və simvolların sayını qaytaran kod yazın.\n",
    "\n",
    "Məsələn:\n",
    "\n",
    "P@#yn26at^&i5ve\n",
    "\n",
    "Gözlənilən cavab:\n",
    "\n",
    "Hərf: 8 \n",
    "\n",
    "Rəqəm: 3 \n",
    "\n",
    "Simvol: 4"
   ]
  },
  {
   "cell_type": "code",
   "execution_count": 20,
   "id": "3a8dee84",
   "metadata": {
    "scrolled": true
   },
   "outputs": [
    {
     "name": "stdout",
     "output_type": "stream",
     "text": [
      "Bir string daxil edin: P@#yn2 6at^&i5ve\n",
      "Hərf: 8\n",
      "Rəqəm: 3\n",
      "Simvol: 4\n"
     ]
    }
   ],
   "source": [
    "# your code\n",
    "string1=input('Bir string daxil edin: ')\n",
    "count_herf=0\n",
    "count_reqem=0\n",
    "count_simvol=0\n",
    "for i in string1:\n",
    "    if i.isalpha():\n",
    "        count_herf+=1\n",
    "    elif i.isdigit():\n",
    "        count_reqem+=1\n",
    "    elif i!=' ':\n",
    "        count_simvol+=1\n",
    "print(f'Hərf: {count_herf}\\nRəqəm: {count_reqem}\\nSimvol: {count_simvol}')"
   ]
  },
  {
   "cell_type": "markdown",
   "id": "b45181ee",
   "metadata": {},
   "source": [
    "# Problem 5"
   ]
  },
  {
   "cell_type": "markdown",
   "id": "89311734",
   "metadata": {},
   "source": [
    "Dövrdən istifadə edərək aşağıda veriləni çap edin:\n",
    "\n",
    "- 5 4 3 2 1\n",
    "\n",
    "- 4 3 2 1 \n",
    "\n",
    "- 3 2 1 \n",
    "\n",
    "- 2 1 \n",
    "\n",
    "- 1"
   ]
  },
  {
   "cell_type": "code",
   "execution_count": 72,
   "id": "31dbdb1f",
   "metadata": {},
   "outputs": [
    {
     "name": "stdout",
     "output_type": "stream",
     "text": [
      "Bir reqem daxil edin: 5\n",
      "• 5 4 3 2 1\n",
      "• 4 3 2 1\n",
      "• 3 2 1\n",
      "• 2 1\n",
      "• 1\n"
     ]
    }
   ],
   "source": [
    "# your code\n",
    "c=input('Bir ədəd daxil edin: ')\n",
    "count=int(a)\n",
    "while count!=0:\n",
    "    d=sorted(list(range(1,count+1)),reverse=True)\n",
    "    print('\\u2022 '+' '.join(str(o) for o in d))  \n",
    "    count-=1\n"
   ]
  },
  {
   "cell_type": "markdown",
   "id": "618c7713",
   "metadata": {},
   "source": [
    "# Problem 6"
   ]
  },
  {
   "cell_type": "markdown",
   "id": "02fbb8ce",
   "metadata": {},
   "source": [
    "*Fibonnaçi ardıcıllığı* - Hər növbəti ədəd özündən əvvəlki iki ədədin cəminə bərabərdir. \n",
    "\n",
    "Elə bir funksiya yazın ki, ədəd qəbul etsin (n) və bu ədədə çatanda ardıcıllığı dayandırsın.\n",
    "\n",
    "Məsələn: n = 22\n",
    "\n",
    "Gözlənilən cavab:\n",
    "\n",
    "0, 1, 1, 2, 3, 5, 8, 13, 21\n",
    "\n",
    "Məsələn: n = 100\n",
    "\n",
    "Gözlənilən cavab:\n",
    "\n",
    "0, 1, 1, 2, 3, 5, 8, 13, 21, 34, 55, 89\n",
    "\n"
   ]
  },
  {
   "cell_type": "code",
   "execution_count": 114,
   "id": "f659fe26",
   "metadata": {},
   "outputs": [],
   "source": [
    "# your code\n",
    "def fibsr():\n",
    "    n=int(input('Bir ədəd daxil edin: '))\n",
    "    lst1=[]\n",
    "    rng=list(range(0,n))\n",
    "    for x in rng:\n",
    "        if x==0 or x==1:\n",
    "            lst1.append(i)\n",
    "        elif x>1 and lst1[x-1]<=n:\n",
    "            lst1.append(lst1[x-1]+lst1[x-2])\n",
    "        else:\n",
    "            break\n",
    "    lst1.remove(max(lst1))\n",
    "    print(lst1)"
   ]
  },
  {
   "cell_type": "code",
   "execution_count": 117,
   "id": "e64ef2ed",
   "metadata": {},
   "outputs": [
    {
     "name": "stdout",
     "output_type": "stream",
     "text": [
      "Bir ədəd daxil edin: 22\n",
      "[1, 1, 2, 3, 5, 8, 13, 21]\n"
     ]
    }
   ],
   "source": [
    "fibsr()"
   ]
  },
  {
   "cell_type": "markdown",
   "id": "51f2ae95",
   "metadata": {},
   "source": [
    "# Problem 7"
   ]
  },
  {
   "cell_type": "markdown",
   "id": "96f0db66",
   "metadata": {},
   "source": [
    "n həddə qədər ədədlərin cəmini hesablayan funksiya yazın. Qeyd: 1-ci həddən n-ci həddə qədər olmalıdır. \n",
    "\n",
    "`2`,`22`,`222`,`2222`,`22222`, `222222` və s.\n",
    "\n",
    "Məsələn: n = 5 \n",
    "\n",
    "Gözlənilən cavab:\n",
    "\n",
    "2 + 22 + 222 + 2222 + 22222 = 24690\n",
    "\n",
    "Məsələn: n = 3 \n",
    "\n",
    "Gözlənilən cavab:\n",
    "\n",
    "2 + 22 + 222 = 246"
   ]
  },
  {
   "cell_type": "code",
   "execution_count": 142,
   "id": "e95000c4",
   "metadata": {},
   "outputs": [],
   "source": [
    "# your code\n",
    "def cmhd():\n",
    "    inn=input('Bir hədd daxil edin: ')\n",
    "    list1=[]\n",
    "    for i in range(1,int(inn)+1):\n",
    "        ss='2'*i\n",
    "        list1.append(ss)\n",
    "    sm=0\n",
    "    for x in list1:\n",
    "        sm+=int(x)\n",
    "    print(' + '.join(list1)+f' = {sm}')"
   ]
  },
  {
   "cell_type": "code",
   "execution_count": 144,
   "id": "0504463f",
   "metadata": {},
   "outputs": [
    {
     "name": "stdout",
     "output_type": "stream",
     "text": [
      "Bir hədd daxil edin: 5\n",
      "2 + 22 + 222 + 2222 + 22222 = 24690\n"
     ]
    }
   ],
   "source": [
    "cmhd()"
   ]
  },
  {
   "cell_type": "markdown",
   "id": "99e8b039",
   "metadata": {},
   "source": [
    "# Problem 8"
   ]
  },
  {
   "cell_type": "markdown",
   "id": "b3da975e",
   "metadata": {},
   "source": [
    "Elə bir funksiya yazın ki, bir .txt faylı və bir ədəd (n) qəbul etsin. Bu funksiya cavab olaraq 2 fayl qaytarmalıdır. Birinci fayl, verilən fayldan n-ci sətir xaric qalan bütün sətirləri, ikinci fayl isə yalnız n-ci sətiri qaytarmalıdır.\n",
    "\n",
    "File:\n",
    "- line1\n",
    "\n",
    "- line2\n",
    "\n",
    "- line3\n",
    "\n",
    "- line4\n",
    "\n",
    "- line5\n",
    "\n",
    "- line6\n",
    "\n",
    "- line7\n",
    "\n",
    "n = 3\n",
    "\n",
    "**Gözlənilən cavab** - iki ədəd .txt file olmalıdır\n",
    "\n",
    "File 1:\n",
    "- line1\n",
    "\n",
    "- line2\n",
    "\n",
    "- line4\n",
    "\n",
    "- line5\n",
    "\n",
    "- line6\n",
    "\n",
    "- line7\n",
    "\n",
    "File 2:\n",
    "\n",
    "- line3"
   ]
  },
  {
   "cell_type": "code",
   "execution_count": 307,
   "id": "70d536cd",
   "metadata": {},
   "outputs": [],
   "source": [
    "# your code\n",
    "def txtfun(flnm,n):\n",
    "    with open(flnm,'r') as fl:    \n",
    "        lines=fl.readlines()\n",
    "        lineindex = 1\n",
    "        deleteline = int(n)\n",
    "        with open('new1.txt', 'w') as fl1:\n",
    "            for ln in lines:\n",
    "                if lineindex != deleteline:\n",
    "                    fl1.write(ln)\n",
    "                    lineindex += 1\n",
    "                else:\n",
    "                    with open('new2.txt', 'w') as fl2:\n",
    "                        fl2.write(ln)\n",
    "                    lineindex += 1\n",
    "                    continue\n",
    "    print('File1:\\n')\n",
    "    with open('new1','r') as obj:\n",
    "        for line in obj:\n",
    "            print('\\u2022 '+line.strip('\\n'))\n",
    "    print('\\n')\n",
    "    print('File2:\\n')\n",
    "    with open('new2','r') as obj:\n",
    "        for line in obj:\n",
    "            print('\\u2022 '+line.strip('\\n'))"
   ]
  },
  {
   "cell_type": "code",
   "execution_count": 308,
   "id": "62ac38cc",
   "metadata": {},
   "outputs": [
    {
     "name": "stdout",
     "output_type": "stream",
     "text": [
      "File1:\n",
      "\n",
      "• sda\n",
      "• sad\n",
      "• tytrr\n",
      "• DGhjh\n",
      "• salam7/\n",
      "• hey\n",
      "• sd!@\n",
      "• loop\n",
      "\n",
      "\n",
      "File2:\n",
      "\n",
      "• fdg.,.\n"
     ]
    }
   ],
   "source": [
    "txtfun('quiztext.txt',3)"
   ]
  },
  {
   "cell_type": "code",
   "execution_count": null,
   "id": "aa687a92",
   "metadata": {},
   "outputs": [],
   "source": []
  },
  {
   "cell_type": "markdown",
   "id": "3b4ac177",
   "metadata": {},
   "source": [
    "# Problem 9"
   ]
  },
  {
   "cell_type": "markdown",
   "id": "c901d053",
   "metadata": {},
   "source": [
    "Verilmiş tuple-u, daxilindəki tuple-ların ikinci elementinə görə müqayisə edən və artan sıra ilə qaytaran kod yazın.\n",
    "\n",
    "Məsələn:\n",
    "\n",
    "(('a', 23), ('b', 37), ('c', 11), ('d', 29))\n",
    "\n",
    "Gözlənilən cavab:\n",
    "\n",
    "(('c', 11), ('a', 23), ('d', 29), ('b', 37))"
   ]
  },
  {
   "cell_type": "code",
   "execution_count": 205,
   "id": "ccde5638",
   "metadata": {},
   "outputs": [
    {
     "data": {
      "text/plain": [
       "(('c', 11), ('a', 23), ('d', 29), ('b', 37))"
      ]
     },
     "execution_count": 205,
     "metadata": {},
     "output_type": "execute_result"
    }
   ],
   "source": [
    "# your code\n",
    "tup=(('a', 23), ('b', 37), ('c', 11), ('d', 29))\n",
    "dict0=dict(tup)\n",
    "tuple(sorted(dict0.items(), key=lambda i: i[1]))"
   ]
  },
  {
   "cell_type": "markdown",
   "id": "879c8ab7",
   "metadata": {},
   "source": [
    "# Problem 10"
   ]
  },
  {
   "cell_type": "markdown",
   "id": "e318cc4c",
   "metadata": {},
   "source": [
    "List yaradın və o listin 3 cü ən böyük ədədinin ikinci rəqəmini qaytaran kod yazın. Əgər bu ədəd 1 rəqəmdən ibarətdirsə cavab olaraq 0 qaytarmalıdır. "
   ]
  },
  {
   "cell_type": "code",
   "execution_count": 13,
   "id": "de508de5",
   "metadata": {},
   "outputs": [
    {
     "name": "stdout",
     "output_type": "stream",
     "text": [
      "24\n"
     ]
    }
   ],
   "source": [
    "# your code\n",
    "list0=[1,'miles',24,24,47,47,325, 325, 'hello']\n",
    "list1=[]\n",
    "for x in list0:\n",
    "    if isinstance(x,int):\n",
    "        list1.append(x)\n",
    "list2=sorted(list1,reverse=True)\n",
    "st1=set(list2)\n",
    "st1.remove(max(st1))\n",
    "st1.remove(max(st1))\n",
    "maxnumber=str(max(st1))\n",
    "if len(maxnumber)==1:\n",
    "    print('0')\n",
    "else:\n",
    "    print(f'{maxnumber}')"
   ]
  },
  {
   "cell_type": "code",
   "execution_count": null,
   "id": "7d3d61dc",
   "metadata": {},
   "outputs": [],
   "source": []
  },
  {
   "cell_type": "code",
   "execution_count": null,
   "id": "eb4ac724",
   "metadata": {},
   "outputs": [],
   "source": []
  }
 ],
 "metadata": {
  "kernelspec": {
   "display_name": "Python 3 (ipykernel)",
   "language": "python",
   "name": "python3"
  },
  "language_info": {
   "codemirror_mode": {
    "name": "ipython",
    "version": 3
   },
   "file_extension": ".py",
   "mimetype": "text/x-python",
   "name": "python",
   "nbconvert_exporter": "python",
   "pygments_lexer": "ipython3",
   "version": "3.10.9"
  }
 },
 "nbformat": 4,
 "nbformat_minor": 5
}
