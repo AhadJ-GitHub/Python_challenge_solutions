{
 "cells": [
  {
   "cell_type": "code",
   "execution_count": 1,
   "id": "ef9a14fd",
   "metadata": {},
   "outputs": [],
   "source": [
    "import numpy as np"
   ]
  },
  {
   "cell_type": "code",
   "execution_count": 3,
   "id": "8dd81bf5",
   "metadata": {},
   "outputs": [],
   "source": [
    "u=np.array([[1,1,0], [0,1,1], [1,2,3]])"
   ]
  },
  {
   "cell_type": "code",
   "execution_count": 5,
   "id": "1bd99947",
   "metadata": {},
   "outputs": [],
   "source": [
    "u=u.T"
   ]
  },
  {
   "cell_type": "code",
   "execution_count": 6,
   "id": "83283f0e",
   "metadata": {},
   "outputs": [
    {
     "data": {
      "text/plain": [
       "array([[1, 0, 1],\n",
       "       [1, 1, 2],\n",
       "       [0, 1, 3]])"
      ]
     },
     "execution_count": 6,
     "metadata": {},
     "output_type": "execute_result"
    }
   ],
   "source": [
    "u"
   ]
  },
  {
   "cell_type": "code",
   "execution_count": 7,
   "id": "a58964a6",
   "metadata": {},
   "outputs": [],
   "source": [
    "u_1=np.linalg.inv(u)"
   ]
  },
  {
   "cell_type": "code",
   "execution_count": 8,
   "id": "952273c3",
   "metadata": {},
   "outputs": [
    {
     "data": {
      "text/plain": [
       "array([[ 0.5,  0.5, -0.5],\n",
       "       [-1.5,  1.5, -0.5],\n",
       "       [ 0.5, -0.5,  0.5]])"
      ]
     },
     "execution_count": 8,
     "metadata": {},
     "output_type": "execute_result"
    }
   ],
   "source": [
    "u_1"
   ]
  },
  {
   "cell_type": "code",
   "execution_count": 9,
   "id": "373d9b59",
   "metadata": {},
   "outputs": [
    {
     "data": {
      "text/plain": [
       "3"
      ]
     },
     "execution_count": 9,
     "metadata": {},
     "output_type": "execute_result"
    }
   ],
   "source": [
    "len(u)"
   ]
  },
  {
   "cell_type": "code",
   "execution_count": 37,
   "id": "6ad33815",
   "metadata": {},
   "outputs": [],
   "source": [
    "a=np.random.rand(3,3)"
   ]
  },
  {
   "cell_type": "code",
   "execution_count": 31,
   "id": "774f1ecf",
   "metadata": {},
   "outputs": [],
   "source": [
    "d=np.array([[-1,0,0],[0,2,0],[0,0,2]])"
   ]
  },
  {
   "cell_type": "code",
   "execution_count": 38,
   "id": "1a67fa25",
   "metadata": {},
   "outputs": [
    {
     "data": {
      "text/plain": [
       "array([[0.06968088, 0.22979623, 0.8880808 ],\n",
       "       [0.38149147, 0.63568562, 0.16329725],\n",
       "       [0.85909583, 0.11908871, 0.07512225]])"
      ]
     },
     "execution_count": 38,
     "metadata": {},
     "output_type": "execute_result"
    }
   ],
   "source": [
    "a"
   ]
  },
  {
   "cell_type": "code",
   "execution_count": 50,
   "id": "a9519f97",
   "metadata": {},
   "outputs": [
    {
     "name": "stdout",
     "output_type": "stream",
     "text": [
      "[[-1  0  0]\n",
      " [-1 -1 -1]\n",
      " [-1  0  0]]\n"
     ]
    }
   ],
   "source": [
    "while True:\n",
    "    a=np.random.randint(-1,1,size=(3,3))\n",
    "    right=np.dot(np.dot(u,d),u_1)\n",
    "    if a.all()==right.all():\n",
    "        print(a)\n",
    "        break"
   ]
  },
  {
   "cell_type": "code",
   "execution_count": 57,
   "id": "953241e0",
   "metadata": {},
   "outputs": [
    {
     "data": {
      "text/plain": [
       "(array([ 2., -1.,  2.]),\n",
       " array([[ 0.70710678,  0.70710678,  0.64522571],\n",
       "        [-0.70710678,  0.70710678,  0.11070323],\n",
       "        [ 0.        ,  0.        ,  0.75592895]]))"
      ]
     },
     "execution_count": 57,
     "metadata": {},
     "output_type": "execute_result"
    }
   ],
   "source": [
    "np.linalg.eig(ddd)"
   ]
  },
  {
   "cell_type": "code",
   "execution_count": 55,
   "id": "9670ab8e",
   "metadata": {},
   "outputs": [],
   "source": [
    "ddd=np.dot(np.dot(u,d),u_1)"
   ]
  },
  {
   "cell_type": "code",
   "execution_count": null,
   "id": "2733f6c5",
   "metadata": {},
   "outputs": [],
   "source": []
  }
 ],
 "metadata": {
  "kernelspec": {
   "display_name": "Python 3",
   "language": "python",
   "name": "python3"
  },
  "language_info": {
   "codemirror_mode": {
    "name": "ipython",
    "version": 3
   },
   "file_extension": ".py",
   "mimetype": "text/x-python",
   "name": "python",
   "nbconvert_exporter": "python",
   "pygments_lexer": "ipython3",
   "version": "3.8.8"
  }
 },
 "nbformat": 4,
 "nbformat_minor": 5
}
