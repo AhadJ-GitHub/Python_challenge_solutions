{
 "cells": [
  {
   "cell_type": "markdown",
   "id": "0a747fc9",
   "metadata": {},
   "source": [
    "## Çalışma 1\n",
    "\n",
    "#### Verilən listlərdə bütün ədədlərin hasilini tapan proqram yazın."
   ]
  },
  {
   "cell_type": "code",
   "execution_count": 3,
   "id": "e2321677",
   "metadata": {
    "scrolled": true
   },
   "outputs": [
    {
     "name": "stdout",
     "output_type": "stream",
     "text": [
      "120\n"
     ]
    }
   ],
   "source": [
    "nums = [4, 5, 6]\n",
    "\n",
    "# kodunuz\n",
    "hasil=1\n",
    "for x in nums:\n",
    "    hasil*=x\n",
    "print(f'{hasil}')"
   ]
  },
  {
   "cell_type": "markdown",
   "id": "142b5265",
   "metadata": {},
   "source": [
    "## Çalışma 2\n",
    "\n",
    "#### Verilən listdə ən böyük üçüncü ədədi tapan proqram yazın."
   ]
  },
  {
   "cell_type": "code",
   "execution_count": 17,
   "id": "7aa7fb4d",
   "metadata": {},
   "outputs": [
    {
     "data": {
      "text/plain": [
       "40"
      ]
     },
     "execution_count": 17,
     "metadata": {},
     "output_type": "execute_result"
    }
   ],
   "source": [
    "list1 = [2, 40, 67, 13, 8, 100]\n",
    "\n",
    "# kodunuz\n",
    "list1.remove(max(list1))\n",
    "list1.remove(max(list1))\n",
    "max(list1)"
   ]
  },
  {
   "cell_type": "markdown",
   "id": "6610bad5",
   "metadata": {},
   "source": [
    "## Çalışma 3\n",
    "\n",
    "#### Verilən listdə tək və cüt ədədləri ayrı listlərə əlavə edən proqram yazın."
   ]
  },
  {
   "cell_type": "code",
   "execution_count": 2,
   "id": "7cbb1e06",
   "metadata": {},
   "outputs": [
    {
     "name": "stdout",
     "output_type": "stream",
     "text": [
      "[1, 3, 5, 7] [2, 4, 8, 10]\n"
     ]
    }
   ],
   "source": [
    "my_list = [1, 2, 3, 4, 5, 7, 8, 10]\n",
    "odd, even = [], []\n",
    "# kodunuz\n",
    "for x in my_list:\n",
    "    if x%2==0:\n",
    "        even.append(x)\n",
    "    else:\n",
    "        odd.append(x)\n",
    "print(odd,even)"
   ]
  },
  {
   "cell_type": "markdown",
   "id": "3975b44e",
   "metadata": {},
   "source": [
    "## Çalışma 4\n",
    "\n",
    "#### Verilən listdəki bütün stringlərin bütün hərflərini böyük hərflə əvəz edən proqram yazın."
   ]
  },
  {
   "cell_type": "code",
   "execution_count": 12,
   "id": "c17c0615",
   "metadata": {},
   "outputs": [
    {
     "name": "stdout",
     "output_type": "stream",
     "text": [
      "[1, 2, 'BANANA', 3, 'PINEAPPLE', 4, 5, 6, 'ABCD', 'GUITAR']\n"
     ]
    }
   ],
   "source": [
    "my_list = [1, 2, 'baNAna', 3, 'pineappLe', 4, 5, 6, 'aBcD', 'Guitar']\n",
    "\n",
    "# kodunuz\n",
    "for x in my_list:\n",
    "    if str(x).isalpha():\n",
    "        my_list[my_list.index(x)]=x.upper()\n",
    "    else:\n",
    "        continue\n",
    "print(my_list)"
   ]
  },
  {
   "cell_type": "markdown",
   "id": "93339f92",
   "metadata": {},
   "source": [
    "## Çalışma 5\n",
    "\n",
    "#### Verilən listin içindəki hər listin ədədlərinin cəmini tapın və yeni listdə müvafiq pozisiyaya əlavə edin."
   ]
  },
  {
   "cell_type": "code",
   "execution_count": 2,
   "id": "6738d2ff",
   "metadata": {},
   "outputs": [
    {
     "name": "stdout",
     "output_type": "stream",
     "text": [
      "[6, 15, 24]\n"
     ]
    }
   ],
   "source": [
    "nums = [[1, 2, 3], [4, 5, 6], [7, 8, 9]]\n",
    "# yeni listdə [6, 15, 24] --> 6=1+2+3+4; 15=4+5+6; 24=7+8+9\n",
    "result = []\n",
    "\n",
    "# kodunuz\n",
    "for x in nums:\n",
    "    result.append(sum(x))\n",
    "print(result)"
   ]
  },
  {
   "cell_type": "markdown",
   "id": "233b844a",
   "metadata": {},
   "source": [
    "## Çalışma 6\n",
    "\n",
    "#### Verilən setdə ədədlərin rəqəmlərinin kvadratı cəmini tapın."
   ]
  },
  {
   "cell_type": "code",
   "execution_count": 20,
   "id": "e594e0f5",
   "metadata": {},
   "outputs": [
    {
     "data": {
      "text/plain": [
       "55"
      ]
     },
     "execution_count": 20,
     "metadata": {},
     "output_type": "execute_result"
    }
   ],
   "source": [
    "my_set = {1, 2, 3, 4, 5}\n",
    "\n",
    "# kodunuz\n",
    "sqsum=0\n",
    "for x in my_set:\n",
    "    sqsum+=x**2\n",
    "sqsum"
   ]
  },
  {
   "cell_type": "markdown",
   "id": "766fb4d7",
   "metadata": {},
   "source": [
    "## Çalışma 7\n",
    "\n",
    "#### Verilən listdən boş tupleları çıxaran proqram yazın."
   ]
  },
  {
   "cell_type": "code",
   "execution_count": 24,
   "id": "818c844f",
   "metadata": {},
   "outputs": [
    {
     "name": "stdout",
     "output_type": "stream",
     "text": [
      "[('',), (1, 2, 3), 'abc']\n"
     ]
    }
   ],
   "source": [
    "my_list = [(), ('',), (1, 2, 3), (), ('abc')]\n",
    "\n",
    "# kodunuz\n",
    "for x in my_list:\n",
    "    if x==():\n",
    "        my_list.remove(x)\n",
    "print(my_list)"
   ]
  },
  {
   "cell_type": "markdown",
   "id": "3564984f",
   "metadata": {},
   "source": [
    "## Çalışma 8\n",
    "\n",
    "#### Verilən tuplelarda olan floatların cəmini göstərən proqram yazın."
   ]
  },
  {
   "cell_type": "code",
   "execution_count": 34,
   "id": "54fa5dc7",
   "metadata": {},
   "outputs": [
    {
     "name": "stdout",
     "output_type": "stream",
     "text": [
      "38.75\n"
     ]
    }
   ],
   "source": [
    "t1 = ('apple', 12, [3, 4], 5.6, '7', 8.9)\n",
    "t2 = (10, 11.12, 'pineapple', [' '], 13.13)\n",
    "\n",
    "# kodunuz\n",
    "t3=t1+t2\n",
    "sum=0\n",
    "for x in t3:\n",
    "    if type(x)==float:\n",
    "        sum+=x\n",
    "    else: \n",
    "        continue\n",
    "print(sum)"
   ]
  },
  {
   "cell_type": "markdown",
   "id": "0855dc1f",
   "metadata": {},
   "source": [
    "## Çalışma 9\n",
    "\n",
    "#### Verilən setdə neçə sözdə \"ab\" olduğunu göstərən proqram yazın."
   ]
  },
  {
   "cell_type": "code",
   "execution_count": 63,
   "id": "e912c0b7",
   "metadata": {},
   "outputs": [
    {
     "name": "stdout",
     "output_type": "stream",
     "text": [
      "2\n"
     ]
    }
   ],
   "source": [
    "s = {'baba', 'baa', 'acb', 'bab'}\n",
    "\n",
    "# kodunuz\n",
    "s1=list(s)\n",
    "count=0\n",
    "for x in s1:\n",
    "        if 'ab' in x:\n",
    "            count+=1\n",
    "        else:\n",
    "            continue\n",
    "print(count)"
   ]
  }
 ],
 "metadata": {
  "kernelspec": {
   "display_name": "Python 3",
   "language": "python",
   "name": "python3"
  },
  "language_info": {
   "codemirror_mode": {
    "name": "ipython",
    "version": 3
   },
   "file_extension": ".py",
   "mimetype": "text/x-python",
   "name": "python",
   "nbconvert_exporter": "python",
   "pygments_lexer": "ipython3",
   "version": "3.8.8"
  }
 },
 "nbformat": 4,
 "nbformat_minor": 5
}
