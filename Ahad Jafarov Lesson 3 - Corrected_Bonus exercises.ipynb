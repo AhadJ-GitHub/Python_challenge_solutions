{
 "cells": [
  {
   "cell_type": "markdown",
   "id": "e0c0b81c",
   "metadata": {},
   "source": [
    "### Exercise 1"
   ]
  },
  {
   "cell_type": "markdown",
   "id": "0f2e4bfc",
   "metadata": {},
   "source": [
    "istifadəçi boş sətir daxil edənə qədər ondan müxtəlif sözlər daxil etməyini istəyin. İstifadəçi boş sətir daxil etdikdən sonra proqramınız istifadəçinin daxil etdiyi hər sözü tam olaraq bir dəfə göstərməlidir. Sözlər ilk daxil edildiyi ardıcıllıqla göstərilməlidir.\n",
    "\n",
    "Məsələn:\n",
    "\n",
    "İstifadəçi bu sözləri daxil edib:\n",
    "\n",
    "`birinci`\n",
    "\n",
    "`ikinci`\n",
    "\n",
    "`birinci`\n",
    "\n",
    "`üçüncü`\n",
    "\n",
    "`ikinci`\n",
    "\n",
    "\n",
    "Proqramınız göstərməlidir:\n",
    "\n",
    "`birinci`\n",
    "\n",
    "`ikinci`\n",
    "\n",
    "`üçüncü`"
   ]
  },
  {
   "cell_type": "code",
   "execution_count": 1,
   "id": "65332cf7",
   "metadata": {},
   "outputs": [
    {
     "name": "stdout",
     "output_type": "stream",
     "text": [
      "soz daxil edin: birinci\n",
      "soz daxil edin: ikinci\n",
      "soz daxil edin: birinci\n",
      "soz daxil edin: ucuncu\n",
      "soz daxil edin: ikinci\n",
      "soz daxil edin: \n",
      "birinci\n",
      "ikinci\n",
      "ucuncu\n"
     ]
    }
   ],
   "source": [
    "# your code\n",
    "list1=[]\n",
    "while True:\n",
    "    soz=input('soz daxil edin: ')\n",
    "    if soz!='':\n",
    "        list1.append(soz)\n",
    "    else:\n",
    "        break\n",
    "list2=[]\n",
    "for x in list1:\n",
    "    if x not in list2:\n",
    "        list2.append(x)\n",
    "    else:\n",
    "        continue\n",
    "n=0\n",
    "for i in list2:\n",
    "    print(f'{list2[n]}')\n",
    "    n+=1\n"
   ]
  },
  {
   "cell_type": "markdown",
   "id": "6b464d78",
   "metadata": {},
   "source": [
    "### Exercise 2"
   ]
  },
  {
   "cell_type": "markdown",
   "id": "549d0997",
   "metadata": {},
   "source": [
    "İstifadəçidən cümlə daxil etməsini istəyin. Cümlədəki hər bir sözü aşağıdakə formatda ekrana çap edin.\n",
    "\n",
    "Məsələn:\n",
    "\n",
    "İstifadəçi **bir** sözdən ibarət cümlə daxil edibsə\n",
    "\n",
    "`apples`\n",
    "\n",
    "İstifadəçi **2** sözdən ibarət cümlə daxil edibsə\n",
    "\n",
    "`apples və oranges`\n",
    "\n",
    "İstifadəçi **3 və daha çox** sözdən ibarət cümlə daxil edibsə\n",
    "\n",
    "`apples, oranges and bananas`\n",
    "\n",
    "`apples, oranges, bananas and lemons`\n",
    "\n",
    "`apples, oranges, bananas, lemons, grape and strawberries`\n",
    "\n"
   ]
  },
  {
   "cell_type": "code",
   "execution_count": 22,
   "id": "c5630632",
   "metadata": {},
   "outputs": [
    {
     "name": "stdout",
     "output_type": "stream",
     "text": [
      "Bir cumle daxil edin: salam hello\n",
      "salam ve hello\n"
     ]
    }
   ],
   "source": [
    "# your code\n",
    "cumle=input('Bir cumle daxil edin: ')\n",
    "l1=cumle.split()\n",
    "if len(l1)==1:\n",
    "    print(str(l1[0]))\n",
    "elif len(l1)==2:\n",
    "    print(f'{str(l1[0])} ve {str(l1[1])}')\n",
    "else:\n",
    "        a=', '.join(str(l1[i]) for i in range(0,len(l1)-1))\n",
    "        print(f'{a} and {str(l1[-1])}')"
   ]
  },
  {
   "cell_type": "markdown",
   "id": "d81ba5a0",
   "metadata": {},
   "source": [
    "### Exercise 3"
   ]
  },
  {
   "cell_type": "markdown",
   "id": "7c1c7920",
   "metadata": {},
   "source": [
    "İstifadəcidən bir cümlə daxil etməsini istəyin. Daxil edilən cümlədə ən çox təkrarlanan hərfi olan sözü çap edin.\n",
    "\n",
    "**Məsələn :** İndiki halda istidir sözünü qaytarmalıdır.\n",
    "\n",
    "`Günəş çox istidir amma ona ehtiyacımız var`\n",
    "    \n",
    "Çünki, \n",
    "\n",
    "`günəş` sözündə təkrarlanan hərf yoxdur.\n",
    "\n",
    "`çox` sözündə təkrarlanan hərf yoxdur.\n",
    "\n",
    "`amma` sözündə iki ədəd iki dəfə təkrarlanan hərf var (iki m, iki a).\n",
    "\n",
    "`ona` sözündə təkrarlanan hərf yoxdur.\n",
    "\n",
    "`ehtiyacımız` sözündə 2 ədəd təkrarlanan hərf var (iki ı).\n",
    "\n",
    "`var` sözündə təkrarlanan hərf yoxdur."
   ]
  },
  {
   "cell_type": "code",
   "execution_count": 2,
   "id": "ecb8c25d",
   "metadata": {},
   "outputs": [
    {
     "name": "stdout",
     "output_type": "stream",
     "text": [
      "Bir cumle daxil edin: Gunes istiliyin menbeyidir\n",
      "istiliyin\n"
     ]
    }
   ],
   "source": [
    "# your code\n",
    "strg=input('Bir cumle daxil edin: ')\n",
    "words =strg.split()\n",
    "max_repeat_count = 0\n",
    "for words1 in words:\n",
    "    dict1 = {}\n",
    "    for letter in words1:\n",
    "        if letter not in dict1:\n",
    "            dict1[letter] = 1\n",
    "        else:\n",
    "            dict1[letter] += 1\n",
    "        if dict1[letter]> max_repeat_count:\n",
    "            max_repeat_count = dict1[letter]\n",
    "            #most_repeated_char = letter  # bu setir elavedi\n",
    "            result=words1\n",
    "print(result)"
   ]
  },
  {
   "cell_type": "markdown",
   "id": "38e678e9",
   "metadata": {},
   "source": [
    "### Exercise 4"
   ]
  },
  {
   "cell_type": "markdown",
   "id": "1e2acf44",
   "metadata": {},
   "source": [
    "Fərz edin ki, aşağıdakı speakerlər tədbirdə çıxış etməlidir. Hər bir tuple-da ardıcıllıqla spaeakerin adı, speakerin soyadı və neçə saat çıxış edəcəyi verilmişdir. Ən çox çıxış edəcək speakerin ad və soyadını birlikdə çap edin."
   ]
  },
  {
   "cell_type": "code",
   "execution_count": 10,
   "id": "640c851e",
   "metadata": {},
   "outputs": [
    {
     "name": "stdout",
     "output_type": "stream",
     "text": [
      "Jeremy Huston 12\n"
     ]
    }
   ],
   "source": [
    "speakers = [('James', 'Affleck', 8),\n",
    "('Jeremy', 'Huston', 12),\n",
    "('Abby', 'Adams', 11)]\n",
    "\n",
    "# output:  Jeremy Huston 12\n",
    "\n",
    "# your code\n",
    "# print(f'{max(speakers)[0]} {max(speakers)[1]} {max(speakers)[2]}')\n",
    "\n",
    "list0=[]\n",
    "for x in speakers:\n",
    "    list0.append(x[2])\n",
    "    for i in list0:\n",
    "        if i==max(list0):\n",
    "            i_max=i\n",
    "        else:\n",
    "            continue\n",
    "for k in speakers:\n",
    "    if k[2]==i_max:\n",
    "        print(f'{k[0]} {k[1]} {k[2]}')"
   ]
  },
  {
   "cell_type": "code",
   "execution_count": null,
   "id": "4df4b045",
   "metadata": {},
   "outputs": [],
   "source": []
  }
 ],
 "metadata": {
  "kernelspec": {
   "display_name": "Python 3",
   "language": "python",
   "name": "python3"
  },
  "language_info": {
   "codemirror_mode": {
    "name": "ipython",
    "version": 3
   },
   "file_extension": ".py",
   "mimetype": "text/x-python",
   "name": "python",
   "nbconvert_exporter": "python",
   "pygments_lexer": "ipython3",
   "version": "3.8.8"
  }
 },
 "nbformat": 4,
 "nbformat_minor": 5
}
