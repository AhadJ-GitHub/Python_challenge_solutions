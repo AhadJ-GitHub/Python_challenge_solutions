{
 "cells": [
  {
   "cell_type": "code",
   "execution_count": 21,
   "id": "fc142cc1",
   "metadata": {},
   "outputs": [],
   "source": [
    "def city_country(city, country, population=None):\n",
    "    if population:\n",
    "        location = f'{city.title()}, {country.title()} - population {population}'\n",
    "    else:\n",
    "        location=f'{city.title()}, {country.title()}'\n",
    "    return location"
   ]
  },
  {
   "cell_type": "code",
   "execution_count": 18,
   "id": "f938895f",
   "metadata": {},
   "outputs": [
    {
     "name": "stdout",
     "output_type": "stream",
     "text": [
      "Press q to exit.\n",
      "\n",
      "Please, input a city: san diego\n",
      "Please, input a country: united kingdom\n",
      "Please the the population: 451789\n",
      "\n",
      "Your location is San Diego, United Kingdom - population 451789\n",
      "Please, input a city: q\n"
     ]
    }
   ],
   "source": [
    "print('Press q to exit.\\n')\n",
    "while True:\n",
    "    city=input('Please, input a city: ')\n",
    "    if city == 'q':\n",
    "        break\n",
    "    country=input('Please, input a country: ')\n",
    "    if country == 'q':\n",
    "        break\n",
    "    population=input('Please the the population: ')\n",
    "    place=city_country(city,country, population)\n",
    "    print(f'\\nYour location is {place}')"
   ]
  },
  {
   "cell_type": "code",
   "execution_count": 19,
   "id": "0bff8a7d",
   "metadata": {},
   "outputs": [],
   "source": [
    "import unittest"
   ]
  },
  {
   "cell_type": "code",
   "execution_count": 23,
   "id": "9ab215a7",
   "metadata": {},
   "outputs": [
    {
     "name": "stderr",
     "output_type": "stream",
     "text": [
      "..\n",
      "----------------------------------------------------------------------\n",
      "Ran 2 tests in 0.001s\n",
      "\n",
      "OK\n"
     ]
    },
    {
     "data": {
      "text/plain": [
       "<unittest.main.TestProgram at 0x1db5a09ac70>"
      ]
     },
     "execution_count": 23,
     "metadata": {},
     "output_type": "execute_result"
    }
   ],
   "source": [
    "class LocationTest(unittest.TestCase):\n",
    "    \"\"\"Formats the location.\"\"\"\n",
    "    \n",
    "    def test_city_country(self):\n",
    "        \"\"\"Test usual names\"\"\"\n",
    "        good_location=city_country('santiago', 'chile')\n",
    "        self.assertEqual(good_location, 'Santiago, Chile')\n",
    "    \n",
    "    def test_city_country_pop(self):\n",
    "        \"\"\"Test names and population\"\"\"\n",
    "        location4=city_country('san diego', 'united states', 522487)\n",
    "        self.assertEqual(location4, 'San Diego, United States - population 522487')\n",
    "\n",
    "# if __name__ == '__main__':\n",
    "unittest.main(argv=[''], exit=False)"
   ]
  },
  {
   "cell_type": "code",
   "execution_count": null,
   "id": "185f2964",
   "metadata": {},
   "outputs": [],
   "source": []
  }
 ],
 "metadata": {
  "kernelspec": {
   "display_name": "Python 3",
   "language": "python",
   "name": "python3"
  },
  "language_info": {
   "codemirror_mode": {
    "name": "ipython",
    "version": 3
   },
   "file_extension": ".py",
   "mimetype": "text/x-python",
   "name": "python",
   "nbconvert_exporter": "python",
   "pygments_lexer": "ipython3",
   "version": "3.8.8"
  }
 },
 "nbformat": 4,
 "nbformat_minor": 5
}
