{
 "cells": [
  {
   "cell_type": "markdown",
   "metadata": {},
   "source": [
    "## Exercise 1\n"
   ]
  },
  {
   "cell_type": "markdown",
   "metadata": {},
   "source": [
    "Write a function called word frequencies(mylist) that accepts a list of strings called mylist and returns a dictionary where the keys are the words from mylist and the values are the number of times that word appears in mylist:\n",
    "\n",
    "Expected output: { ’a’ : 5, ’b’ : 4, ’c’ : 3, ’d’ : 2, ’e’ : 1 }\n"
   ]
  },
  {
   "cell_type": "code",
   "execution_count": 8,
   "metadata": {},
   "outputs": [],
   "source": [
    "word_list = list(\"aaaaabbbbcccdde\")"
   ]
  },
  {
   "cell_type": "code",
   "execution_count": 19,
   "metadata": {},
   "outputs": [],
   "source": [
    "# your code\n",
    "def w_freq(b):\n",
    "    dict1={}\n",
    "    for x in b:\n",
    "        if x not in dict1:\n",
    "            dict1[x]=1\n",
    "        else:\n",
    "            dict1[x]+=1\n",
    "    return dict1\n",
    "    \n",
    "   "
   ]
  },
  {
   "cell_type": "code",
   "execution_count": 20,
   "metadata": {},
   "outputs": [
    {
     "data": {
      "text/plain": [
       "{'a': 5, 'b': 4, 'c': 3, 'd': 2, 'e': 1}"
      ]
     },
     "execution_count": 20,
     "metadata": {},
     "output_type": "execute_result"
    }
   ],
   "source": [
    "w_freq(word_list)"
   ]
  },
  {
   "cell_type": "markdown",
   "metadata": {},
   "source": [
    "## Exercise 2\n",
    "\n",
    "Write a function that takes a sentence (at least 2 words in it). Then, print the hard and hoft vowels in the given text. \n",
    "\n",
    "Example:\n",
    "\n",
    "ittiham etmək yaxşı deyil\n",
    "\n",
    "Expected output:\n",
    "\n",
    "Hard vowels in this text: ['a', 'ı']\n",
    "\n",
    "Soft vowels in this text: ['i', 'e', 'ə']"
   ]
  },
  {
   "cell_type": "code",
   "execution_count": null,
   "metadata": {},
   "outputs": [],
   "source": [
    "qalin = ['a', 'u', 'o', 'ı']\n",
    "ince = ['ə', 'e', 'ö', 'ü', 'i']"
   ]
  },
  {
   "cell_type": "code",
   "execution_count": 33,
   "metadata": {},
   "outputs": [],
   "source": [
    "# your code\n",
    "def t_sent():\n",
    "    a=input('Ən az 2 sözdən ibarət cümlə daxil edin: ')\n",
    "    qalin = ['a', 'u', 'o', 'ı']\n",
    "    ince = ['ə', 'e', 'ö', 'ü', 'i']\n",
    "    hrd=[]\n",
    "    sft=[]\n",
    "    for x in a.split():\n",
    "        for l in x:\n",
    "            if l in qalin:\n",
    "                hrd.append(l)\n",
    "            if l in ince:\n",
    "                sft.append(l)\n",
    "    # If the order of appearance of vowels in the text does not matter, the better solution is:\n",
    "    #print(f'Hard vowels in this text: {[*set(hrd)]}')\n",
    "    #print(f'Soft vowels in this text: {[*set(sft)]}') \n",
    "    hrd2=[]\n",
    "    sft2=[]\n",
    "    for x in hrd:\n",
    "        if x not in hrd2:\n",
    "            hrd2.append(x)\n",
    "    for y in sft:\n",
    "        if y not in sft2:\n",
    "            sft2.append(y)\n",
    "    print(f'Hard vowels in this text: {hrd2}')\n",
    "    print(f'Soft vowels in this text: {sft2}')"
   ]
  },
  {
   "cell_type": "code",
   "execution_count": 34,
   "metadata": {},
   "outputs": [
    {
     "name": "stdout",
     "output_type": "stream",
     "text": [
      "Ən az 2 sözdən ibarət cümlə daxil edin: Qalın saitlər\n",
      "Hard vowels in this text: ['ı', 'a']\n",
      "Soft vowels in this text: ['ə', 'i']\n"
     ]
    }
   ],
   "source": [
    "t_sent()"
   ]
  },
  {
   "cell_type": "markdown",
   "metadata": {},
   "source": [
    "## Exercise 3\n",
    "\n",
    "Write a program to get the top three items in a shop. \n",
    "\n",
    "Expected Output:\n",
    "\n",
    "item4 55\n",
    "\n",
    "item1 45.5\n",
    "\n",
    "item3 41.3"
   ]
  },
  {
   "cell_type": "code",
   "execution_count": 50,
   "metadata": {},
   "outputs": [],
   "source": [
    "shop = {'item1': 45.50, 'item2':35, 'item3': 41.30, 'item4':55, 'item5': 24}"
   ]
  },
  {
   "cell_type": "code",
   "execution_count": 23,
   "metadata": {},
   "outputs": [
    {
     "name": "stdout",
     "output_type": "stream",
     "text": [
      "item4 55\n",
      "item1 45.5\n",
      "item3 41.3\n"
     ]
    }
   ],
   "source": [
    "# your code \n",
    "# shop = {'item1': 45.50, 'item2':35, 'item3': 41.30, 'item4':55, 'item5': 24}\n",
    "# dict1={}\n",
    "# for k,v in shop.items():\n",
    "#     if v==max(shop.values()):\n",
    "#         k_max1=k\n",
    "#         dict1[k_max1]=v\n",
    "# shop2=shop\n",
    "# shop2.pop(k_max1)\n",
    "# for x,y in shop2.items():\n",
    "#     if y==max(shop2.values()):\n",
    "#         k_max2=x\n",
    "#         dict1[k_max2]=y\n",
    "# shop3=shop\n",
    "# shop3.pop(k_max2)\n",
    "# for d,e in shop3.items():\n",
    "#     if e==max(shop3.values()):\n",
    "#         k_max3=d\n",
    "#         dict1[k_max3]=e\n",
    "# for a,b in dict1.items():\n",
    "#     print(f'{a} {b}')\n",
    "\n",
    "shop = {'item1': 45.50, 'item2':35, 'item3': 41.30, 'item4':55, 'item5': 24}\n",
    "shopc=shop.copy()\n",
    "dict1={}\n",
    "count=0\n",
    "while True:\n",
    "    for k,v in shopc.items():\n",
    "        if v==max(shopc.values()):\n",
    "            k_max1=k\n",
    "            dict1[k_max1]=v\n",
    "    shopc.pop(k_max1)\n",
    "    shopc=shopc.copy()\n",
    "    count+=1\n",
    "    if count==3:\n",
    "        break\n",
    "for a,b in dict1.items():\n",
    "    print(f'{a} {b}')\n",
    "\n",
    "# Found maybe even a better alternative:\n",
    "\n",
    "# shop = {'item1': 45.50, 'item2':35, 'item3': 41.30, 'item4':55, 'item5': 24}\n",
    "# shop_s=sorted(shop.values(),reverse=True)\n",
    "# for k,v in shop.items():\n",
    "#     if v==shop_s[0]:\n",
    "#         k_max=k\n",
    "#     elif v==shop_s[1]:\n",
    "#         k_max2=k\n",
    "#     elif v==shop_s[2]:\n",
    "#         k_max3=k\n",
    "# print(f'{k_max} {shop_s[0]}\\n{k_max2} {shop_s[1]}\\n{k_max3} {shop_s[2]}')"
   ]
  },
  {
   "cell_type": "markdown",
   "metadata": {},
   "source": [
    "## Exercise 4\n",
    "\n",
    "\n",
    "Write a function which accepts subject name and extract a list of values of corresponding subject from given list of dictionaries. \n",
    "\n",
    "Example:\n",
    "\n",
    "subject = Science\n",
    "\n",
    "Expected output: [92, 94, 88]\n",
    "\n",
    "subject = Math\n",
    "\n",
    "Expected output: [90, 89, 92]"
   ]
  },
  {
   "cell_type": "code",
   "execution_count": null,
   "metadata": {},
   "outputs": [],
   "source": [
    "subjects = [{'Math': 90, 'Science': 92}, {'Math': 89, 'Science': 94}, {'Math': 92, 'Science': 88}]"
   ]
  },
  {
   "cell_type": "code",
   "execution_count": 78,
   "metadata": {},
   "outputs": [],
   "source": [
    "# your code\n",
    "def sbj_vl():\n",
    "    sbj=input('subject= ')\n",
    "    subjects = [{'Math': 90, 'Science': 92}, {'Math': 89, 'Science': 94}, {'Math': 92, 'Science': 88}]\n",
    "    list00=[]\n",
    "    for i in subjects:\n",
    "        for x,y in i.items():\n",
    "            if x==sbj:\n",
    "                list00.append(y)\n",
    "    return list00"
   ]
  },
  {
   "cell_type": "code",
   "execution_count": 81,
   "metadata": {},
   "outputs": [
    {
     "name": "stdout",
     "output_type": "stream",
     "text": [
      "subject= Science\n"
     ]
    },
    {
     "data": {
      "text/plain": [
       "[92, 94, 88]"
      ]
     },
     "execution_count": 81,
     "metadata": {},
     "output_type": "execute_result"
    }
   ],
   "source": [
    "sbj_vl()"
   ]
  },
  {
   "cell_type": "markdown",
   "metadata": {},
   "source": [
    "## Exercise 5\n",
    "\n",
    "Write a function named number_of_item_types that takes in the dictionary as input and returns the number of unique item types in the this dictionary. \n",
    "\n",
    "Expected output:\n",
    "\n",
    "{str: 3, int: 2, float: 1, bool: 1, list: 1, tuple: 1, range: 1}"
   ]
  },
  {
   "cell_type": "code",
   "execution_count": 99,
   "metadata": {},
   "outputs": [],
   "source": [
    "my_dict = {2:'hello', 3.5:'hi', True: 2, (2, 3): 'Test1', range(5): [3, 6]}"
   ]
  },
  {
   "cell_type": "code",
   "execution_count": 114,
   "metadata": {},
   "outputs": [
    {
     "data": {
      "text/plain": [
       "{str: 3, int: 2, float: 1, bool: 1, tuple: 1, range: 1, list: 1}"
      ]
     },
     "execution_count": 114,
     "metadata": {},
     "output_type": "execute_result"
    }
   ],
   "source": [
    "# your code\n",
    "def number_of_item_types(a):\n",
    "    list007=[]\n",
    "    dict00={}\n",
    "    for x,y in a.items():\n",
    "        e=type(x)\n",
    "        g=type(y)\n",
    "        if e not in dict00.keys():\n",
    "            dict00[e]=1\n",
    "        else:\n",
    "            dict00[e]+=1    \n",
    "        if g not in dict00.keys():    \n",
    "            dict00[g]=1\n",
    "        else:\n",
    "            dict00[g]+=1     \n",
    "    return dict(sorted(dict00.items(), key=lambda i: i[1],reverse=True))\n",
    "\n",
    "number_of_item_types(my_dict)"
   ]
  },
  {
   "cell_type": "markdown",
   "metadata": {},
   "source": [
    "## Exercise 6\n",
    "\n",
    "Write a funtion that will accept any number of values and will return greatest 3rd value from this list of values.\n",
    "\n",
    "Example:\n",
    "\n",
    "1, 10, 7, 90, 16\n",
    "\n",
    "Expected Output: 10\n",
    "\n",
    "1, 5, 7, 10, 23, 89, 101, 67\n",
    "\n",
    "Expected Output: 67"
   ]
  },
  {
   "cell_type": "code",
   "execution_count": 43,
   "metadata": {},
   "outputs": [],
   "source": [
    "# your code\n",
    "# def thrd_vl(*args):\n",
    "#     args1=list(args)\n",
    "#     for x in args1:\n",
    "#         if x==max(args1):\n",
    "#             i_max=x\n",
    "#         else:\n",
    "#             continue\n",
    "#     list1=args1\n",
    "#     del list1[list1.index(i_max)]\n",
    "#     for i in list1:\n",
    "#         if i==max(list1):\n",
    "#             i_max2=i\n",
    "#         else:\n",
    "#             continue\n",
    "#     del list1[list1.index(i_max2)]\n",
    "#     for b in list1:\n",
    "#         if b==max(list1):\n",
    "#             i_max3=b\n",
    "#     return i_max3\n",
    "\n",
    "def thrd_vl(*args):\n",
    "    args1=list(args)\n",
    "    count=0\n",
    "    while True:\n",
    "        for x in args1:\n",
    "            if x==max(args1):\n",
    "                i_max=x\n",
    "        count+=1\n",
    "        args1.remove(i_max)\n",
    "        if count==3:\n",
    "            break\n",
    "    print(f'{i_max}')\n",
    "\n",
    "# Found even a better alternative:\n",
    "\n",
    "# def thrd_vl(*args):\n",
    "#     args1=list(args)\n",
    "#     args1s=sorted(args1,reverse=True)\n",
    "#     print(f'{args1s[2]}')"
   ]
  },
  {
   "cell_type": "code",
   "execution_count": 44,
   "metadata": {},
   "outputs": [
    {
     "name": "stdout",
     "output_type": "stream",
     "text": [
      "10\n"
     ]
    }
   ],
   "source": [
    "thrd_vl(1,10,7,90,16)"
   ]
  },
  {
   "cell_type": "code",
   "execution_count": 45,
   "metadata": {},
   "outputs": [
    {
     "name": "stdout",
     "output_type": "stream",
     "text": [
      "67\n"
     ]
    }
   ],
   "source": [
    "thrd_vl(1,5,7,10,23,89,101,67)"
   ]
  },
  {
   "cell_type": "markdown",
   "metadata": {},
   "source": [
    "## Exercise 7\n",
    "\n",
    "\n",
    "Write a function to generate and print a dictionary that contains a number (between 1 and n) in the form (x, x*x).\n",
    "\n",
    "Example:\n",
    "\n",
    "n = 5\n",
    "\n",
    "Expected Output : {1: 1, 2: 4, 3: 9, 4: 16, 5: 25}"
   ]
  },
  {
   "cell_type": "code",
   "execution_count": 128,
   "metadata": {},
   "outputs": [
    {
     "data": {
      "text/plain": [
       "{1: 1, 2: 4, 3: 9, 4: 16, 5: 25}"
      ]
     },
     "execution_count": 128,
     "metadata": {},
     "output_type": "execute_result"
    }
   ],
   "source": [
    "# your code\n",
    "def xdict(nm):\n",
    "    dict1={}\n",
    "    for x in range(1,nm+1):\n",
    "        if x not in dict1.keys():\n",
    "            dict1[x]=x**2\n",
    "    return dict1\n",
    "xdict(5)\n",
    "            "
   ]
  }
 ],
 "metadata": {
  "kernelspec": {
   "display_name": "Python 3",
   "language": "python",
   "name": "python3"
  },
  "language_info": {
   "codemirror_mode": {
    "name": "ipython",
    "version": 3
   },
   "file_extension": ".py",
   "mimetype": "text/x-python",
   "name": "python",
   "nbconvert_exporter": "python",
   "pygments_lexer": "ipython3",
   "version": "3.8.8"
  }
 },
 "nbformat": 4,
 "nbformat_minor": 4
}
