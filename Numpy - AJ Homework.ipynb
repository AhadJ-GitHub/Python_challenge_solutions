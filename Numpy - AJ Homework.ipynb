{
 "cells": [
  {
   "cell_type": "markdown",
   "id": "f02a65da",
   "metadata": {},
   "source": [
    "## Exercise 1. \n",
    "\n",
    "X-də 1 rəqəminin 5-ci təkrarının indeksini tapın"
   ]
  },
  {
   "cell_type": "code",
   "execution_count": 1,
   "id": "b0a33a25",
   "metadata": {},
   "outputs": [
    {
     "data": {
      "text/plain": [
       "8"
      ]
     },
     "execution_count": 1,
     "metadata": {},
     "output_type": "execute_result"
    }
   ],
   "source": [
    "import numpy as np\n",
    "x = np.array([1, 2, 1, 1, 3, 4, 3, 1, 1, 2, 1, 1, 2])\n",
    "b=np.where(x==1)\n",
    "b[0][4]\n",
    "# your code"
   ]
  },
  {
   "cell_type": "markdown",
   "id": "3a8eb0f2",
   "metadata": {},
   "source": [
    "## Exercise 2.\n",
    "\n",
    "Verilmiş array-də elementin ilk qarşılaşmasını True, 2 və daha artıq qarşılaşmasını isə False olaraq qeyd edin. Gözlənilən cavab True və False-lardan ibarət array olmalıdır.\n",
    "\n",
    "Məsələn:\n",
    "\n",
    "[1 2 3 1 2 0 2 4 2 2]\n",
    "\n",
    "Gözlənilən cavab:\n",
    "\n",
    "[True True True False False True False True False False]\n",
    "\n",
    "Qeyd: İstənilən array üzərində tətbiq edə və np.unique() metodundan istifadə edə bilərsiniz."
   ]
  },
  {
   "cell_type": "code",
   "execution_count": 2,
   "id": "6c3e88ad",
   "metadata": {},
   "outputs": [],
   "source": [
    "uniqs = np.array([1,2,3,1,2,0,2,4,2,2])"
   ]
  },
  {
   "cell_type": "code",
   "execution_count": 18,
   "id": "9451b231",
   "metadata": {},
   "outputs": [],
   "source": [
    "unique_vals, first_occ_indices = np.unique(uniqs, return_index=True)"
   ]
  },
  {
   "cell_type": "code",
   "execution_count": 5,
   "id": "f2b8c6d6",
   "metadata": {},
   "outputs": [],
   "source": [
    "first_occ_mask=np.zeros_like(uniqs, dtype=bool)"
   ]
  },
  {
   "cell_type": "code",
   "execution_count": 20,
   "id": "3c542ad6",
   "metadata": {},
   "outputs": [],
   "source": [
    "first_occ_mask[first_occ_indices] = True"
   ]
  },
  {
   "cell_type": "code",
   "execution_count": 21,
   "id": "6a59f3c1",
   "metadata": {},
   "outputs": [
    {
     "data": {
      "text/plain": [
       "array([ True,  True,  True, False, False,  True, False,  True, False,\n",
       "       False])"
      ]
     },
     "execution_count": 21,
     "metadata": {},
     "output_type": "execute_result"
    }
   ],
   "source": [
    "first_occ_mask"
   ]
  },
  {
   "cell_type": "code",
   "execution_count": 22,
   "id": "1c2bdc95",
   "metadata": {},
   "outputs": [
    {
     "data": {
      "text/plain": [
       "array([5, 0, 1, 2, 7], dtype=int64)"
      ]
     },
     "execution_count": 22,
     "metadata": {},
     "output_type": "execute_result"
    }
   ],
   "source": [
    "first_occ_indices"
   ]
  },
  {
   "cell_type": "code",
   "execution_count": null,
   "id": "2f2619e7",
   "metadata": {},
   "outputs": [],
   "source": [
    "uniqs = np.array([1,2,3,1,2,0,2,4,2,2])\n",
    "\n",
    "\n",
    "unique_vals, first_occ_indices = np.unique(uniqs, return_index=True)\n",
    "\n",
    "first_occ_mask = np.zeros_like(uniqs, dtype=bool)\n",
    "first_occ_mask[first_occ_indices] = True\n",
    "\n",
    "print(first_occ_mask)"
   ]
  },
  {
   "cell_type": "code",
   "execution_count": 9,
   "id": "8a7b6179",
   "metadata": {},
   "outputs": [
    {
     "data": {
      "text/plain": [
       "array([ True,  True,  True, False, False,  True, False,  True, False,\n",
       "       False])"
      ]
     },
     "execution_count": 9,
     "metadata": {},
     "output_type": "execute_result"
    }
   ],
   "source": [
    "# your code\n",
    "arr0=np.array([1, 2, 3, 1, 2, 0, 2, 4, 2, 2])\n",
    "list0=[]\n",
    "arr1=np.array([],dtype='int8')\n",
    "for i in arr0:\n",
    "    if i not in list0:\n",
    "        list0.append(i)\n",
    "        arr1=np.append(arr1,True)\n",
    "    else:\n",
    "        arr1=np.append(arr1,False)\n",
    "arr1>0"
   ]
  },
  {
   "cell_type": "markdown",
   "id": "d6c323ae",
   "metadata": {
    "id": "d6c323ae"
   },
   "source": [
    "## Exercise 3. \n",
    "\n",
    "Verilmiş array-in bütün elementlərini float-dan int tipinə çevirin"
   ]
  },
  {
   "cell_type": "code",
   "execution_count": 4,
   "id": "e95d0519",
   "metadata": {
    "id": "e95d0519",
    "outputId": "12656705-e246-4a5e-a097-7ccc7bce71d4"
   },
   "outputs": [
    {
     "name": "stdout",
     "output_type": "stream",
     "text": [
      "[[2 3 1]\n",
      " [4 2 1]]\n"
     ]
    }
   ],
   "source": [
    "a = np.array([[2.5, 3.8, 1.5],\n",
    "              [4.7, 2.9, 1.56]])\n",
    "print(a.astype('int8'))\n",
    "# your code\n",
    "\n",
    "    "
   ]
  },
  {
   "cell_type": "markdown",
   "id": "3289aebb",
   "metadata": {},
   "source": [
    "## Exercise 4.\n",
    "\n",
    "Random müsbət tam ədədlərdən ibarət 2-ölçülü array yaradın və bu array-in mürəkkəb ədədlərini ekrana çap edin"
   ]
  },
  {
   "cell_type": "code",
   "execution_count": 1,
   "id": "0065a254",
   "metadata": {},
   "outputs": [],
   "source": [
    "import numpy as np"
   ]
  },
  {
   "cell_type": "code",
   "execution_count": 3,
   "id": "25b6d055",
   "metadata": {},
   "outputs": [
    {
     "name": "stdout",
     "output_type": "stream",
     "text": [
      "[[24  3 56]\n",
      " [72  0 21]\n",
      " [19 74 41]\n",
      " [10 21 38]\n",
      " [96 20 44]]\n",
      "\n",
      "[24 56 72 21 74 10 21 38 96 20 44]\n"
     ]
    }
   ],
   "source": [
    "# your code\n",
    "from numpy import random\n",
    "random.seed(3)\n",
    "y=random.randint(100, size=(5,3))\n",
    "print(y)\n",
    "print('')\n",
    "arr5=np.array([],dtype='int64')\n",
    "for i in y:\n",
    "    for x in i:\n",
    "        prime=True\n",
    "        for num in range(2,x):\n",
    "            if (x%num==0):\n",
    "                prime=False\n",
    "        if not prime:\n",
    "            arr5=np.append(arr5,x)\n",
    "print(arr5)"
   ]
  },
  {
   "cell_type": "markdown",
   "id": "9c38c7bd",
   "metadata": {
    "id": "9c38c7bd"
   },
   "source": [
    "## Exercise 5. \n",
    "\n",
    "Verilmiş 2-ölçülü array-in cüt indeksdə yerləşən elementləri ilə tək indeksdə yerləşən elementlərinin yerlərini dəyişin. Sonda alınan matrisi və bu matirisin cüt və tək elementlərinin sayını çap edin. Cüt və tək indeks dedikdə matrisin vektor halındakı pozisiyaları nəzərdə tutulur: 0-cı pozisiya olduğu kimi qalsın, 1-2 ilə, 3-4 ilə və yer dəyişsin.\n",
    "\n",
    "![image.png](data:image/png;base64,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)\n",
    "\n",
    "Gözlənilən cavab:\n",
    "\n",
    "[[11, 13, 12],\n",
    "\n",
    " [15, 14, 17],\n",
    "\n",
    "[16, 19, 18]]\n"
   ]
  },
  {
   "cell_type": "code",
   "execution_count": 6,
   "id": "94403553",
   "metadata": {
    "id": "94403553",
    "outputId": "d7e68f23-22e9-4b69-cd1c-9a9039694609"
   },
   "outputs": [
    {
     "name": "stdout",
     "output_type": "stream",
     "text": [
      "[[11 13 12]\n",
      " [15 14 17]\n",
      " [16 19 18]]\n"
     ]
    }
   ],
   "source": [
    "# your code\n",
    "arr7=np.array([[11,12,13],[14,15,16],[17,18,19]])\n",
    "arr8=arr7.ravel()\n",
    "arr9=arr8.copy()\n",
    "arr10=np.where(arr9)\n",
    "for i in arr10[0]:\n",
    "    if i==0:\n",
    "        continue\n",
    "    elif i%2!=0:\n",
    "        arr9[i+1]=arr8[i]\n",
    "    elif i%2==0:\n",
    "        arr9[i-1]=arr8[i]\n",
    "shpp=np.shape(arr7)\n",
    "arr9=np.reshape(arr9, shpp)\n",
    "print(arr9)   "
   ]
  },
  {
   "cell_type": "markdown",
   "id": "a99afc20",
   "metadata": {},
   "source": [
    "## Exercise 6.\n",
    "\n",
    "Verilmiş 2-ölçülü array-in simmetrik olub-olmadığını yoxlayan kod yazın. Simmetrikdirsə - True, deyilsə - False olmalıdır.\n",
    "\n",
    "Simmetrik matris aşağıdakı matrisə deyilir:\n",
    "\n",
    "![image.png](data:image/png;base64,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)"
   ]
  },
  {
   "cell_type": "code",
   "execution_count": 18,
   "id": "e637bd84",
   "metadata": {},
   "outputs": [
    {
     "name": "stdout",
     "output_type": "stream",
     "text": [
      "[[8 9 3 8 8]\n",
      " [0 5 3 9 9]\n",
      " [5 7 6 0 4]\n",
      " [7 8 1 6 2]\n",
      " [2 1 3 5 8]]\n",
      "False\n"
     ]
    }
   ],
   "source": [
    "# your code\n",
    "random.seed(3)\n",
    "dd=random.randint(10, size=(5,5))\n",
    "print(dd)\n",
    "if np.all(dd.ravel()==dd.T.ravel()):\n",
    "    print(True)\n",
    "else:\n",
    "    print(False)\n",
    "    \n",
    "# indexleri de yoxlamaq olardi. Reference: Tahir"
   ]
  },
  {
   "cell_type": "markdown",
   "id": "6b4c938a",
   "metadata": {},
   "source": [
    "## Exercise 7.\n",
    "\n",
    "Verilmiş array-in hər sətirindəki elementlərin cəmini həmin sətrin qarşısında, hər sütundakı elementlərin cəmini isə sütunun sonunda yazan proqram tərtib edin. Sonda alınan matrisi çap edin.\n",
    "\n",
    "![image.png](data:image/png;base64,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)\n",
    "\n",
    "Gözlənilən cavab:\n",
    "\n",
    "[[ 1,  2,  3,  6],\n",
    " \n",
    " [ 4,  5,  6, 15],\n",
    " \n",
    " [ 7,  8,  9, 24],\n",
    "      \n",
    " [12, 15, 18, 45]]\n"
   ]
  },
  {
   "cell_type": "code",
   "execution_count": 28,
   "id": "37901e08",
   "metadata": {},
   "outputs": [
    {
     "name": "stdout",
     "output_type": "stream",
     "text": [
      "[[ 1  2  3  6]\n",
      " [ 4  5  6 15]\n",
      " [ 7  8  9 24]\n",
      " [12 15 18 45]]\n"
     ]
    }
   ],
   "source": [
    "# your code\n",
    "arr123=np.array([[1,2,3],[4,5,6],[7,8,9]])\n",
    "arr1=np.apply_along_axis(sum,axis=1,arr=arr123)\n",
    "arr2=np.apply_along_axis(sum,axis=0,arr=arr123)\n",
    "arr2=np.append(arr2,np.apply_along_axis(sum,axis=0,arr=arr2))\n",
    "arr2=np.reshape(arr2,(1,4))\n",
    "arr3=np.c_[arr123,arr1]\n",
    "arr4=np.r_[arr3,arr2]\n",
    "print(arr4)"
   ]
  },
  {
   "cell_type": "code",
   "execution_count": 78,
   "id": "1242f234",
   "metadata": {
    "scrolled": true
   },
   "outputs": [
    {
     "name": "stdout",
     "output_type": "stream",
     "text": [
      "[[1 2 3]\n",
      " [4 5 6]\n",
      " [7 8 9]]\n",
      "\n",
      "[[ 1  2  3  6]\n",
      " [ 4  5  6 15]\n",
      " [ 7  8  9 24]\n",
      " [12 15 18 45]]\n"
     ]
    }
   ],
   "source": [
    "a=np.array([[ 1, 2, 3],\n",
    "\n",
    "[ 4, 5, 6],\n",
    "\n",
    "[ 7, 8, 9]])\n",
    "\n",
    "\n",
    "\n",
    "\n",
    "row_sums = np.sum(a, axis=1)\n",
    "col_sums=np.sum(a, axis=0)\n",
    "result = np.hstack([a, row_sums.reshape(a.shape[0], 1)])\n",
    "total_sum=sum(row_sums)\n",
    "result2=np.append(col_sums,total_sum)\n",
    "final=np.vstack([result, result2])\n",
    "print(a,end='\\n\\n')\n",
    "print(final)"
   ]
  },
  {
   "cell_type": "code",
   "execution_count": 57,
   "id": "7f45e7ae",
   "metadata": {},
   "outputs": [
    {
     "data": {
      "text/plain": [
       "array([[ 1,  2,  3,  6],\n",
       "       [ 4,  5,  6, 15],\n",
       "       [ 7,  8,  9, 24]])"
      ]
     },
     "execution_count": 57,
     "metadata": {},
     "output_type": "execute_result"
    }
   ],
   "source": [
    "result"
   ]
  },
  {
   "cell_type": "code",
   "execution_count": 59,
   "id": "95ad0c85",
   "metadata": {},
   "outputs": [
    {
     "data": {
      "text/plain": [
       "array([12, 15, 18, 45])"
      ]
     },
     "execution_count": 59,
     "metadata": {},
     "output_type": "execute_result"
    }
   ],
   "source": [
    "result2"
   ]
  },
  {
   "cell_type": "code",
   "execution_count": 77,
   "id": "1beacf4e",
   "metadata": {},
   "outputs": [
    {
     "name": "stdout",
     "output_type": "stream",
     "text": [
      "[[1 2 3]\n",
      " [4 5 6]\n",
      " [7 8 9]]\n",
      "\n",
      "[[ 1  2  3  6]\n",
      " [ 4  5  6 15]\n",
      " [ 7  8  9 24]\n",
      " [12 15 18 45]]\n"
     ]
    }
   ],
   "source": [
    "a=np.array([[ 1, 2, 3],\n",
    "\n",
    "[ 4, 5, 6],\n",
    "\n",
    "[ 7, 8, 9]])\n",
    "\n",
    "\n",
    "\n",
    "\n",
    "row_sums = np.sum(a, axis=1)\n",
    "col_sums=np.sum(a, axis=0)\n",
    "result = np.c_[a, row_sums.reshape(a.shape[0], 1)]\n",
    "total_sum=sum(row_sums)\n",
    "result2=np.append(col_sums,total_sum)\n",
    "final=np.r_[result, [result2]]\n",
    "print(a,end='\\n\\n')\n",
    "print(final)"
   ]
  },
  {
   "cell_type": "code",
   "execution_count": 53,
   "id": "4de9140b",
   "metadata": {},
   "outputs": [
    {
     "data": {
      "text/plain": [
       "array([[ 6],\n",
       "       [15],\n",
       "       [24]])"
      ]
     },
     "execution_count": 53,
     "metadata": {},
     "output_type": "execute_result"
    }
   ],
   "source": [
    "row_sums.reshape(a.shape[0], 1)"
   ]
  },
  {
   "cell_type": "code",
   "execution_count": null,
   "id": "9333ce05",
   "metadata": {},
   "outputs": [],
   "source": [
    "np.hstack()=np.c_[]\n",
    "np.vstack()=np.r_[]"
   ]
  },
  {
   "cell_type": "code",
   "execution_count": 50,
   "id": "8ad9ab24",
   "metadata": {},
   "outputs": [
    {
     "data": {
      "text/plain": [
       "3"
      ]
     },
     "execution_count": 50,
     "metadata": {},
     "output_type": "execute_result"
    }
   ],
   "source": [
    "a.shape[0]"
   ]
  },
  {
   "cell_type": "code",
   "execution_count": 32,
   "id": "8c67bf6b",
   "metadata": {},
   "outputs": [
    {
     "data": {
      "text/plain": [
       "array([ 6, 15, 24])"
      ]
     },
     "execution_count": 32,
     "metadata": {},
     "output_type": "execute_result"
    }
   ],
   "source": [
    "row_sums"
   ]
  },
  {
   "cell_type": "code",
   "execution_count": 33,
   "id": "31c5c286",
   "metadata": {},
   "outputs": [],
   "source": []
  },
  {
   "cell_type": "code",
   "execution_count": 34,
   "id": "5e28c6d1",
   "metadata": {},
   "outputs": [
    {
     "data": {
      "text/plain": [
       "array([12, 15, 18])"
      ]
     },
     "execution_count": 34,
     "metadata": {},
     "output_type": "execute_result"
    }
   ],
   "source": [
    "col_sums"
   ]
  },
  {
   "cell_type": "code",
   "execution_count": 35,
   "id": "6eb328a2",
   "metadata": {},
   "outputs": [
    {
     "data": {
      "text/plain": [
       "array([[ 1,  2,  3,  6],\n",
       "       [ 4,  5,  6, 15],\n",
       "       [ 7,  8,  9, 24]])"
      ]
     },
     "execution_count": 35,
     "metadata": {},
     "output_type": "execute_result"
    }
   ],
   "source": [
    "result"
   ]
  },
  {
   "cell_type": "code",
   "execution_count": 36,
   "id": "b5322e74",
   "metadata": {},
   "outputs": [],
   "source": []
  },
  {
   "cell_type": "code",
   "execution_count": 37,
   "id": "998209fd",
   "metadata": {},
   "outputs": [
    {
     "data": {
      "text/plain": [
       "45"
      ]
     },
     "execution_count": 37,
     "metadata": {},
     "output_type": "execute_result"
    }
   ],
   "source": [
    "total_sum"
   ]
  },
  {
   "cell_type": "code",
   "execution_count": 40,
   "id": "53a2a310",
   "metadata": {},
   "outputs": [],
   "source": []
  },
  {
   "cell_type": "code",
   "execution_count": 46,
   "id": "ddf23f47",
   "metadata": {},
   "outputs": [],
   "source": []
  },
  {
   "cell_type": "code",
   "execution_count": 47,
   "id": "a477c66c",
   "metadata": {},
   "outputs": [
    {
     "data": {
      "text/plain": [
       "array([[ 1,  2,  3,  6],\n",
       "       [ 4,  5,  6, 15],\n",
       "       [ 7,  8,  9, 24],\n",
       "       [12, 15, 18, 45]])"
      ]
     },
     "execution_count": 47,
     "metadata": {},
     "output_type": "execute_result"
    }
   ],
   "source": [
    "final"
   ]
  },
  {
   "cell_type": "code",
   "execution_count": null,
   "id": "cb31a4b9",
   "metadata": {},
   "outputs": [],
   "source": []
  }
 ],
 "metadata": {
  "colab": {
   "name": "Numpy Exercises.ipynb",
   "provenance": []
  },
  "kernelspec": {
   "display_name": "Python 3 (ipykernel)",
   "language": "python",
   "name": "python3"
  },
  "language_info": {
   "codemirror_mode": {
    "name": "ipython",
    "version": 3
   },
   "file_extension": ".py",
   "mimetype": "text/x-python",
   "name": "python",
   "nbconvert_exporter": "python",
   "pygments_lexer": "ipython3",
   "version": "3.10.9"
  }
 },
 "nbformat": 4,
 "nbformat_minor": 5
}
