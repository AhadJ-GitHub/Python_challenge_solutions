{
 "cells": [
  {
   "cell_type": "code",
   "execution_count": 1,
   "id": "16b80898",
   "metadata": {},
   "outputs": [],
   "source": [
    "import numpy as np\n",
    "import pandas as pd \n",
    "import matplotlib.pyplot as plt\n",
    "import seaborn as sns \n",
    "%matplotlib inline"
   ]
  },
  {
   "cell_type": "code",
   "execution_count": 2,
   "id": "75b57c30",
   "metadata": {},
   "outputs": [
    {
     "name": "stdout",
     "output_type": "stream",
     "text": [
      "The result is 600\n"
     ]
    }
   ],
   "source": [
    "# Task 1\n",
    "number1 = 20\n",
    "number2 = 30\n",
    "dotproduct=number1*number2\n",
    "print('The result is',dotproduct)"
   ]
  },
  {
   "cell_type": "code",
   "execution_count": 3,
   "id": "c4641252",
   "metadata": {},
   "outputs": [
    {
     "data": {
      "text/plain": [
       "int"
      ]
     },
     "execution_count": 3,
     "metadata": {},
     "output_type": "execute_result"
    }
   ],
   "source": [
    "# Task 2\n",
    "a=5\n",
    "type(a)"
   ]
  },
  {
   "cell_type": "code",
   "execution_count": 4,
   "id": "0a40fb35",
   "metadata": {},
   "outputs": [
    {
     "name": "stdout",
     "output_type": "stream",
     "text": [
      "I have 1000 dollars so I can buy 3 football for 450.00 dollars.\n"
     ]
    }
   ],
   "source": [
    "# Task 3\n",
    "totalMoney = 1000\n",
    "quantity = 3\n",
    "price = 450\n",
    "print('I have {} dollars so I can buy {} football for {}.00 dollars.'.format(totalMoney,quantity,price))"
   ]
  },
  {
   "cell_type": "code",
   "execution_count": 5,
   "id": "472afb8e",
   "metadata": {},
   "outputs": [
    {
     "name": "stdout",
     "output_type": "stream",
     "text": [
      "I have 1000 dollars so I can buy 3 football for 450.0 dollars.\n"
     ]
    }
   ],
   "source": [
    "# Task 3 another solution\n",
    "totalMoney = 1000\n",
    "quantity = 3\n",
    "price = 450.00\n",
    "print('I have {} dollars so I can buy {} football for {} dollars.'.format(totalMoney,quantity,price))"
   ]
  },
  {
   "cell_type": "code",
   "execution_count": 6,
   "id": "ac2dab39",
   "metadata": {},
   "outputs": [
    {
     "data": {
      "text/plain": [
       "'Hel'"
      ]
     },
     "execution_count": 6,
     "metadata": {},
     "output_type": "execute_result"
    }
   ],
   "source": [
    "# Task 4\n",
    "var='Hello world!'\n",
    "var[0:3]"
   ]
  },
  {
   "cell_type": "code",
   "execution_count": 7,
   "id": "9360fff9",
   "metadata": {
    "scrolled": true
   },
   "outputs": [
    {
     "name": "stdout",
     "output_type": "stream",
     "text": [
      "Hel\n"
     ]
    }
   ],
   "source": [
    "# Task 4 another solution\n",
    "var='Hello world!'\n",
    "print(var[0:3])"
   ]
  },
  {
   "cell_type": "code",
   "execution_count": 8,
   "id": "b9c0dbc6",
   "metadata": {},
   "outputs": [
    {
     "data": {
      "text/plain": [
       "6"
      ]
     },
     "execution_count": 8,
     "metadata": {},
     "output_type": "execute_result"
    }
   ],
   "source": [
    "# Task 5 \n",
    "num1 = 2\n",
    "num2 = 4\n",
    "def addnums(x1,x2):\n",
    "    return x1+x2\n",
    "addnums(num1,num2)"
   ]
  },
  {
   "cell_type": "code",
   "execution_count": 9,
   "id": "119ca7b2",
   "metadata": {},
   "outputs": [
    {
     "data": {
      "text/plain": [
       "[2, 4]"
      ]
     },
     "execution_count": 9,
     "metadata": {},
     "output_type": "execute_result"
    }
   ],
   "source": [
    "# Task 6\n",
    "list1=[1,2,3,4,5]\n",
    "a=[]\n",
    "for x in list1:\n",
    "    if x%2==0:\n",
    "        a.append(x)\n",
    "    else:\n",
    "        x+=1\n",
    "a"
   ]
  },
  {
   "cell_type": "code",
   "execution_count": 10,
   "id": "bc9fccca",
   "metadata": {},
   "outputs": [
    {
     "data": {
      "text/plain": [
       "[2, 4]"
      ]
     },
     "execution_count": 10,
     "metadata": {},
     "output_type": "execute_result"
    }
   ],
   "source": [
    "# Task 6 another solution\n",
    "list1=[1,2,3,4,5]\n",
    "list(filter(lambda x: x%2 == 0,list1))"
   ]
  }
 ],
 "metadata": {
  "kernelspec": {
   "display_name": "Python 3",
   "language": "python",
   "name": "python3"
  },
  "language_info": {
   "codemirror_mode": {
    "name": "ipython",
    "version": 3
   },
   "file_extension": ".py",
   "mimetype": "text/x-python",
   "name": "python",
   "nbconvert_exporter": "python",
   "pygments_lexer": "ipython3",
   "version": "3.8.8"
  }
 },
 "nbformat": 4,
 "nbformat_minor": 5
}
